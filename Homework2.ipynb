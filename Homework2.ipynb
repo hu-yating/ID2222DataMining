{
 "cells": [
  {
   "cell_type": "markdown",
   "id": "falling-greenhouse",
   "metadata": {},
   "source": [
    "# Discovery of Frequent Itemsets and Association Rules"
   ]
  },
  {
   "cell_type": "markdown",
   "id": "published-preview",
   "metadata": {},
   "source": [
    "The problem of discovering association rules between itemsets in a sales transaction database (a set of baskets) includes the following two sub-problems:\n",
    "\n",
    "1. Finding frequent itemsets with support at least s;\n",
    "2. Generating association rules with confidence at least c from the itemsets found in the first step.\n",
    "Remind that an association rule is an implication X → Y, where X and Y are itemsets such that X∩Y=∅. Support of the rule X → Y is the number of transactions that contain X⋃Y. Confidence of the rule X → Y the fraction of transactions containing X⋃Y in all transactions that contain X."
   ]
  },
  {
   "cell_type": "markdown",
   "id": "demonstrated-brain",
   "metadata": {},
   "source": [
    "You are to solve the first sub-problem: to implement the A-Priori algorithm for finding frequent itemsets with support at least s in a dataset of sales transactions. Remind that support of an itemset is the number of transactions containing the itemset. To test and evaluate your implementation, write a program that uses your A-Priori algorithm implementation to discover frequent itemsets with support at least s in a given dataset of sales transactions."
   ]
  },
  {
   "cell_type": "markdown",
   "id": "similar-mayor",
   "metadata": {},
   "source": [
    "Optional task for extra bonus: Solve the second sub-problem, i.e., develop and implement an algorithm for generating association rules between frequent itemsets discovered by using the A-Priori algorithm in a dataset of sales transactions. The rules must have support at least s and confidence at least c, where s and c are given as input parameters."
   ]
  },
  {
   "cell_type": "markdown",
   "id": "stupid-budget",
   "metadata": {},
   "source": [
    "The sale transaction dataset includes generated transactions (baskets) of hashed items"
   ]
  },
  {
   "cell_type": "code",
   "execution_count": null,
   "id": "adjustable-blade",
   "metadata": {},
   "outputs": [],
   "source": [
    "import csv\n",
    "from itertools import combinations"
   ]
  },
  {
   "cell_type": "code",
   "execution_count": null,
   "id": "amended-chester",
   "metadata": {},
   "outputs": [],
   "source": [
    "baskets = [i.strip().split() for i in open(\"T10I4D100K.dat\").readlines()]"
   ]
  },
  {
   "cell_type": "code",
   "execution_count": null,
   "id": "limited-arrival",
   "metadata": {},
   "outputs": [],
   "source": [
    "transactions = {} # Dictionary with count as key, and basket as value\n",
    "count = 0\n",
    "for basket in  baskets:\n",
    "    count += 1\n",
    "    transactions[count] = basket"
   ]
  },
  {
   "cell_type": "code",
   "execution_count": null,
   "id": "intensive-primary",
   "metadata": {},
   "outputs": [],
   "source": [
    "def read_data(file_loc='GroceryStoreDataSet.csv'):\n",
    "    trans = dict()\n",
    "    with open(file_loc) as f:\n",
    "        filedata = csv.reader(f, delimiter=',')\n",
    "        count = 0\n",
    "        for line in filedata:\n",
    "            count += 1\n",
    "            trans[count] = list(set(line))\n",
    "    return trans"
   ]
  },
  {
   "cell_type": "code",
   "execution_count": null,
   "id": "treated-validity",
   "metadata": {},
   "outputs": [],
   "source": [
    "read_data(\"GroceryStoreDataSet.csv\")"
   ]
  },
  {
   "cell_type": "code",
   "execution_count": null,
   "id": "critical-trainer",
   "metadata": {},
   "outputs": [],
   "source": [
    "# Count the frequency of each item.\n",
    "def freq(items_lst, trans):\n",
    "    items_counts = dict() # Dictionary of item and its frequency\n",
    "    for i in items_lst: # Check for every item\n",
    "        temp_i = {i}\n",
    "        for j in trans.items(): # and basket\n",
    "            if temp_i.issubset(set(j[1])): # if item is in basket\n",
    "                if i in items_counts:\n",
    "                    items_counts[i] += 1 # if already spotted, add 1 to count\n",
    "                else:\n",
    "                    items_counts[i] = 1 # if not spotted yet, set count to 1\n",
    "    return items_counts"
   ]
  },
  {
   "cell_type": "code",
   "execution_count": null,
   "id": "falling-thomas",
   "metadata": {},
   "outputs": [],
   "source": [
    "# Form association rules form support.\n",
    "\n",
    "def association_rules(items_grater_then_min_support):\n",
    "    rules = []\n",
    "    dict_rules = {}\n",
    "    for i in items_grater_then_min_support:\n",
    "        dict_rules = {}\n",
    "        if type(i) != type(str()):\n",
    "            i = list(i)\n",
    "            temp_i = i[:]\n",
    "            for j in range(len(i)):\n",
    "                k = temp_i[j]\n",
    "                del temp_i[j]\n",
    "                dict_rules[k] = temp_i\n",
    "                temp_i = i[:]\n",
    "        rules.append(dict_rules)\n",
    "    temp = []\n",
    "    for i in rules:\n",
    "        for j in i.items():\n",
    "            if type(j[1]) != type(str()):\n",
    "                temp.append({tuple(j[1])[0]: j[0]})\n",
    "            else:\n",
    "                temp.append({j[1]: j[0]})\n",
    "    rules.extend(temp)\n",
    "    return rules"
   ]
  },
  {
   "cell_type": "code",
   "execution_count": null,
   "id": "latest-dominant",
   "metadata": {},
   "outputs": [],
   "source": [
    "# Find the confidence of those association rules and take only rules which are greater than the minimum confidence.\n",
    "\n",
    "def confidence(associations, d, min_confidence):\n",
    "    ans = {}\n",
    "    for i in associations:\n",
    "        for j in i.items():\n",
    "            if type(j[0]) == type(str()):\n",
    "                left = {j[0]}\n",
    "            else:\n",
    "                left = set(j[0])\n",
    "            if type(j[1]) == type(str()):\n",
    "                right = {j[1]}\n",
    "            else:\n",
    "                right = set(j[1])\n",
    "\n",
    "            for k in d:\n",
    "                if type(k) != type(str()):\n",
    "                    if left.union(right) - set(k) == set():\n",
    "                        up = d[k]\n",
    "                    if len(right) == len(set(k)) and right - set(k) == set():\n",
    "                        down = d[k]\n",
    "                else:\n",
    "                    if len(right) >= len({k}):\n",
    "                        if right - {k} == set():\n",
    "                            down = d[k]\n",
    "                        elif len(right) <= len({k}):\n",
    "                            if {k} - right == set():    \n",
    "                                down = d[k]\n",
    "            if up/down >= min_confidence:\n",
    "                ans[tuple(left)[0]] = right, up/down, up, down\n",
    "    return ans"
   ]
  },
  {
   "cell_type": "code",
   "execution_count": null,
   "id": "wireless-retirement",
   "metadata": {},
   "outputs": [],
   "source": [
    "def support(items_counts, trans):\n",
    "    support = dict()\n",
    "    total_trans = len(trans)\n",
    "    for i in items_counts:\n",
    "        support[i] = items_counts[i]/total_trans\n",
    "    return support"
   ]
  },
  {
   "cell_type": "code",
   "execution_count": null,
   "id": "pursuant-consultancy",
   "metadata": {},
   "outputs": [],
   "source": [
    "# Here is our main function that operates above code and here you can change the minimum support and confidence.\n",
    "\n",
    "def main(min_support, min_confidence, file_loc):\n",
    "    trans = read_data()\n",
    "    number_of_trans = [len(i) for i in trans.values()]\n",
    "    items_lst = set()\n",
    "\n",
    "    itemcount_track = list()\n",
    "    \n",
    "    for i in trans.values():\n",
    "        for j in i:\n",
    "            items_lst.add(j)\n",
    "\n",
    "    store_item_lst = list(items_lst)[:]\n",
    "    items_grater_then_min_support = list()\n",
    "    items_counts = frequence(items_lst, trans)\n",
    "    itemcount_track.append(items_counts)\n",
    "    items_grater_then_min_support.append({j[0]:j[1] for j in support(items_counts, trans).items() if j[1]>min_support})\n",
    "\n",
    "    for i in range(2, max(number_of_trans)+1):\n",
    "        item_list = combinations(items_lst, i)\n",
    "        items_counts = frequence(item_list, trans, check=True)\n",
    "        itemcount_track.append(items_counts)\n",
    "        if list({j[0]:j[1] for j in support(items_counts, trans).items() if j[1]>min_support}.keys()) != []:\n",
    "            items_grater_then_min_support.append({j[0]:j[1] for j in support(items_counts, trans).items() if j[1]>min_support})\n",
    "\n",
    "    d = {}\n",
    "    {d.update(i) for i in itemcount_track}\n",
    "    associations = association_rules(items_grater_then_min_support[len(items_grater_then_min_support)-1])\n",
    "    associations_grater_then_confidene = confidence(associations, d, min_confidence)\n",
    "\n",
    "    print(associations_grater_then_confidene)\n",
    "\n",
    "main(0.01, 0.7, 'GroceryStoreDataSet.csv')"
   ]
  },
  {
   "cell_type": "code",
   "execution_count": null,
   "id": "extended-stuff",
   "metadata": {},
   "outputs": [],
   "source": [
    "trans = transactions # dictionary of transactions where key is count and value is basket\n",
    "number_of_trans = [len(i) for i in trans.values()] # size of each basket\n",
    "items_lst = set()"
   ]
  },
  {
   "cell_type": "code",
   "execution_count": null,
   "id": "usual-league",
   "metadata": {},
   "outputs": [],
   "source": [
    "itemcount_track = list()\n",
    "\n",
    "for i in trans.values():\n",
    "    for j in i:\n",
    "        items_lst.add(j) # set of items from all baskets"
   ]
  },
  {
   "cell_type": "code",
   "execution_count": null,
   "id": "worldwide-emerald",
   "metadata": {},
   "outputs": [],
   "source": [
    "store_item_lst = list(items_lst) # list of unique items from all baskets\n",
    "items_greater_than_min_support = list()"
   ]
  },
  {
   "cell_type": "code",
   "execution_count": null,
   "id": "transsexual-consciousness",
   "metadata": {},
   "outputs": [],
   "source": [
    "items_counts = freq(items_lst, trans)\n",
    "itemcount_track.append(items_counts)"
   ]
  },
  {
   "cell_type": "code",
   "execution_count": null,
   "id": "injured-moment",
   "metadata": {},
   "outputs": [],
   "source": [
    "def support(items_counts, trans):\n",
    "    support = dict()\n",
    "    total_trans = len(trans)\n",
    "    for i in items_counts:\n",
    "        support[i] = items_counts[i]/total_trans # Calculate support for each unique item\n",
    "    return support"
   ]
  },
  {
   "cell_type": "code",
   "execution_count": null,
   "id": "defined-excerpt",
   "metadata": {},
   "outputs": [],
   "source": [
    "for j in support(items_counts, trans).items():\n",
    "    print(j)"
   ]
  },
  {
   "cell_type": "code",
   "execution_count": null,
   "id": "legislative-links",
   "metadata": {},
   "outputs": [],
   "source": [
    "min_support = 0.01 # Set support threshold\n",
    "{j[0]:j[1] for j in support(items_counts, trans).items() if j[1]>min_support} # filter"
   ]
  },
  {
   "cell_type": "code",
   "execution_count": null,
   "id": "chinese-warren",
   "metadata": {},
   "outputs": [],
   "source": [
    "items_greater_than_min_support = [{j[0]:j[1] for j in support(items_counts, trans).items() if j[1]>min_support}]\n",
    "items_greater_than_min_support"
   ]
  },
  {
   "cell_type": "code",
   "execution_count": null,
   "id": "respective-medicare",
   "metadata": {},
   "outputs": [],
   "source": [
    "items_lst"
   ]
  },
  {
   "cell_type": "code",
   "execution_count": null,
   "id": "first-riverside",
   "metadata": {},
   "outputs": [],
   "source": [
    "for i in combinations(items_lst, 3):\n",
    "    print(i)"
   ]
  },
  {
   "cell_type": "code",
   "execution_count": null,
   "id": "adverse-rhythm",
   "metadata": {},
   "outputs": [],
   "source": [
    "for i in range(2, max(number_of_trans)+1): \n",
    "    item_list = combinations(items_lst, i) # make all possible combinations where i is length of tuple\n",
    "    items_counts = freq(item_list, trans)\n",
    "    itemcount_track.append(items_counts)\n",
    "    if list({j[0]:j[1] for j in support(items_counts, trans).items() if j[1]>min_support}.keys()) != []:\n",
    "        items_grater_then_min_support.append({j[0]:j[1] for j in support(items_counts, trans).items() if j[1]>min_support})"
   ]
  },
  {
   "cell_type": "code",
   "execution_count": null,
   "id": "personal-internet",
   "metadata": {},
   "outputs": [],
   "source": [
    "d = {}\n",
    "{d.update(i) for i in itemcount_track}\n",
    "associations = association_rules(items_grater_then_min_support[len(items_grater_then_min_support)-1])\n",
    "associations_grater_then_confidene = confidence(associations, d, min_confidence)\n",
    "\n",
    "print(associations_grater_then_confidene)"
   ]
  }
 ],
 "metadata": {
  "kernelspec": {
   "display_name": "Python [conda env:myenv] *",
   "language": "python",
   "name": "conda-env-myenv-py"
  },
  "language_info": {
   "codemirror_mode": {
    "name": "ipython",
    "version": 3
   },
   "file_extension": ".py",
   "mimetype": "text/x-python",
   "name": "python",
   "nbconvert_exporter": "python",
   "pygments_lexer": "ipython3",
   "version": "3.8.5"
  }
 },
 "nbformat": 4,
 "nbformat_minor": 5
}
