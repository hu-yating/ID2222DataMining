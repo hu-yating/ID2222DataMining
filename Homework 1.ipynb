{
 "cells": [
  {
   "cell_type": "markdown",
   "id": "excellent-cheese",
   "metadata": {},
   "source": [
    "# Finding Similar Items: Textually Similar Documents"
   ]
  },
  {
   "cell_type": "code",
   "execution_count": 12,
   "id": "advance-winning",
   "metadata": {},
   "outputs": [],
   "source": [
    "from numpy import unique\n",
    "from pandas import read_csv\n",
    "url = 'https://storage.googleapis.com/dataset-uploader/bbc/bbc-text.csv'\n",
    "df = read_csv(url)"
   ]
  },
  {
   "cell_type": "code",
   "execution_count": 16,
   "id": "classified-greene",
   "metadata": {},
   "outputs": [
    {
     "data": {
      "text/html": [
       "<div>\n",
       "<style scoped>\n",
       "    .dataframe tbody tr th:only-of-type {\n",
       "        vertical-align: middle;\n",
       "    }\n",
       "\n",
       "    .dataframe tbody tr th {\n",
       "        vertical-align: top;\n",
       "    }\n",
       "\n",
       "    .dataframe thead th {\n",
       "        text-align: right;\n",
       "    }\n",
       "</style>\n",
       "<table border=\"1\" class=\"dataframe\">\n",
       "  <thead>\n",
       "    <tr style=\"text-align: right;\">\n",
       "      <th></th>\n",
       "      <th>category</th>\n",
       "      <th>text</th>\n",
       "    </tr>\n",
       "  </thead>\n",
       "  <tbody>\n",
       "    <tr>\n",
       "      <th>0</th>\n",
       "      <td>tech</td>\n",
       "      <td>tv future in the hands of viewers with home th...</td>\n",
       "    </tr>\n",
       "    <tr>\n",
       "      <th>1</th>\n",
       "      <td>business</td>\n",
       "      <td>worldcom boss  left books alone  former worldc...</td>\n",
       "    </tr>\n",
       "    <tr>\n",
       "      <th>2</th>\n",
       "      <td>sport</td>\n",
       "      <td>tigers wary of farrell  gamble  leicester say ...</td>\n",
       "    </tr>\n",
       "    <tr>\n",
       "      <th>3</th>\n",
       "      <td>sport</td>\n",
       "      <td>yeading face newcastle in fa cup premiership s...</td>\n",
       "    </tr>\n",
       "    <tr>\n",
       "      <th>4</th>\n",
       "      <td>entertainment</td>\n",
       "      <td>ocean s twelve raids box office ocean s twelve...</td>\n",
       "    </tr>\n",
       "  </tbody>\n",
       "</table>\n",
       "</div>"
      ],
      "text/plain": [
       "        category                                               text\n",
       "0           tech  tv future in the hands of viewers with home th...\n",
       "1       business  worldcom boss  left books alone  former worldc...\n",
       "2          sport  tigers wary of farrell  gamble  leicester say ...\n",
       "3          sport  yeading face newcastle in fa cup premiership s...\n",
       "4  entertainment  ocean s twelve raids box office ocean s twelve..."
      ]
     },
     "execution_count": 16,
     "metadata": {},
     "output_type": "execute_result"
    }
   ],
   "source": [
    "df.head()"
   ]
  },
  {
   "cell_type": "markdown",
   "id": "competitive-large",
   "metadata": {},
   "source": [
    "A class **Shingling** that constructs k–shingles of a given length k (e.g., 10) from a given document, computes a hash value for each unique shingle, and represents the document in the form of an ordered set of its hashed k-shingles."
   ]
  },
  {
   "cell_type": "markdown",
   "id": "physical-beads",
   "metadata": {},
   "source": [
    "Shingling: Convert documents to sets. \n",
    "Given the document, its k-shingle is said to be all the possible consecutive substring of length k found within it."
   ]
  },
  {
   "cell_type": "code",
   "execution_count": 32,
   "id": "banner-edgar",
   "metadata": {},
   "outputs": [],
   "source": [
    "import io\n",
    "\n",
    "sample_text = io.StringIO(\"This is a sample text. It is a ordinary string but simulated to act as the contents of a file\")\n",
    "\n",
    "\n",
    "def wShingleOneFile(inputFile, k): \n",
    "    for line in inputFile:\n",
    "        words = line.split() \n",
    "        return [words[i:i + k] for i in range(len(words) - k + 1)]"
   ]
  },
  {
   "cell_type": "code",
   "execution_count": 33,
   "id": "heard-booth",
   "metadata": {},
   "outputs": [
    {
     "name": "stdout",
     "output_type": "stream",
     "text": [
      "[['This', 'is', 'a', 'sample', 'text.', 'It', 'is', 'a', 'ordinary', 'string'], ['is', 'a', 'sample', 'text.', 'It', 'is', 'a', 'ordinary', 'string', 'but'], ['a', 'sample', 'text.', 'It', 'is', 'a', 'ordinary', 'string', 'but', 'simulated'], ['sample', 'text.', 'It', 'is', 'a', 'ordinary', 'string', 'but', 'simulated', 'to'], ['text.', 'It', 'is', 'a', 'ordinary', 'string', 'but', 'simulated', 'to', 'act'], ['It', 'is', 'a', 'ordinary', 'string', 'but', 'simulated', 'to', 'act', 'as'], ['is', 'a', 'ordinary', 'string', 'but', 'simulated', 'to', 'act', 'as', 'the'], ['a', 'ordinary', 'string', 'but', 'simulated', 'to', 'act', 'as', 'the', 'contents'], ['ordinary', 'string', 'but', 'simulated', 'to', 'act', 'as', 'the', 'contents', 'of'], ['string', 'but', 'simulated', 'to', 'act', 'as', 'the', 'contents', 'of', 'a'], ['but', 'simulated', 'to', 'act', 'as', 'the', 'contents', 'of', 'a', 'file']]\n"
     ]
    }
   ],
   "source": [
    "print(wShingleOneFile(sample_text, 10))"
   ]
  },
  {
   "cell_type": "markdown",
   "id": "handy-killing",
   "metadata": {},
   "source": [
    "A class **CompareSets** that computes the Jaccard similarity of two sets of integers – two sets of hashed shingles.\n"
   ]
  },
  {
   "cell_type": "markdown",
   "id": "northern-shooting",
   "metadata": {},
   "source": [
    "A class **MinHashing** that builds a minHash signature (in the form of a vector or a set) of a given length n from a given set of integers (a set of hashed shingles)."
   ]
  },
  {
   "cell_type": "markdown",
   "id": "returning-rainbow",
   "metadata": {},
   "source": [
    "A class **CompareSignatures** that estimates similarity of two integer vectors – minhash signatures – as a fraction of components, in which they agree."
   ]
  },
  {
   "cell_type": "markdown",
   "id": "invisible-chancellor",
   "metadata": {},
   "source": [
    "(Optional task for extra 2 bonus) A class **LSH** that implements the LSH technique: given a collection of minhash signatures (integer vectors) and a similarity threshold t, the LSH class (using banding and hashing) finds candidate pairs of signatures agreeing on at least fraction t of their components."
   ]
  },
  {
   "cell_type": "code",
   "execution_count": null,
   "id": "absolute-clothing",
   "metadata": {},
   "outputs": [],
   "source": []
  }
 ],
 "metadata": {
  "kernelspec": {
   "display_name": "Python [conda env:myenv] *",
   "language": "python",
   "name": "conda-env-myenv-py"
  },
  "language_info": {
   "codemirror_mode": {
    "name": "ipython",
    "version": 3
   },
   "file_extension": ".py",
   "mimetype": "text/x-python",
   "name": "python",
   "nbconvert_exporter": "python",
   "pygments_lexer": "ipython3",
   "version": "3.8.5"
  }
 },
 "nbformat": 4,
 "nbformat_minor": 5
}
