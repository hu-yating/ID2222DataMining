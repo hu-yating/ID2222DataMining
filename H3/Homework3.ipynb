{
 "cells": [
  {
   "cell_type": "markdown",
   "id": "guilty-justice",
   "metadata": {},
   "source": [
    "# Homework 3: Mining Data Streams"
   ]
  },
  {
   "cell_type": "markdown",
   "id": "secure-software",
   "metadata": {},
   "source": [
    "### By Group 16"
   ]
  },
  {
   "cell_type": "markdown",
   "id": "alleged-stanley",
   "metadata": {},
   "source": [
    "In this project, we implement a streaming graph processing algorithm from the paper Stefani, L. D., Epasto, A., Riondato, M., & Upfal, E. (2017). Triest: Counting local and global triangles in fully dynamic streams with fixed memory size. ACM Transactions on Knowledge Discovery from Data (TKDD), 11(4), 1-50 (link:http://www.kdd.org/kdd2016/papers/files/rfp0465-de-stefaniA.pdf). First the reservoir sampling algorithm described in the paper is implemented. Then, the streaming graph algorithms, Trièst-Base and Trièst-Base improved, from the paper that make use of the algorithm implemented in the previous step. \n",
    "\n",
    "In order to ensure that our implementation is correct, we test out implementation with the following datasets:"
   ]
  },
  {
   "cell_type": "markdown",
   "id": "constitutional-ticket",
   "metadata": {},
   "source": [
    "#### Notre Dame \n",
    "Nodes represent pages from University of Notre Dame (domain nd.edu) and directed edges represent hyperlinks between them. The data was collected in 1999 by Albert, Jeong and Barabasi.\n",
    "\n",
    "| Dataset statistics               |                 |\n",
    "|----------------------------------|-----------------|\n",
    "| Nodes                            | 325729          |\n",
    "| Edges                            | 1497134         |\n",
    "| Nodes in largest WCC             | 325729 (1.000)  |\n",
    "| Edges in largest WCC             | 1497134 (1.000) |\n",
    "| Nodes in largest SCC             | 53968 (0.166)   |\n",
    "| Edges in largest SCC             | 304685 (0.204)  |\n",
    "| Average clustering coefficient   | 0.2346          |\n",
    "| Number of triangles              | 8910005         |\n",
    "| Fraction of closed triangles     | 0.03104         |\n",
    "| Diameter (longest shortest path) | 46              |\n",
    "| 90-percentile effective diameter | 9.4             |"
   ]
  },
  {
   "cell_type": "code",
   "execution_count": 1,
   "id": "attached-linux",
   "metadata": {},
   "outputs": [],
   "source": [
    "import pandas as pd\n",
    "data = pd.read_csv('web-NotreDame.txt', sep=\"\\t\", header=3)"
   ]
  },
  {
   "cell_type": "code",
   "execution_count": 2,
   "id": "spread-issue",
   "metadata": {},
   "outputs": [],
   "source": [
    "# Selfloops\n",
    "selfloops = [x for x in data.to_numpy() if x[0]==x[1]]"
   ]
  },
  {
   "cell_type": "code",
   "execution_count": 3,
   "id": "everyday-sport",
   "metadata": {},
   "outputs": [],
   "source": [
    "edges_no_selfloops = [frozenset(x) for x in data.to_numpy() if x[0]!=x[1]] # self-loops filtered out"
   ]
  },
  {
   "cell_type": "code",
   "execution_count": 4,
   "id": "ada232a4",
   "metadata": {},
   "outputs": [],
   "source": [
    "data_edges = list(set(edges_no_selfloops)) # directed changed to undirected "
   ]
  },
  {
   "cell_type": "markdown",
   "id": "organized-pioneer",
   "metadata": {},
   "source": [
    "#### General Relativity and Quantum Cosmology \n",
    "\n",
    "Arxiv GR-QC (General Relativity and Quantum Cosmology) collaboration network is from the e-print arXiv and covers scientific collaborations between authors papers submitted to General Relativity and Quantum Cosmology category. If an author i co-authored a paper with author j, the graph contains a undirected edge from i to j. If the paper is co-authored by k authors this generates a completely connected (sub)graph on k nodes.\n",
    "\n",
    "The data covers papers in the period from January 1993 to April 2003 (124 months). It begins within a few months of the inception of the arXiv, and thus represents essentially the complete history of its GR-QC section.\n",
    "\n",
    "| Dataset statistics               |               |\n",
    "|----------------------------------|---------------|\n",
    "| Nodes                            | 5242          |\n",
    "| Edges                            | 14496         |\n",
    "| Nodes in largest WCC             | 4158 (0.793)  |\n",
    "| Edges in largest WCC             | 13428 (0.926) |\n",
    "| Nodes in largest SCC             | 4158 (0.793)  |\n",
    "| Edges in largest SCC             | 13428 (0.926) |\n",
    "| Average clustering coefficient   | 0.5296        |\n",
    "| Number of triangles              | 48260         |\n",
    "| Fraction of closed triangles     | 0.3619        |\n",
    "| Diameter (longest shortest path) | 17            |\n",
    "| 90-percentile effective diameter | 7.6           |"
   ]
  },
  {
   "cell_type": "code",
   "execution_count": 5,
   "id": "coated-hostel",
   "metadata": {},
   "outputs": [],
   "source": [
    "# Try on smaller dataset\n",
    "df = pd.read_csv('CA-GrQc.txt', sep=\"\\t\", header=3)\n",
    "edges_no_selfloops = [frozenset(x) for x in df.to_numpy() if x[0]!=x[1]] # self-loops filtered out\n",
    "df_edges = list(set(edges_no_selfloops)) # directed changed to undirected "
   ]
  },
  {
   "cell_type": "markdown",
   "id": "sufficient-figure",
   "metadata": {},
   "source": [
    "### Triest-Base"
   ]
  },
  {
   "cell_type": "code",
   "execution_count": 6,
   "id": "a11005a8",
   "metadata": {},
   "outputs": [],
   "source": [
    "import random\n",
    "\n",
    "class triest:\n",
    "    def __init__(self, M):\n",
    "        \"\"\" Initialization\n",
    "        M (int): max edges in edge sample S (at least 6)\n",
    "        t (int): time t in the stream t>=0\n",
    "        tau (int): global triangle counter\n",
    "        localCounter (set): local counter for subset nodes u in V^t \n",
    "        S (set): edge sample up to M edges from stream\n",
    "        \"\"\"\n",
    "        self.M = M\n",
    "        self.t = 0\n",
    "        self.tau = 0\n",
    "        self.localCounter = {}\n",
    "        self.S = set()\n",
    "        \n",
    "    def reservoir(self,e):\n",
    "        \"\"\" Standard reservoir sampling\n",
    "        e (frozenset): one undirected edge {a,b} from node a to node b\n",
    "        Returns \n",
    "        bool: False if edge sample S is not modified, True otherwise \n",
    "        \"\"\" \n",
    "        if self.t <= self.M:\n",
    "            return True;\n",
    "        elif random.random() <= self.M / self.t:\n",
    "            removeEdge = random.sample(self.S, 1)[0]  \n",
    "            self.S.remove(removeEdge)\n",
    "            self.updateCounters(0,removeEdge)\n",
    "            return True\n",
    "        return False\n",
    "\n",
    "    def updateCounters(self,operation, newEdge):  \n",
    "        \"\"\" Increment/decrement counters after each insertion/removal\n",
    "        operation (int): 1 if insertion (+), 0 if removal (-)\n",
    "        newEdge (list of one frozenset): edge to insert/remove\n",
    "        Returns\n",
    "        Updated counters\n",
    "        \"\"\"\n",
    "        Nu = set() # Neighbourhood of u in G^s\n",
    "        Nv = set() # Neighbourhood of v in G^s\n",
    "        l = list(newEdge)   #to ensure order\n",
    "\n",
    "        for x in self.S:   #for each set in S\n",
    "            if l[0] in x:       #first element is u and second v\n",
    "                temp = set(x)   #remove u from xES to get its neighbor\n",
    "                temp.remove(l[0]) #cannot remove in frozenset\n",
    "                Nu.add(temp.pop())  #add the one element there is in temp\n",
    "                \n",
    "            elif l[1] in x:  #no duplicates no loops, (not adding something to triangles)\n",
    "                temp = set(x)\n",
    "                temp.remove(l[1])\n",
    "                Nv.add(temp.pop())\n",
    "        \n",
    "        Nuv = Nu.intersection(Nv) # intersection of neighbourhoods u and v in G^s\n",
    "        for c in Nuv:\n",
    "            if operation == 1:\n",
    "                self.tau +=1\n",
    "                self.localCounter[c] = self.localCounter.get(c,0) + 1 # by one rest by |Nuv|\n",
    "                self.localCounter[l[0]] = self.localCounter.get(l[0],0) + 1\n",
    "                self.localCounter[l[1]] = self.localCounter.get(l[1],0) + 1\n",
    "            elif operation ==0:\n",
    "                if self.tau>0:\n",
    "                    self.tau-=1\n",
    "                self.localCounter[c] = self.localCounter.get(c) - 1 # by one rest by |Nuv|\n",
    "                self.localCounter[l[0]] = self.localCounter.get(l[0],0) - 1\n",
    "                #print(\"deletion\",l[0],self.localCounter)\n",
    "                self.localCounter[l[1]] = self.localCounter.get(l[1],0) - 1\n",
    "                #print(\"deletion\",l[1],self.localCounter)\n",
    "                if self.localCounter[l[0]] <= 0: \n",
    "                    del self.localCounter[l[0]]\n",
    "                if self.localCounter[l[1]] <= 0:\n",
    "                    del self.localCounter[l[1]]\n",
    "                if self.localCounter[c] <= 0:\n",
    "                    del self.localCounter[c]\n",
    "                    \n",
    "    def call(self, stream):\n",
    "        \"\"\" Triest-base algo\n",
    "        stream (list of frozensets): edge stream \n",
    "        Returns dictionary with:\n",
    "            tau (int): global counter with key globalcount\n",
    "            localCounter (set): local counter with key localcount\n",
    "            estimation (int): estimation global triangle count with key estimation\n",
    "        \"\"\"\n",
    "        #time_count = 0 # to check progress\n",
    "        for ed in stream:\n",
    "            #time_count +=1 # to check progress\n",
    "            #print(f\"{time_count}/{len(stream)}...\") # to check progress\n",
    "            self.t+=1\n",
    "            if self.reservoir(ed): # if True, i.e. S will be modified\n",
    "                self.updateCounters(1,ed) # update counters\n",
    "                self.S.add(ed) # add edge to edge sample S\n",
    "        epsilon = max(1, (self.t*(self.t-1)*(self.t*-2))/(self.M*(self.M-1)*(self.M*-2))) \n",
    "        estimation = epsilon*self.tau # estimation global triangle count\n",
    "        return {\"globalcount\": self.tau, \"localcount\":self.localCounter, \"estimation\":estimation} "
   ]
  },
  {
   "cell_type": "code",
   "execution_count": 7,
   "id": "fiscal-broadcasting",
   "metadata": {},
   "outputs": [],
   "source": [
    "# Test set with 5 nodes, 8 edges, 5 triangles\n",
    "# 1-4-5, 1-4-2, 1-2-3, 1-2-5, 2-4-5\n",
    "edges = [frozenset({1,2}),frozenset({1,3}),frozenset({1,5}),frozenset({1,4}),\n",
    "         frozenset({2,3}),frozenset({2,5}),frozenset({2,4}),frozenset({4,5})]"
   ]
  },
  {
   "cell_type": "code",
   "execution_count": 8,
   "id": "norman-target",
   "metadata": {
    "scrolled": false
   },
   "outputs": [
    {
     "data": {
      "text/plain": [
       "{'globalcount': 5,\n",
       " 'localcount': {1: 4, 2: 4, 3: 1, 5: 3, 4: 3},\n",
       " 'estimation': 5}"
      ]
     },
     "execution_count": 8,
     "metadata": {},
     "output_type": "execute_result"
    }
   ],
   "source": [
    "result = triest(len(edges)).call(edges)\n",
    "result"
   ]
  },
  {
   "cell_type": "markdown",
   "id": "infrared-frequency",
   "metadata": {},
   "source": [
    "#### Number of triangles is 48260"
   ]
  },
  {
   "cell_type": "code",
   "execution_count": 9,
   "id": "english-vocabulary",
   "metadata": {},
   "outputs": [],
   "source": [
    "globalcounts = []\n",
    "estimations = []\n",
    "times = []"
   ]
  },
  {
   "cell_type": "code",
   "execution_count": 10,
   "id": "pregnant-region",
   "metadata": {
    "scrolled": true
   },
   "outputs": [
    {
     "name": "stdout",
     "output_type": "stream",
     "text": [
      "--- 17.50273370742798 seconds ---\n",
      "48260 48260\n"
     ]
    }
   ],
   "source": [
    "import time\n",
    "start_time = time.time()\n",
    "result = triest(len(df_edges)).call(df_edges)\n",
    "print(\"--- %s seconds ---\" % (time.time() - start_time))\n",
    "print(result[\"globalcount\"], result[\"estimation\"])\n",
    "globalcounts.append(result[\"globalcount\"])\n",
    "estimations.append(result[\"estimation\"])\n",
    "times.append(round((time.time() - start_time),5))"
   ]
  },
  {
   "cell_type": "code",
   "execution_count": 11,
   "id": "sorted-hardware",
   "metadata": {
    "scrolled": false
   },
   "outputs": [
    {
     "name": "stdout",
     "output_type": "stream",
     "text": [
      "--- 18.85434579849243 seconds ---\n",
      "43366 48021.07119654726\n"
     ]
    }
   ],
   "source": [
    "start_time = time.time()\n",
    "result = triest(14000).call(df_edges)\n",
    "print(\"--- %s seconds ---\" % (time.time() - start_time))\n",
    "print(result[\"globalcount\"], result[\"estimation\"])\n",
    "globalcounts.append(result[\"globalcount\"])\n",
    "estimations.append(result[\"estimation\"])\n",
    "times.append(round((time.time() - start_time),5))"
   ]
  },
  {
   "cell_type": "code",
   "execution_count": 12,
   "id": "norman-costume",
   "metadata": {},
   "outputs": [
    {
     "name": "stdout",
     "output_type": "stream",
     "text": [
      "--- 22.559886932373047 seconds ---\n",
      "15796 47998.329156771484\n"
     ]
    }
   ],
   "source": [
    "start_time = time.time()\n",
    "result = triest(10000).call(df_edges)\n",
    "print(\"--- %s seconds ---\" % (time.time() - start_time))\n",
    "print(result[\"globalcount\"], result[\"estimation\"])\n",
    "globalcounts.append(result[\"globalcount\"])\n",
    "estimations.append(result[\"estimation\"])\n",
    "times.append(round((time.time() - start_time),5))"
   ]
  },
  {
   "cell_type": "code",
   "execution_count": 13,
   "id": "international-mobility",
   "metadata": {},
   "outputs": [
    {
     "name": "stdout",
     "output_type": "stream",
     "text": [
      "--- 11.07068681716919 seconds ---\n",
      "2025 49230.862572012\n"
     ]
    }
   ],
   "source": [
    "start_time = time.time()\n",
    "result = triest(5000).call(df_edges)\n",
    "print(\"--- %s seconds ---\" % (time.time() - start_time))\n",
    "print(result[\"globalcount\"], result[\"estimation\"])\n",
    "globalcounts.append(result[\"globalcount\"])\n",
    "estimations.append(result[\"estimation\"])\n",
    "times.append(round((time.time() - start_time),5))"
   ]
  },
  {
   "cell_type": "code",
   "execution_count": 14,
   "id": "bridal-green",
   "metadata": {},
   "outputs": [
    {
     "name": "stdout",
     "output_type": "stream",
     "text": [
      "--- 0.9893519878387451 seconds ---\n",
      "12 36496.50865643243\n"
     ]
    }
   ],
   "source": [
    "start_time = time.time()\n",
    "result = triest(1000).call(df_edges)\n",
    "print(\"--- %s seconds ---\" % (time.time() - start_time))\n",
    "print(result[\"globalcount\"], result[\"estimation\"])\n",
    "globalcounts.append(result[\"globalcount\"])\n",
    "estimations.append(result[\"estimation\"])\n",
    "times.append(round((time.time() - start_time),5))"
   ]
  },
  {
   "cell_type": "code",
   "execution_count": 15,
   "id": "defensive-increase",
   "metadata": {},
   "outputs": [
    {
     "name": "stdout",
     "output_type": "stream",
     "text": [
      "--- 0.302501916885376 seconds ---\n",
      "2 48710.771072513024\n"
     ]
    }
   ],
   "source": [
    "start_time = time.time()\n",
    "result = triest(500).call(df_edges)\n",
    "print(\"--- %s seconds ---\" % (time.time() - start_time))\n",
    "print(result[\"globalcount\"], result[\"estimation\"])\n",
    "globalcounts.append(result[\"globalcount\"])\n",
    "estimations.append(result[\"estimation\"])\n",
    "times.append(round((time.time() - start_time),5))"
   ]
  },
  {
   "cell_type": "code",
   "execution_count": 16,
   "id": "optimum-kruger",
   "metadata": {},
   "outputs": [
    {
     "name": "stdout",
     "output_type": "stream",
     "text": [
      "--- 0.025968551635742188 seconds ---\n",
      "0 0.0\n"
     ]
    }
   ],
   "source": [
    "start_time = time.time()\n",
    "result = triest(100).call(df_edges)\n",
    "print(\"--- %s seconds ---\" % (time.time() - start_time))\n",
    "print(result[\"globalcount\"], result[\"estimation\"])\n",
    "globalcounts.append(result[\"globalcount\"])\n",
    "estimations.append(result[\"estimation\"])\n",
    "times.append(round((time.time() - start_time),5))"
   ]
  },
  {
   "cell_type": "code",
   "execution_count": 17,
   "id": "smaller-print",
   "metadata": {},
   "outputs": [
    {
     "name": "stdout",
     "output_type": "stream",
     "text": [
      "--- 0.012964725494384766 seconds ---\n",
      "0 0.0\n"
     ]
    }
   ],
   "source": [
    "start_time = time.time()\n",
    "result = triest(50).call(df_edges)\n",
    "print(\"--- %s seconds ---\" % (time.time() - start_time))\n",
    "print(result[\"globalcount\"], result[\"estimation\"])\n",
    "globalcounts.append(result[\"globalcount\"])\n",
    "estimations.append(result[\"estimation\"])\n",
    "times.append(round((time.time() - start_time),5))"
   ]
  },
  {
   "cell_type": "code",
   "execution_count": 18,
   "id": "reverse-farming",
   "metadata": {},
   "outputs": [
    {
     "name": "stdout",
     "output_type": "stream",
     "text": [
      "--- 0.006966829299926758 seconds ---\n",
      "0 0.0\n"
     ]
    }
   ],
   "source": [
    "start_time = time.time()\n",
    "result = triest(10).call(df_edges)\n",
    "print(\"--- %s seconds ---\" % (time.time() - start_time))\n",
    "print(result[\"globalcount\"], result[\"estimation\"])\n",
    "globalcounts.append(result[\"globalcount\"])\n",
    "estimations.append(result[\"estimation\"])\n",
    "times.append(round((time.time() - start_time),5))"
   ]
  },
  {
   "cell_type": "code",
   "execution_count": 19,
   "id": "popular-company",
   "metadata": {},
   "outputs": [
    {
     "name": "stdout",
     "output_type": "stream",
     "text": [
      "--- 0.0069789886474609375 seconds ---\n",
      "0 0.0\n"
     ]
    }
   ],
   "source": [
    "start_time = time.time()\n",
    "result = triest(6).call(df_edges)\n",
    "print(\"--- %s seconds ---\" % (time.time() - start_time))\n",
    "print(result[\"globalcount\"], result[\"estimation\"])\n",
    "globalcounts.append(result[\"globalcount\"])\n",
    "estimations.append(result[\"estimation\"])\n",
    "times.append(round((time.time() - start_time),5))"
   ]
  },
  {
   "cell_type": "markdown",
   "id": "prime-alfred",
   "metadata": {},
   "source": [
    "### Triest-Base improved\n",
    "1. UpdateCounters is called unconditionally for each element on the stream, before the algorithm decides whether or not to insert the edge into S. \n",
    "2. trièst-impr never decrements the counters when an edge is removed from S. \n",
    "3. UpdateCounters performs a weighted increase of the counters using \n",
    "$η^{(t)} = max\\{1,(t − 1)(t − 2)/(M(M − 1))\\}$ as weight."
   ]
  },
  {
   "cell_type": "code",
   "execution_count": 20,
   "id": "d1f8d70d",
   "metadata": {},
   "outputs": [],
   "source": [
    "import random\n",
    "\n",
    "class triestImpr:\n",
    "    def __init__(self, M):\n",
    "        \"\"\" Initialization\n",
    "        M (int): max edges in edge sample S (at least 6)\n",
    "        t (int): time t in the stream t>=0\n",
    "        tau (int): global triangle counter\n",
    "        localCounter (set): local counter for subset nodes u in V^t \n",
    "        S (set): edge sample up to M edges from stream\n",
    "        \"\"\"\n",
    "        self.M = M\n",
    "        self.t = 0\n",
    "        self.tau = 0\n",
    "        self.localCounter = {}\n",
    "        self.S = set()\n",
    "        \n",
    "    def reservoir(self,e):\n",
    "        \"\"\" Standard reservoir sampling\n",
    "        e (frozenset): one undirected edge {a,b} from node a to node b\n",
    "        Returns \n",
    "        bool: False if edge sample S is not modified, True otherwise \n",
    "        \"\"\" \n",
    "        if self.t <= self.M:\n",
    "            return True;\n",
    "        elif random.random() <= self.M / self.t:\n",
    "            removeEdge = random.sample(self.S, 1)[0]  \n",
    "            self.S.remove(removeEdge)\n",
    "            # IMPROVEMENT 2: updateCounters function removed\n",
    "            return True\n",
    "        return False\n",
    "\n",
    "    def updateCounters(self, newEdge):  # IMPROVEMENT 3: removed operation\n",
    "        \"\"\" Increment/decrement counters after each insertion/removal\n",
    "        newEdge (list of one frozenset): edge to insert/remove\n",
    "        Returns\n",
    "        Updated counters\n",
    "        \"\"\"\n",
    "        Nu = set()\n",
    "        Nv = set()\n",
    "        l = list(newEdge)  \n",
    "\n",
    "        for x in self.S:   \n",
    "            if l[0] in x:       \n",
    "                temp = set(x)   \n",
    "                temp.remove(l[0]) \n",
    "                Nu.add(temp.pop())  \n",
    "            elif l[1] in x:  \n",
    "                temp = set(x)\n",
    "                temp.remove(l[1])\n",
    "                Nv.add(temp.pop())\n",
    "                \n",
    "        Nuv = Nu.intersection(Nv)\n",
    "        # IMPROVEMENT 3: replace 1 with weighted increase of counters\n",
    "        weight =  max(1,((self.t - 1)*(self.t - 2))/(self.M*(self.M - 1)))\n",
    "        for c in Nuv:\n",
    "            self.tau +=weight\n",
    "            self.localCounter[c] = self.localCounter.get(c,0) + weight  \n",
    "            self.localCounter[l[0]] = self.localCounter.get(l[0],0) + weight\n",
    "            self.localCounter[l[1]] = self.localCounter.get(l[1],0) + weight\n",
    "\n",
    "                    \n",
    "    def call(self, stream):\n",
    "        \"\"\" Triest-base algo\n",
    "        stream (list of frozensets): edge stream \n",
    "        Returns dictionary with:\n",
    "            tau (int): global counter with key globalcount\n",
    "            localCounter (set): local counter with key localcount\n",
    "            estimation (int): estimation global triangle count with key estimation\n",
    "        \"\"\"\n",
    "        #time_count = 0 # to check progress\n",
    "        for ed in stream:\n",
    "            #time_count +=1 # to check progress\n",
    "            #print(f\"{time_count}/{len(stream)}...\") # to check progress\n",
    "            self.t+=1\n",
    "            self.updateCounters(ed) # IMPROVEMENT 1: Moved to before if-block\n",
    "            if self.reservoir(ed):\n",
    "                self.S.add(ed)\n",
    "        epsilon = max(1, (self.t*(self.t-1)*(self.t*-2))/(self.M*(self.M-1)*(self.M*-2))) \n",
    "        estimation = epsilon*self.tau # estimation global triangle count\n",
    "        return {\"globalcount\": self.tau, \"localcount\":self.localCounter, \"estimation\":estimation} "
   ]
  },
  {
   "cell_type": "code",
   "execution_count": 21,
   "id": "mechanical-finding",
   "metadata": {},
   "outputs": [
    {
     "data": {
      "text/plain": [
       "{'globalcount': 5,\n",
       " 'localcount': {1: 4, 2: 4, 3: 1, 5: 3, 4: 3},\n",
       " 'estimation': 5}"
      ]
     },
     "execution_count": 21,
     "metadata": {},
     "output_type": "execute_result"
    }
   ],
   "source": [
    "result = triestImpr(len(edges)).call(edges)\n",
    "result"
   ]
  },
  {
   "cell_type": "markdown",
   "id": "consistent-reason",
   "metadata": {},
   "source": [
    "#### Triangle count is 48260"
   ]
  },
  {
   "cell_type": "code",
   "execution_count": 22,
   "id": "empty-custom",
   "metadata": {},
   "outputs": [],
   "source": [
    "globalcounts_impr = []\n",
    "estimations_impr = []\n",
    "times_impr = []"
   ]
  },
  {
   "cell_type": "code",
   "execution_count": 23,
   "id": "parallel-mauritius",
   "metadata": {},
   "outputs": [
    {
     "name": "stdout",
     "output_type": "stream",
     "text": [
      "--- 16.790833234786987 seconds ---\n",
      "48260 48260\n"
     ]
    }
   ],
   "source": [
    "import time\n",
    "start_time = time.time()\n",
    "result = triestImpr(len(df_edges)).call(df_edges)\n",
    "print(\"--- %s seconds ---\" % (time.time() - start_time))\n",
    "print(result[\"globalcount\"], result[\"estimation\"])\n",
    "globalcounts_impr.append(result[\"globalcount\"])\n",
    "estimations_impr.append(result[\"estimation\"])\n",
    "times_impr.append(round((time.time() - start_time),5))"
   ]
  },
  {
   "cell_type": "code",
   "execution_count": 24,
   "id": "decreased-hands",
   "metadata": {},
   "outputs": [
    {
     "name": "stdout",
     "output_type": "stream",
     "text": [
      "--- 17.066330432891846 seconds ---\n",
      "48254.20062461474 53433.98984750957\n"
     ]
    }
   ],
   "source": [
    "start_time = time.time()\n",
    "result = triestImpr(14000).call(df_edges)\n",
    "print(\"--- %s seconds ---\" % (time.time() - start_time))\n",
    "print(result[\"globalcount\"], result[\"estimation\"])\n",
    "globalcounts_impr.append(result[\"globalcount\"])\n",
    "estimations_impr.append(result[\"estimation\"])\n",
    "times_impr.append(round((time.time() - start_time),5))"
   ]
  },
  {
   "cell_type": "code",
   "execution_count": 25,
   "id": "84227acf",
   "metadata": {},
   "outputs": [
    {
     "name": "stdout",
     "output_type": "stream",
     "text": [
      "--- 15.357870101928711 seconds ---\n",
      "48397.14687246792 147061.41971596156\n"
     ]
    }
   ],
   "source": [
    "start_time = time.time()\n",
    "result = triestImpr(10000).call(df_edges)\n",
    "print(\"--- %s seconds ---\" % (time.time() - start_time))\n",
    "print(result[\"globalcount\"], result[\"estimation\"])\n",
    "globalcounts_impr.append(result[\"globalcount\"])\n",
    "estimations_impr.append(result[\"estimation\"])\n",
    "times_impr.append(round((time.time() - start_time),5))"
   ]
  },
  {
   "cell_type": "code",
   "execution_count": 26,
   "id": "medical-fitting",
   "metadata": {},
   "outputs": [
    {
     "name": "stdout",
     "output_type": "stream",
     "text": [
      "--- 10.133779287338257 seconds ---\n",
      "47844.28368401679 1163168.0764958945\n"
     ]
    }
   ],
   "source": [
    "start_time = time.time()\n",
    "result = triestImpr(5000).call(df_edges)\n",
    "print(\"--- %s seconds ---\" % (time.time() - start_time))\n",
    "print(result[\"globalcount\"], result[\"estimation\"])\n",
    "globalcounts_impr.append(result[\"globalcount\"])\n",
    "estimations_impr.append(result[\"estimation\"])\n",
    "times_impr.append(round((time.time() - start_time),5))"
   ]
  },
  {
   "cell_type": "code",
   "execution_count": 27,
   "id": "possible-breeding",
   "metadata": {},
   "outputs": [
    {
     "name": "stdout",
     "output_type": "stream",
     "text": [
      "--- 2.28937029838562 seconds ---\n",
      "51432.644966966975 156425997.68834385\n"
     ]
    }
   ],
   "source": [
    "start_time = time.time()\n",
    "result = triestImpr(1000).call(df_edges)\n",
    "print(\"--- %s seconds ---\" % (time.time() - start_time))\n",
    "print(result[\"globalcount\"], result[\"estimation\"])\n",
    "globalcounts_impr.append(result[\"globalcount\"])\n",
    "estimations_impr.append(result[\"estimation\"])\n",
    "times_impr.append(round((time.time() - start_time),5))"
   ]
  },
  {
   "cell_type": "code",
   "execution_count": 28,
   "id": "overall-average",
   "metadata": {},
   "outputs": [
    {
     "name": "stdout",
     "output_type": "stream",
     "text": [
      "--- 1.1865403652191162 seconds ---\n",
      "48307.790813627245 1176554869.6707222\n"
     ]
    }
   ],
   "source": [
    "start_time = time.time()\n",
    "result = triestImpr(500).call(df_edges)\n",
    "print(\"--- %s seconds ---\" % (time.time() - start_time))\n",
    "print(result[\"globalcount\"], result[\"estimation\"])\n",
    "globalcounts_impr.append(result[\"globalcount\"])\n",
    "estimations_impr.append(result[\"estimation\"])\n",
    "times_impr.append(round((time.time() - start_time),5))"
   ]
  },
  {
   "cell_type": "code",
   "execution_count": 29,
   "id": "organizational-framing",
   "metadata": {},
   "outputs": [
    {
     "name": "stdout",
     "output_type": "stream",
     "text": [
      "--- 0.2579233646392822 seconds ---\n",
      "18829.42383838384 57787964804.974556\n"
     ]
    }
   ],
   "source": [
    "start_time = time.time()\n",
    "result = triestImpr(100).call(df_edges)\n",
    "print(\"--- %s seconds ---\" % (time.time() - start_time))\n",
    "print(result[\"globalcount\"], result[\"estimation\"])\n",
    "globalcounts_impr.append(result[\"globalcount\"])\n",
    "estimations_impr.append(result[\"estimation\"])\n",
    "times_impr.append(round((time.time() - start_time),5))"
   ]
  },
  {
   "cell_type": "code",
   "execution_count": 30,
   "id": "sustainable-segment",
   "metadata": {},
   "outputs": [
    {
     "name": "stdout",
     "output_type": "stream",
     "text": [
      "--- 0.133652925491333 seconds ---\n",
      "125601.74775510204 3115266155736.678\n"
     ]
    }
   ],
   "source": [
    "start_time = time.time()\n",
    "result = triestImpr(50).call(df_edges)\n",
    "print(\"--- %s seconds ---\" % (time.time() - start_time))\n",
    "print(result[\"globalcount\"], result[\"estimation\"])\n",
    "globalcounts_impr.append(result[\"globalcount\"])\n",
    "estimations_impr.append(result[\"estimation\"])\n",
    "times_impr.append(round((time.time() - start_time),5))"
   ]
  },
  {
   "cell_type": "code",
   "execution_count": 31,
   "id": "capital-tactics",
   "metadata": {},
   "outputs": [
    {
     "name": "stdout",
     "output_type": "stream",
     "text": [
      "--- 0.04886817932128906 seconds ---\n",
      "0 0.0\n"
     ]
    }
   ],
   "source": [
    "start_time = time.time()\n",
    "result = triestImpr(10).call(df_edges)\n",
    "print(\"--- %s seconds ---\" % (time.time() - start_time))\n",
    "print(result[\"globalcount\"], result[\"estimation\"])\n",
    "globalcounts_impr.append(result[\"globalcount\"])\n",
    "estimations_impr.append(result[\"estimation\"])\n",
    "times_impr.append(round((time.time() - start_time),5))"
   ]
  },
  {
   "cell_type": "code",
   "execution_count": 32,
   "id": "baking-george",
   "metadata": {},
   "outputs": [
    {
     "name": "stdout",
     "output_type": "stream",
     "text": [
      "--- 0.03594064712524414 seconds ---\n",
      "0 0.0\n"
     ]
    }
   ],
   "source": [
    "start_time = time.time()\n",
    "result = triestImpr(6).call(df_edges)\n",
    "print(\"--- %s seconds ---\" % (time.time() - start_time))\n",
    "print(result[\"globalcount\"], result[\"estimation\"])\n",
    "globalcounts_impr.append(result[\"globalcount\"])\n",
    "estimations_impr.append(result[\"estimation\"])\n",
    "times_impr.append(round((time.time() - start_time),5))"
   ]
  },
  {
   "cell_type": "markdown",
   "id": "supreme-breach",
   "metadata": {},
   "source": [
    "### Comparison of Triest-Base and Improved Version"
   ]
  },
  {
   "cell_type": "code",
   "execution_count": 33,
   "id": "norwegian-imperial",
   "metadata": {},
   "outputs": [],
   "source": [
    "algotype = [\"triest-base\"]*len(times)\n",
    "Ms = [len(df_edges),14000,10000,5000,1000,500,100,50,10,6]\n",
    "triest_base = pd.DataFrame(\n",
    "    {'times': times,\n",
    "     'estimations': estimations,\n",
    "     'globalcounts': globalcounts,\n",
    "     'type': algotype,\n",
    "     'M': Ms\n",
    "    })"
   ]
  },
  {
   "cell_type": "code",
   "execution_count": 34,
   "id": "southern-letters",
   "metadata": {},
   "outputs": [],
   "source": [
    "algotype = [\"triest_impr\"]*len(times_impr)\n",
    "triest_impr = pd.DataFrame(\n",
    "    {'times': times_impr,\n",
    "     'estimations': estimations_impr,\n",
    "     'globalcounts': globalcounts_impr,\n",
    "     'type': algotype,\n",
    "     'M': Ms\n",
    "    })"
   ]
  },
  {
   "cell_type": "code",
   "execution_count": 35,
   "id": "altered-royalty",
   "metadata": {},
   "outputs": [
    {
     "data": {
      "text/html": [
       "<div>\n",
       "<style scoped>\n",
       "    .dataframe tbody tr th:only-of-type {\n",
       "        vertical-align: middle;\n",
       "    }\n",
       "\n",
       "    .dataframe tbody tr th {\n",
       "        vertical-align: top;\n",
       "    }\n",
       "\n",
       "    .dataframe thead th {\n",
       "        text-align: right;\n",
       "    }\n",
       "</style>\n",
       "<table border=\"1\" class=\"dataframe\">\n",
       "  <thead>\n",
       "    <tr style=\"text-align: right;\">\n",
       "      <th></th>\n",
       "      <th>times</th>\n",
       "      <th>estimations</th>\n",
       "      <th>globalcounts</th>\n",
       "      <th>type</th>\n",
       "      <th>M</th>\n",
       "    </tr>\n",
       "  </thead>\n",
       "  <tbody>\n",
       "    <tr>\n",
       "      <th>0</th>\n",
       "      <td>17.50373</td>\n",
       "      <td>4.826000e+04</td>\n",
       "      <td>48260.000000</td>\n",
       "      <td>triest-base</td>\n",
       "      <td>14484</td>\n",
       "    </tr>\n",
       "    <tr>\n",
       "      <th>1</th>\n",
       "      <td>18.85435</td>\n",
       "      <td>4.802107e+04</td>\n",
       "      <td>43366.000000</td>\n",
       "      <td>triest-base</td>\n",
       "      <td>14000</td>\n",
       "    </tr>\n",
       "    <tr>\n",
       "      <th>2</th>\n",
       "      <td>22.56088</td>\n",
       "      <td>4.799833e+04</td>\n",
       "      <td>15796.000000</td>\n",
       "      <td>triest-base</td>\n",
       "      <td>10000</td>\n",
       "    </tr>\n",
       "    <tr>\n",
       "      <th>3</th>\n",
       "      <td>11.07069</td>\n",
       "      <td>4.923086e+04</td>\n",
       "      <td>2025.000000</td>\n",
       "      <td>triest-base</td>\n",
       "      <td>5000</td>\n",
       "    </tr>\n",
       "    <tr>\n",
       "      <th>4</th>\n",
       "      <td>0.99035</td>\n",
       "      <td>3.649651e+04</td>\n",
       "      <td>12.000000</td>\n",
       "      <td>triest-base</td>\n",
       "      <td>1000</td>\n",
       "    </tr>\n",
       "    <tr>\n",
       "      <th>5</th>\n",
       "      <td>0.30250</td>\n",
       "      <td>4.871077e+04</td>\n",
       "      <td>2.000000</td>\n",
       "      <td>triest-base</td>\n",
       "      <td>500</td>\n",
       "    </tr>\n",
       "    <tr>\n",
       "      <th>6</th>\n",
       "      <td>0.02597</td>\n",
       "      <td>0.000000e+00</td>\n",
       "      <td>0.000000</td>\n",
       "      <td>triest-base</td>\n",
       "      <td>100</td>\n",
       "    </tr>\n",
       "    <tr>\n",
       "      <th>7</th>\n",
       "      <td>0.01396</td>\n",
       "      <td>0.000000e+00</td>\n",
       "      <td>0.000000</td>\n",
       "      <td>triest-base</td>\n",
       "      <td>50</td>\n",
       "    </tr>\n",
       "    <tr>\n",
       "      <th>8</th>\n",
       "      <td>0.00697</td>\n",
       "      <td>0.000000e+00</td>\n",
       "      <td>0.000000</td>\n",
       "      <td>triest-base</td>\n",
       "      <td>10</td>\n",
       "    </tr>\n",
       "    <tr>\n",
       "      <th>9</th>\n",
       "      <td>0.00698</td>\n",
       "      <td>0.000000e+00</td>\n",
       "      <td>0.000000</td>\n",
       "      <td>triest-base</td>\n",
       "      <td>6</td>\n",
       "    </tr>\n",
       "    <tr>\n",
       "      <th>0</th>\n",
       "      <td>16.79083</td>\n",
       "      <td>4.826000e+04</td>\n",
       "      <td>48260.000000</td>\n",
       "      <td>triest_impr</td>\n",
       "      <td>14484</td>\n",
       "    </tr>\n",
       "    <tr>\n",
       "      <th>1</th>\n",
       "      <td>17.06633</td>\n",
       "      <td>5.343399e+04</td>\n",
       "      <td>48254.200625</td>\n",
       "      <td>triest_impr</td>\n",
       "      <td>14000</td>\n",
       "    </tr>\n",
       "    <tr>\n",
       "      <th>2</th>\n",
       "      <td>15.35887</td>\n",
       "      <td>1.470614e+05</td>\n",
       "      <td>48397.146872</td>\n",
       "      <td>triest_impr</td>\n",
       "      <td>10000</td>\n",
       "    </tr>\n",
       "    <tr>\n",
       "      <th>3</th>\n",
       "      <td>10.13478</td>\n",
       "      <td>1.163168e+06</td>\n",
       "      <td>47844.283684</td>\n",
       "      <td>triest_impr</td>\n",
       "      <td>5000</td>\n",
       "    </tr>\n",
       "    <tr>\n",
       "      <th>4</th>\n",
       "      <td>2.28937</td>\n",
       "      <td>1.564260e+08</td>\n",
       "      <td>51432.644967</td>\n",
       "      <td>triest_impr</td>\n",
       "      <td>1000</td>\n",
       "    </tr>\n",
       "    <tr>\n",
       "      <th>5</th>\n",
       "      <td>1.18654</td>\n",
       "      <td>1.176555e+09</td>\n",
       "      <td>48307.790814</td>\n",
       "      <td>triest_impr</td>\n",
       "      <td>500</td>\n",
       "    </tr>\n",
       "    <tr>\n",
       "      <th>6</th>\n",
       "      <td>0.25792</td>\n",
       "      <td>5.778796e+10</td>\n",
       "      <td>18829.423838</td>\n",
       "      <td>triest_impr</td>\n",
       "      <td>100</td>\n",
       "    </tr>\n",
       "    <tr>\n",
       "      <th>7</th>\n",
       "      <td>0.13365</td>\n",
       "      <td>3.115266e+12</td>\n",
       "      <td>125601.747755</td>\n",
       "      <td>triest_impr</td>\n",
       "      <td>50</td>\n",
       "    </tr>\n",
       "    <tr>\n",
       "      <th>8</th>\n",
       "      <td>0.04987</td>\n",
       "      <td>0.000000e+00</td>\n",
       "      <td>0.000000</td>\n",
       "      <td>triest_impr</td>\n",
       "      <td>10</td>\n",
       "    </tr>\n",
       "    <tr>\n",
       "      <th>9</th>\n",
       "      <td>0.03694</td>\n",
       "      <td>0.000000e+00</td>\n",
       "      <td>0.000000</td>\n",
       "      <td>triest_impr</td>\n",
       "      <td>6</td>\n",
       "    </tr>\n",
       "  </tbody>\n",
       "</table>\n",
       "</div>"
      ],
      "text/plain": [
       "      times   estimations   globalcounts         type      M\n",
       "0  17.50373  4.826000e+04   48260.000000  triest-base  14484\n",
       "1  18.85435  4.802107e+04   43366.000000  triest-base  14000\n",
       "2  22.56088  4.799833e+04   15796.000000  triest-base  10000\n",
       "3  11.07069  4.923086e+04    2025.000000  triest-base   5000\n",
       "4   0.99035  3.649651e+04      12.000000  triest-base   1000\n",
       "5   0.30250  4.871077e+04       2.000000  triest-base    500\n",
       "6   0.02597  0.000000e+00       0.000000  triest-base    100\n",
       "7   0.01396  0.000000e+00       0.000000  triest-base     50\n",
       "8   0.00697  0.000000e+00       0.000000  triest-base     10\n",
       "9   0.00698  0.000000e+00       0.000000  triest-base      6\n",
       "0  16.79083  4.826000e+04   48260.000000  triest_impr  14484\n",
       "1  17.06633  5.343399e+04   48254.200625  triest_impr  14000\n",
       "2  15.35887  1.470614e+05   48397.146872  triest_impr  10000\n",
       "3  10.13478  1.163168e+06   47844.283684  triest_impr   5000\n",
       "4   2.28937  1.564260e+08   51432.644967  triest_impr   1000\n",
       "5   1.18654  1.176555e+09   48307.790814  triest_impr    500\n",
       "6   0.25792  5.778796e+10   18829.423838  triest_impr    100\n",
       "7   0.13365  3.115266e+12  125601.747755  triest_impr     50\n",
       "8   0.04987  0.000000e+00       0.000000  triest_impr     10\n",
       "9   0.03694  0.000000e+00       0.000000  triest_impr      6"
      ]
     },
     "execution_count": 35,
     "metadata": {},
     "output_type": "execute_result"
    }
   ],
   "source": [
    "df_results = triest_base.append(triest_impr)\n",
    "df_results"
   ]
  },
  {
   "cell_type": "code",
   "execution_count": 41,
   "id": "fancy-controversy",
   "metadata": {},
   "outputs": [
    {
     "data": {
      "application/vnd.plotly.v1+json": {
       "config": {
        "plotlyServerURL": "https://plot.ly"
       },
       "data": [
        {
         "hovertemplate": "type=triest-base<br>M=%{x}<br>globalcounts=%{y}<extra></extra>",
         "legendgroup": "triest-base",
         "marker": {
          "color": "#636efa",
          "symbol": "circle"
         },
         "mode": "markers",
         "name": "triest-base",
         "orientation": "v",
         "showlegend": true,
         "type": "scatter",
         "x": [
          14484,
          14000,
          10000,
          5000,
          1000,
          500,
          100,
          50,
          10,
          6
         ],
         "xaxis": "x",
         "y": [
          48260,
          43366,
          15796,
          2025,
          12,
          2,
          0,
          0,
          0,
          0
         ],
         "yaxis": "y"
        },
        {
         "hovertemplate": "type=triest_impr<br>M=%{x}<br>globalcounts=%{y}<extra></extra>",
         "legendgroup": "triest_impr",
         "marker": {
          "color": "#EF553B",
          "symbol": "circle"
         },
         "mode": "markers",
         "name": "triest_impr",
         "orientation": "v",
         "showlegend": true,
         "type": "scatter",
         "x": [
          14484,
          14000,
          10000,
          5000,
          1000,
          500,
          100,
          50,
          10,
          6
         ],
         "xaxis": "x",
         "y": [
          48260,
          48254.20062461474,
          48397.14687246792,
          47844.28368401679,
          51432.644966966975,
          48307.790813627245,
          18829.42383838384,
          125601.74775510204,
          0,
          0
         ],
         "yaxis": "y"
        }
       ],
       "layout": {
        "legend": {
         "title": {
          "text": "type"
         },
         "tracegroupgap": 0
        },
        "shapes": [
         {
          "type": "line",
          "x0": 0,
          "x1": 1,
          "xref": "x domain",
          "y0": 48260,
          "y1": 48260,
          "yref": "y"
         }
        ],
        "template": {
         "data": {
          "bar": [
           {
            "error_x": {
             "color": "#2a3f5f"
            },
            "error_y": {
             "color": "#2a3f5f"
            },
            "marker": {
             "line": {
              "color": "#E5ECF6",
              "width": 0.5
             }
            },
            "type": "bar"
           }
          ],
          "barpolar": [
           {
            "marker": {
             "line": {
              "color": "#E5ECF6",
              "width": 0.5
             }
            },
            "type": "barpolar"
           }
          ],
          "carpet": [
           {
            "aaxis": {
             "endlinecolor": "#2a3f5f",
             "gridcolor": "white",
             "linecolor": "white",
             "minorgridcolor": "white",
             "startlinecolor": "#2a3f5f"
            },
            "baxis": {
             "endlinecolor": "#2a3f5f",
             "gridcolor": "white",
             "linecolor": "white",
             "minorgridcolor": "white",
             "startlinecolor": "#2a3f5f"
            },
            "type": "carpet"
           }
          ],
          "choropleth": [
           {
            "colorbar": {
             "outlinewidth": 0,
             "ticks": ""
            },
            "type": "choropleth"
           }
          ],
          "contour": [
           {
            "colorbar": {
             "outlinewidth": 0,
             "ticks": ""
            },
            "colorscale": [
             [
              0,
              "#0d0887"
             ],
             [
              0.1111111111111111,
              "#46039f"
             ],
             [
              0.2222222222222222,
              "#7201a8"
             ],
             [
              0.3333333333333333,
              "#9c179e"
             ],
             [
              0.4444444444444444,
              "#bd3786"
             ],
             [
              0.5555555555555556,
              "#d8576b"
             ],
             [
              0.6666666666666666,
              "#ed7953"
             ],
             [
              0.7777777777777778,
              "#fb9f3a"
             ],
             [
              0.8888888888888888,
              "#fdca26"
             ],
             [
              1,
              "#f0f921"
             ]
            ],
            "type": "contour"
           }
          ],
          "contourcarpet": [
           {
            "colorbar": {
             "outlinewidth": 0,
             "ticks": ""
            },
            "type": "contourcarpet"
           }
          ],
          "heatmap": [
           {
            "colorbar": {
             "outlinewidth": 0,
             "ticks": ""
            },
            "colorscale": [
             [
              0,
              "#0d0887"
             ],
             [
              0.1111111111111111,
              "#46039f"
             ],
             [
              0.2222222222222222,
              "#7201a8"
             ],
             [
              0.3333333333333333,
              "#9c179e"
             ],
             [
              0.4444444444444444,
              "#bd3786"
             ],
             [
              0.5555555555555556,
              "#d8576b"
             ],
             [
              0.6666666666666666,
              "#ed7953"
             ],
             [
              0.7777777777777778,
              "#fb9f3a"
             ],
             [
              0.8888888888888888,
              "#fdca26"
             ],
             [
              1,
              "#f0f921"
             ]
            ],
            "type": "heatmap"
           }
          ],
          "heatmapgl": [
           {
            "colorbar": {
             "outlinewidth": 0,
             "ticks": ""
            },
            "colorscale": [
             [
              0,
              "#0d0887"
             ],
             [
              0.1111111111111111,
              "#46039f"
             ],
             [
              0.2222222222222222,
              "#7201a8"
             ],
             [
              0.3333333333333333,
              "#9c179e"
             ],
             [
              0.4444444444444444,
              "#bd3786"
             ],
             [
              0.5555555555555556,
              "#d8576b"
             ],
             [
              0.6666666666666666,
              "#ed7953"
             ],
             [
              0.7777777777777778,
              "#fb9f3a"
             ],
             [
              0.8888888888888888,
              "#fdca26"
             ],
             [
              1,
              "#f0f921"
             ]
            ],
            "type": "heatmapgl"
           }
          ],
          "histogram": [
           {
            "marker": {
             "colorbar": {
              "outlinewidth": 0,
              "ticks": ""
             }
            },
            "type": "histogram"
           }
          ],
          "histogram2d": [
           {
            "colorbar": {
             "outlinewidth": 0,
             "ticks": ""
            },
            "colorscale": [
             [
              0,
              "#0d0887"
             ],
             [
              0.1111111111111111,
              "#46039f"
             ],
             [
              0.2222222222222222,
              "#7201a8"
             ],
             [
              0.3333333333333333,
              "#9c179e"
             ],
             [
              0.4444444444444444,
              "#bd3786"
             ],
             [
              0.5555555555555556,
              "#d8576b"
             ],
             [
              0.6666666666666666,
              "#ed7953"
             ],
             [
              0.7777777777777778,
              "#fb9f3a"
             ],
             [
              0.8888888888888888,
              "#fdca26"
             ],
             [
              1,
              "#f0f921"
             ]
            ],
            "type": "histogram2d"
           }
          ],
          "histogram2dcontour": [
           {
            "colorbar": {
             "outlinewidth": 0,
             "ticks": ""
            },
            "colorscale": [
             [
              0,
              "#0d0887"
             ],
             [
              0.1111111111111111,
              "#46039f"
             ],
             [
              0.2222222222222222,
              "#7201a8"
             ],
             [
              0.3333333333333333,
              "#9c179e"
             ],
             [
              0.4444444444444444,
              "#bd3786"
             ],
             [
              0.5555555555555556,
              "#d8576b"
             ],
             [
              0.6666666666666666,
              "#ed7953"
             ],
             [
              0.7777777777777778,
              "#fb9f3a"
             ],
             [
              0.8888888888888888,
              "#fdca26"
             ],
             [
              1,
              "#f0f921"
             ]
            ],
            "type": "histogram2dcontour"
           }
          ],
          "mesh3d": [
           {
            "colorbar": {
             "outlinewidth": 0,
             "ticks": ""
            },
            "type": "mesh3d"
           }
          ],
          "parcoords": [
           {
            "line": {
             "colorbar": {
              "outlinewidth": 0,
              "ticks": ""
             }
            },
            "type": "parcoords"
           }
          ],
          "pie": [
           {
            "automargin": true,
            "type": "pie"
           }
          ],
          "scatter": [
           {
            "marker": {
             "colorbar": {
              "outlinewidth": 0,
              "ticks": ""
             }
            },
            "type": "scatter"
           }
          ],
          "scatter3d": [
           {
            "line": {
             "colorbar": {
              "outlinewidth": 0,
              "ticks": ""
             }
            },
            "marker": {
             "colorbar": {
              "outlinewidth": 0,
              "ticks": ""
             }
            },
            "type": "scatter3d"
           }
          ],
          "scattercarpet": [
           {
            "marker": {
             "colorbar": {
              "outlinewidth": 0,
              "ticks": ""
             }
            },
            "type": "scattercarpet"
           }
          ],
          "scattergeo": [
           {
            "marker": {
             "colorbar": {
              "outlinewidth": 0,
              "ticks": ""
             }
            },
            "type": "scattergeo"
           }
          ],
          "scattergl": [
           {
            "marker": {
             "colorbar": {
              "outlinewidth": 0,
              "ticks": ""
             }
            },
            "type": "scattergl"
           }
          ],
          "scattermapbox": [
           {
            "marker": {
             "colorbar": {
              "outlinewidth": 0,
              "ticks": ""
             }
            },
            "type": "scattermapbox"
           }
          ],
          "scatterpolar": [
           {
            "marker": {
             "colorbar": {
              "outlinewidth": 0,
              "ticks": ""
             }
            },
            "type": "scatterpolar"
           }
          ],
          "scatterpolargl": [
           {
            "marker": {
             "colorbar": {
              "outlinewidth": 0,
              "ticks": ""
             }
            },
            "type": "scatterpolargl"
           }
          ],
          "scatterternary": [
           {
            "marker": {
             "colorbar": {
              "outlinewidth": 0,
              "ticks": ""
             }
            },
            "type": "scatterternary"
           }
          ],
          "surface": [
           {
            "colorbar": {
             "outlinewidth": 0,
             "ticks": ""
            },
            "colorscale": [
             [
              0,
              "#0d0887"
             ],
             [
              0.1111111111111111,
              "#46039f"
             ],
             [
              0.2222222222222222,
              "#7201a8"
             ],
             [
              0.3333333333333333,
              "#9c179e"
             ],
             [
              0.4444444444444444,
              "#bd3786"
             ],
             [
              0.5555555555555556,
              "#d8576b"
             ],
             [
              0.6666666666666666,
              "#ed7953"
             ],
             [
              0.7777777777777778,
              "#fb9f3a"
             ],
             [
              0.8888888888888888,
              "#fdca26"
             ],
             [
              1,
              "#f0f921"
             ]
            ],
            "type": "surface"
           }
          ],
          "table": [
           {
            "cells": {
             "fill": {
              "color": "#EBF0F8"
             },
             "line": {
              "color": "white"
             }
            },
            "header": {
             "fill": {
              "color": "#C8D4E3"
             },
             "line": {
              "color": "white"
             }
            },
            "type": "table"
           }
          ]
         },
         "layout": {
          "annotationdefaults": {
           "arrowcolor": "#2a3f5f",
           "arrowhead": 0,
           "arrowwidth": 1
          },
          "autotypenumbers": "strict",
          "coloraxis": {
           "colorbar": {
            "outlinewidth": 0,
            "ticks": ""
           }
          },
          "colorscale": {
           "diverging": [
            [
             0,
             "#8e0152"
            ],
            [
             0.1,
             "#c51b7d"
            ],
            [
             0.2,
             "#de77ae"
            ],
            [
             0.3,
             "#f1b6da"
            ],
            [
             0.4,
             "#fde0ef"
            ],
            [
             0.5,
             "#f7f7f7"
            ],
            [
             0.6,
             "#e6f5d0"
            ],
            [
             0.7,
             "#b8e186"
            ],
            [
             0.8,
             "#7fbc41"
            ],
            [
             0.9,
             "#4d9221"
            ],
            [
             1,
             "#276419"
            ]
           ],
           "sequential": [
            [
             0,
             "#0d0887"
            ],
            [
             0.1111111111111111,
             "#46039f"
            ],
            [
             0.2222222222222222,
             "#7201a8"
            ],
            [
             0.3333333333333333,
             "#9c179e"
            ],
            [
             0.4444444444444444,
             "#bd3786"
            ],
            [
             0.5555555555555556,
             "#d8576b"
            ],
            [
             0.6666666666666666,
             "#ed7953"
            ],
            [
             0.7777777777777778,
             "#fb9f3a"
            ],
            [
             0.8888888888888888,
             "#fdca26"
            ],
            [
             1,
             "#f0f921"
            ]
           ],
           "sequentialminus": [
            [
             0,
             "#0d0887"
            ],
            [
             0.1111111111111111,
             "#46039f"
            ],
            [
             0.2222222222222222,
             "#7201a8"
            ],
            [
             0.3333333333333333,
             "#9c179e"
            ],
            [
             0.4444444444444444,
             "#bd3786"
            ],
            [
             0.5555555555555556,
             "#d8576b"
            ],
            [
             0.6666666666666666,
             "#ed7953"
            ],
            [
             0.7777777777777778,
             "#fb9f3a"
            ],
            [
             0.8888888888888888,
             "#fdca26"
            ],
            [
             1,
             "#f0f921"
            ]
           ]
          },
          "colorway": [
           "#636efa",
           "#EF553B",
           "#00cc96",
           "#ab63fa",
           "#FFA15A",
           "#19d3f3",
           "#FF6692",
           "#B6E880",
           "#FF97FF",
           "#FECB52"
          ],
          "font": {
           "color": "#2a3f5f"
          },
          "geo": {
           "bgcolor": "white",
           "lakecolor": "white",
           "landcolor": "#E5ECF6",
           "showlakes": true,
           "showland": true,
           "subunitcolor": "white"
          },
          "hoverlabel": {
           "align": "left"
          },
          "hovermode": "closest",
          "mapbox": {
           "style": "light"
          },
          "paper_bgcolor": "white",
          "plot_bgcolor": "#E5ECF6",
          "polar": {
           "angularaxis": {
            "gridcolor": "white",
            "linecolor": "white",
            "ticks": ""
           },
           "bgcolor": "#E5ECF6",
           "radialaxis": {
            "gridcolor": "white",
            "linecolor": "white",
            "ticks": ""
           }
          },
          "scene": {
           "xaxis": {
            "backgroundcolor": "#E5ECF6",
            "gridcolor": "white",
            "gridwidth": 2,
            "linecolor": "white",
            "showbackground": true,
            "ticks": "",
            "zerolinecolor": "white"
           },
           "yaxis": {
            "backgroundcolor": "#E5ECF6",
            "gridcolor": "white",
            "gridwidth": 2,
            "linecolor": "white",
            "showbackground": true,
            "ticks": "",
            "zerolinecolor": "white"
           },
           "zaxis": {
            "backgroundcolor": "#E5ECF6",
            "gridcolor": "white",
            "gridwidth": 2,
            "linecolor": "white",
            "showbackground": true,
            "ticks": "",
            "zerolinecolor": "white"
           }
          },
          "shapedefaults": {
           "line": {
            "color": "#2a3f5f"
           }
          },
          "ternary": {
           "aaxis": {
            "gridcolor": "white",
            "linecolor": "white",
            "ticks": ""
           },
           "baxis": {
            "gridcolor": "white",
            "linecolor": "white",
            "ticks": ""
           },
           "bgcolor": "#E5ECF6",
           "caxis": {
            "gridcolor": "white",
            "linecolor": "white",
            "ticks": ""
           }
          },
          "title": {
           "x": 0.05
          },
          "xaxis": {
           "automargin": true,
           "gridcolor": "white",
           "linecolor": "white",
           "ticks": "",
           "title": {
            "standoff": 15
           },
           "zerolinecolor": "white",
           "zerolinewidth": 2
          },
          "yaxis": {
           "automargin": true,
           "gridcolor": "white",
           "linecolor": "white",
           "ticks": "",
           "title": {
            "standoff": 15
           },
           "zerolinecolor": "white",
           "zerolinewidth": 2
          }
         }
        },
        "title": {
         "text": "Global Triangle Count for Tries-Base and Improved Version Based on M"
        },
        "xaxis": {
         "anchor": "y",
         "domain": [
          0,
          1
         ],
         "title": {
          "text": "M"
         }
        },
        "yaxis": {
         "anchor": "x",
         "domain": [
          0,
          1
         ],
         "title": {
          "text": "globalcounts"
         }
        }
       }
      },
      "text/html": [
       "<div>                            <div id=\"919677b7-eb9b-4559-bad9-6ee266cfe6ef\" class=\"plotly-graph-div\" style=\"height:525px; width:100%;\"></div>            <script type=\"text/javascript\">                require([\"plotly\"], function(Plotly) {                    window.PLOTLYENV=window.PLOTLYENV || {};                                    if (document.getElementById(\"919677b7-eb9b-4559-bad9-6ee266cfe6ef\")) {                    Plotly.newPlot(                        \"919677b7-eb9b-4559-bad9-6ee266cfe6ef\",                        [{\"hovertemplate\": \"type=triest-base<br>M=%{x}<br>globalcounts=%{y}<extra></extra>\", \"legendgroup\": \"triest-base\", \"marker\": {\"color\": \"#636efa\", \"symbol\": \"circle\"}, \"mode\": \"markers\", \"name\": \"triest-base\", \"orientation\": \"v\", \"showlegend\": true, \"type\": \"scatter\", \"x\": [14484, 14000, 10000, 5000, 1000, 500, 100, 50, 10, 6], \"xaxis\": \"x\", \"y\": [48260.0, 43366.0, 15796.0, 2025.0, 12.0, 2.0, 0.0, 0.0, 0.0, 0.0], \"yaxis\": \"y\"}, {\"hovertemplate\": \"type=triest_impr<br>M=%{x}<br>globalcounts=%{y}<extra></extra>\", \"legendgroup\": \"triest_impr\", \"marker\": {\"color\": \"#EF553B\", \"symbol\": \"circle\"}, \"mode\": \"markers\", \"name\": \"triest_impr\", \"orientation\": \"v\", \"showlegend\": true, \"type\": \"scatter\", \"x\": [14484, 14000, 10000, 5000, 1000, 500, 100, 50, 10, 6], \"xaxis\": \"x\", \"y\": [48260.0, 48254.20062461474, 48397.14687246792, 47844.28368401679, 51432.644966966975, 48307.790813627245, 18829.42383838384, 125601.74775510204, 0.0, 0.0], \"yaxis\": \"y\"}],                        {\"legend\": {\"title\": {\"text\": \"type\"}, \"tracegroupgap\": 0}, \"shapes\": [{\"type\": \"line\", \"x0\": 0, \"x1\": 1, \"xref\": \"x domain\", \"y0\": 48260, \"y1\": 48260, \"yref\": \"y\"}], \"template\": {\"data\": {\"bar\": [{\"error_x\": {\"color\": \"#2a3f5f\"}, \"error_y\": {\"color\": \"#2a3f5f\"}, \"marker\": {\"line\": {\"color\": \"#E5ECF6\", \"width\": 0.5}}, \"type\": \"bar\"}], \"barpolar\": [{\"marker\": {\"line\": {\"color\": \"#E5ECF6\", \"width\": 0.5}}, \"type\": \"barpolar\"}], \"carpet\": [{\"aaxis\": {\"endlinecolor\": \"#2a3f5f\", \"gridcolor\": \"white\", \"linecolor\": \"white\", \"minorgridcolor\": \"white\", \"startlinecolor\": \"#2a3f5f\"}, \"baxis\": {\"endlinecolor\": \"#2a3f5f\", \"gridcolor\": \"white\", \"linecolor\": \"white\", \"minorgridcolor\": \"white\", \"startlinecolor\": \"#2a3f5f\"}, \"type\": \"carpet\"}], \"choropleth\": [{\"colorbar\": {\"outlinewidth\": 0, \"ticks\": \"\"}, \"type\": \"choropleth\"}], \"contour\": [{\"colorbar\": {\"outlinewidth\": 0, \"ticks\": \"\"}, \"colorscale\": [[0.0, \"#0d0887\"], [0.1111111111111111, \"#46039f\"], [0.2222222222222222, \"#7201a8\"], [0.3333333333333333, \"#9c179e\"], [0.4444444444444444, \"#bd3786\"], [0.5555555555555556, \"#d8576b\"], [0.6666666666666666, \"#ed7953\"], [0.7777777777777778, \"#fb9f3a\"], [0.8888888888888888, \"#fdca26\"], [1.0, \"#f0f921\"]], \"type\": \"contour\"}], \"contourcarpet\": [{\"colorbar\": {\"outlinewidth\": 0, \"ticks\": \"\"}, \"type\": \"contourcarpet\"}], \"heatmap\": [{\"colorbar\": {\"outlinewidth\": 0, \"ticks\": \"\"}, \"colorscale\": [[0.0, \"#0d0887\"], [0.1111111111111111, \"#46039f\"], [0.2222222222222222, \"#7201a8\"], [0.3333333333333333, \"#9c179e\"], [0.4444444444444444, \"#bd3786\"], [0.5555555555555556, \"#d8576b\"], [0.6666666666666666, \"#ed7953\"], [0.7777777777777778, \"#fb9f3a\"], [0.8888888888888888, \"#fdca26\"], [1.0, \"#f0f921\"]], \"type\": \"heatmap\"}], \"heatmapgl\": [{\"colorbar\": {\"outlinewidth\": 0, \"ticks\": \"\"}, \"colorscale\": [[0.0, \"#0d0887\"], [0.1111111111111111, \"#46039f\"], [0.2222222222222222, \"#7201a8\"], [0.3333333333333333, \"#9c179e\"], [0.4444444444444444, \"#bd3786\"], [0.5555555555555556, \"#d8576b\"], [0.6666666666666666, \"#ed7953\"], [0.7777777777777778, \"#fb9f3a\"], [0.8888888888888888, \"#fdca26\"], [1.0, \"#f0f921\"]], \"type\": \"heatmapgl\"}], \"histogram\": [{\"marker\": {\"colorbar\": {\"outlinewidth\": 0, \"ticks\": \"\"}}, \"type\": \"histogram\"}], \"histogram2d\": [{\"colorbar\": {\"outlinewidth\": 0, \"ticks\": \"\"}, \"colorscale\": [[0.0, \"#0d0887\"], [0.1111111111111111, \"#46039f\"], [0.2222222222222222, \"#7201a8\"], [0.3333333333333333, \"#9c179e\"], [0.4444444444444444, \"#bd3786\"], [0.5555555555555556, \"#d8576b\"], [0.6666666666666666, \"#ed7953\"], [0.7777777777777778, \"#fb9f3a\"], [0.8888888888888888, \"#fdca26\"], [1.0, \"#f0f921\"]], \"type\": \"histogram2d\"}], \"histogram2dcontour\": [{\"colorbar\": {\"outlinewidth\": 0, \"ticks\": \"\"}, \"colorscale\": [[0.0, \"#0d0887\"], [0.1111111111111111, \"#46039f\"], [0.2222222222222222, \"#7201a8\"], [0.3333333333333333, \"#9c179e\"], [0.4444444444444444, \"#bd3786\"], [0.5555555555555556, \"#d8576b\"], [0.6666666666666666, \"#ed7953\"], [0.7777777777777778, \"#fb9f3a\"], [0.8888888888888888, \"#fdca26\"], [1.0, \"#f0f921\"]], \"type\": \"histogram2dcontour\"}], \"mesh3d\": [{\"colorbar\": {\"outlinewidth\": 0, \"ticks\": \"\"}, \"type\": \"mesh3d\"}], \"parcoords\": [{\"line\": {\"colorbar\": {\"outlinewidth\": 0, \"ticks\": \"\"}}, \"type\": \"parcoords\"}], \"pie\": [{\"automargin\": true, \"type\": \"pie\"}], \"scatter\": [{\"marker\": {\"colorbar\": {\"outlinewidth\": 0, \"ticks\": \"\"}}, \"type\": \"scatter\"}], \"scatter3d\": [{\"line\": {\"colorbar\": {\"outlinewidth\": 0, \"ticks\": \"\"}}, \"marker\": {\"colorbar\": {\"outlinewidth\": 0, \"ticks\": \"\"}}, \"type\": \"scatter3d\"}], \"scattercarpet\": [{\"marker\": {\"colorbar\": {\"outlinewidth\": 0, \"ticks\": \"\"}}, \"type\": \"scattercarpet\"}], \"scattergeo\": [{\"marker\": {\"colorbar\": {\"outlinewidth\": 0, \"ticks\": \"\"}}, \"type\": \"scattergeo\"}], \"scattergl\": [{\"marker\": {\"colorbar\": {\"outlinewidth\": 0, \"ticks\": \"\"}}, \"type\": \"scattergl\"}], \"scattermapbox\": [{\"marker\": {\"colorbar\": {\"outlinewidth\": 0, \"ticks\": \"\"}}, \"type\": \"scattermapbox\"}], \"scatterpolar\": [{\"marker\": {\"colorbar\": {\"outlinewidth\": 0, \"ticks\": \"\"}}, \"type\": \"scatterpolar\"}], \"scatterpolargl\": [{\"marker\": {\"colorbar\": {\"outlinewidth\": 0, \"ticks\": \"\"}}, \"type\": \"scatterpolargl\"}], \"scatterternary\": [{\"marker\": {\"colorbar\": {\"outlinewidth\": 0, \"ticks\": \"\"}}, \"type\": \"scatterternary\"}], \"surface\": [{\"colorbar\": {\"outlinewidth\": 0, \"ticks\": \"\"}, \"colorscale\": [[0.0, \"#0d0887\"], [0.1111111111111111, \"#46039f\"], [0.2222222222222222, \"#7201a8\"], [0.3333333333333333, \"#9c179e\"], [0.4444444444444444, \"#bd3786\"], [0.5555555555555556, \"#d8576b\"], [0.6666666666666666, \"#ed7953\"], [0.7777777777777778, \"#fb9f3a\"], [0.8888888888888888, \"#fdca26\"], [1.0, \"#f0f921\"]], \"type\": \"surface\"}], \"table\": [{\"cells\": {\"fill\": {\"color\": \"#EBF0F8\"}, \"line\": {\"color\": \"white\"}}, \"header\": {\"fill\": {\"color\": \"#C8D4E3\"}, \"line\": {\"color\": \"white\"}}, \"type\": \"table\"}]}, \"layout\": {\"annotationdefaults\": {\"arrowcolor\": \"#2a3f5f\", \"arrowhead\": 0, \"arrowwidth\": 1}, \"autotypenumbers\": \"strict\", \"coloraxis\": {\"colorbar\": {\"outlinewidth\": 0, \"ticks\": \"\"}}, \"colorscale\": {\"diverging\": [[0, \"#8e0152\"], [0.1, \"#c51b7d\"], [0.2, \"#de77ae\"], [0.3, \"#f1b6da\"], [0.4, \"#fde0ef\"], [0.5, \"#f7f7f7\"], [0.6, \"#e6f5d0\"], [0.7, \"#b8e186\"], [0.8, \"#7fbc41\"], [0.9, \"#4d9221\"], [1, \"#276419\"]], \"sequential\": [[0.0, \"#0d0887\"], [0.1111111111111111, \"#46039f\"], [0.2222222222222222, \"#7201a8\"], [0.3333333333333333, \"#9c179e\"], [0.4444444444444444, \"#bd3786\"], [0.5555555555555556, \"#d8576b\"], [0.6666666666666666, \"#ed7953\"], [0.7777777777777778, \"#fb9f3a\"], [0.8888888888888888, \"#fdca26\"], [1.0, \"#f0f921\"]], \"sequentialminus\": [[0.0, \"#0d0887\"], [0.1111111111111111, \"#46039f\"], [0.2222222222222222, \"#7201a8\"], [0.3333333333333333, \"#9c179e\"], [0.4444444444444444, \"#bd3786\"], [0.5555555555555556, \"#d8576b\"], [0.6666666666666666, \"#ed7953\"], [0.7777777777777778, \"#fb9f3a\"], [0.8888888888888888, \"#fdca26\"], [1.0, \"#f0f921\"]]}, \"colorway\": [\"#636efa\", \"#EF553B\", \"#00cc96\", \"#ab63fa\", \"#FFA15A\", \"#19d3f3\", \"#FF6692\", \"#B6E880\", \"#FF97FF\", \"#FECB52\"], \"font\": {\"color\": \"#2a3f5f\"}, \"geo\": {\"bgcolor\": \"white\", \"lakecolor\": \"white\", \"landcolor\": \"#E5ECF6\", \"showlakes\": true, \"showland\": true, \"subunitcolor\": \"white\"}, \"hoverlabel\": {\"align\": \"left\"}, \"hovermode\": \"closest\", \"mapbox\": {\"style\": \"light\"}, \"paper_bgcolor\": \"white\", \"plot_bgcolor\": \"#E5ECF6\", \"polar\": {\"angularaxis\": {\"gridcolor\": \"white\", \"linecolor\": \"white\", \"ticks\": \"\"}, \"bgcolor\": \"#E5ECF6\", \"radialaxis\": {\"gridcolor\": \"white\", \"linecolor\": \"white\", \"ticks\": \"\"}}, \"scene\": {\"xaxis\": {\"backgroundcolor\": \"#E5ECF6\", \"gridcolor\": \"white\", \"gridwidth\": 2, \"linecolor\": \"white\", \"showbackground\": true, \"ticks\": \"\", \"zerolinecolor\": \"white\"}, \"yaxis\": {\"backgroundcolor\": \"#E5ECF6\", \"gridcolor\": \"white\", \"gridwidth\": 2, \"linecolor\": \"white\", \"showbackground\": true, \"ticks\": \"\", \"zerolinecolor\": \"white\"}, \"zaxis\": {\"backgroundcolor\": \"#E5ECF6\", \"gridcolor\": \"white\", \"gridwidth\": 2, \"linecolor\": \"white\", \"showbackground\": true, \"ticks\": \"\", \"zerolinecolor\": \"white\"}}, \"shapedefaults\": {\"line\": {\"color\": \"#2a3f5f\"}}, \"ternary\": {\"aaxis\": {\"gridcolor\": \"white\", \"linecolor\": \"white\", \"ticks\": \"\"}, \"baxis\": {\"gridcolor\": \"white\", \"linecolor\": \"white\", \"ticks\": \"\"}, \"bgcolor\": \"#E5ECF6\", \"caxis\": {\"gridcolor\": \"white\", \"linecolor\": \"white\", \"ticks\": \"\"}}, \"title\": {\"x\": 0.05}, \"xaxis\": {\"automargin\": true, \"gridcolor\": \"white\", \"linecolor\": \"white\", \"ticks\": \"\", \"title\": {\"standoff\": 15}, \"zerolinecolor\": \"white\", \"zerolinewidth\": 2}, \"yaxis\": {\"automargin\": true, \"gridcolor\": \"white\", \"linecolor\": \"white\", \"ticks\": \"\", \"title\": {\"standoff\": 15}, \"zerolinecolor\": \"white\", \"zerolinewidth\": 2}}}, \"title\": {\"text\": \"Global Triangle Count for Tries-Base and Improved Version Based on M\"}, \"xaxis\": {\"anchor\": \"y\", \"domain\": [0.0, 1.0], \"title\": {\"text\": \"M\"}}, \"yaxis\": {\"anchor\": \"x\", \"domain\": [0.0, 1.0], \"title\": {\"text\": \"globalcounts\"}}},                        {\"responsive\": true}                    ).then(function(){\n",
       "                            \n",
       "var gd = document.getElementById('919677b7-eb9b-4559-bad9-6ee266cfe6ef');\n",
       "var x = new MutationObserver(function (mutations, observer) {{\n",
       "        var display = window.getComputedStyle(gd).display;\n",
       "        if (!display || display === 'none') {{\n",
       "            console.log([gd, 'removed!']);\n",
       "            Plotly.purge(gd);\n",
       "            observer.disconnect();\n",
       "        }}\n",
       "}});\n",
       "\n",
       "// Listen for the removal of the full notebook cells\n",
       "var notebookContainer = gd.closest('#notebook-container');\n",
       "if (notebookContainer) {{\n",
       "    x.observe(notebookContainer, {childList: true});\n",
       "}}\n",
       "\n",
       "// Listen for the clearing of the current output cell\n",
       "var outputEl = gd.closest('.output');\n",
       "if (outputEl) {{\n",
       "    x.observe(outputEl, {childList: true});\n",
       "}}\n",
       "\n",
       "                        })                };                });            </script>        </div>"
      ]
     },
     "metadata": {},
     "output_type": "display_data"
    }
   ],
   "source": [
    "import plotly.express as px\n",
    "\n",
    "fig = px.scatter(df_results, x=\"M\", y=\"globalcounts\", color=\"type\",\n",
    "                title=\"Global Triangle Count for Triest-Base and Improved Version Based on M\")\n",
    "fig.add_hline(y = 48260)\n",
    "fig.show()"
   ]
  },
  {
   "cell_type": "code",
   "execution_count": 43,
   "id": "beneficial-evanescence",
   "metadata": {},
   "outputs": [
    {
     "data": {
      "application/vnd.plotly.v1+json": {
       "config": {
        "plotlyServerURL": "https://plot.ly"
       },
       "data": [
        {
         "hovertemplate": "type=triest-base<br>M=%{x}<br>estimations=%{y}<extra></extra>",
         "legendgroup": "triest-base",
         "marker": {
          "color": "#636efa",
          "symbol": "circle"
         },
         "mode": "markers",
         "name": "triest-base",
         "orientation": "v",
         "showlegend": true,
         "type": "scatter",
         "x": [
          14484,
          14000,
          10000,
          5000,
          1000,
          500,
          100,
          50,
          10,
          6
         ],
         "xaxis": "x",
         "y": [
          48260,
          48021.07119654726,
          47998.329156771484,
          49230.862572012,
          36496.50865643243,
          48710.771072513024,
          0,
          0,
          0,
          0
         ],
         "yaxis": "y"
        },
        {
         "hovertemplate": "type=triest_impr<br>M=%{x}<br>estimations=%{y}<extra></extra>",
         "legendgroup": "triest_impr",
         "marker": {
          "color": "#EF553B",
          "symbol": "circle"
         },
         "mode": "markers",
         "name": "triest_impr",
         "orientation": "v",
         "showlegend": true,
         "type": "scatter",
         "x": [
          14484,
          14000,
          10000,
          5000,
          1000,
          500,
          100,
          50,
          10,
          6
         ],
         "xaxis": "x",
         "y": [
          48260,
          53433.98984750957,
          147061.41971596156,
          1163168.0764958945,
          156425997.68834385,
          1176554869.6707222,
          57787964804.974556,
          3115266155736.678,
          0,
          0
         ],
         "yaxis": "y"
        }
       ],
       "layout": {
        "legend": {
         "title": {
          "text": "type"
         },
         "tracegroupgap": 0
        },
        "shapes": [
         {
          "type": "line",
          "x0": 0,
          "x1": 1,
          "xref": "x domain",
          "y0": 48260,
          "y1": 48260,
          "yref": "y"
         }
        ],
        "template": {
         "data": {
          "bar": [
           {
            "error_x": {
             "color": "#2a3f5f"
            },
            "error_y": {
             "color": "#2a3f5f"
            },
            "marker": {
             "line": {
              "color": "#E5ECF6",
              "width": 0.5
             }
            },
            "type": "bar"
           }
          ],
          "barpolar": [
           {
            "marker": {
             "line": {
              "color": "#E5ECF6",
              "width": 0.5
             }
            },
            "type": "barpolar"
           }
          ],
          "carpet": [
           {
            "aaxis": {
             "endlinecolor": "#2a3f5f",
             "gridcolor": "white",
             "linecolor": "white",
             "minorgridcolor": "white",
             "startlinecolor": "#2a3f5f"
            },
            "baxis": {
             "endlinecolor": "#2a3f5f",
             "gridcolor": "white",
             "linecolor": "white",
             "minorgridcolor": "white",
             "startlinecolor": "#2a3f5f"
            },
            "type": "carpet"
           }
          ],
          "choropleth": [
           {
            "colorbar": {
             "outlinewidth": 0,
             "ticks": ""
            },
            "type": "choropleth"
           }
          ],
          "contour": [
           {
            "colorbar": {
             "outlinewidth": 0,
             "ticks": ""
            },
            "colorscale": [
             [
              0,
              "#0d0887"
             ],
             [
              0.1111111111111111,
              "#46039f"
             ],
             [
              0.2222222222222222,
              "#7201a8"
             ],
             [
              0.3333333333333333,
              "#9c179e"
             ],
             [
              0.4444444444444444,
              "#bd3786"
             ],
             [
              0.5555555555555556,
              "#d8576b"
             ],
             [
              0.6666666666666666,
              "#ed7953"
             ],
             [
              0.7777777777777778,
              "#fb9f3a"
             ],
             [
              0.8888888888888888,
              "#fdca26"
             ],
             [
              1,
              "#f0f921"
             ]
            ],
            "type": "contour"
           }
          ],
          "contourcarpet": [
           {
            "colorbar": {
             "outlinewidth": 0,
             "ticks": ""
            },
            "type": "contourcarpet"
           }
          ],
          "heatmap": [
           {
            "colorbar": {
             "outlinewidth": 0,
             "ticks": ""
            },
            "colorscale": [
             [
              0,
              "#0d0887"
             ],
             [
              0.1111111111111111,
              "#46039f"
             ],
             [
              0.2222222222222222,
              "#7201a8"
             ],
             [
              0.3333333333333333,
              "#9c179e"
             ],
             [
              0.4444444444444444,
              "#bd3786"
             ],
             [
              0.5555555555555556,
              "#d8576b"
             ],
             [
              0.6666666666666666,
              "#ed7953"
             ],
             [
              0.7777777777777778,
              "#fb9f3a"
             ],
             [
              0.8888888888888888,
              "#fdca26"
             ],
             [
              1,
              "#f0f921"
             ]
            ],
            "type": "heatmap"
           }
          ],
          "heatmapgl": [
           {
            "colorbar": {
             "outlinewidth": 0,
             "ticks": ""
            },
            "colorscale": [
             [
              0,
              "#0d0887"
             ],
             [
              0.1111111111111111,
              "#46039f"
             ],
             [
              0.2222222222222222,
              "#7201a8"
             ],
             [
              0.3333333333333333,
              "#9c179e"
             ],
             [
              0.4444444444444444,
              "#bd3786"
             ],
             [
              0.5555555555555556,
              "#d8576b"
             ],
             [
              0.6666666666666666,
              "#ed7953"
             ],
             [
              0.7777777777777778,
              "#fb9f3a"
             ],
             [
              0.8888888888888888,
              "#fdca26"
             ],
             [
              1,
              "#f0f921"
             ]
            ],
            "type": "heatmapgl"
           }
          ],
          "histogram": [
           {
            "marker": {
             "colorbar": {
              "outlinewidth": 0,
              "ticks": ""
             }
            },
            "type": "histogram"
           }
          ],
          "histogram2d": [
           {
            "colorbar": {
             "outlinewidth": 0,
             "ticks": ""
            },
            "colorscale": [
             [
              0,
              "#0d0887"
             ],
             [
              0.1111111111111111,
              "#46039f"
             ],
             [
              0.2222222222222222,
              "#7201a8"
             ],
             [
              0.3333333333333333,
              "#9c179e"
             ],
             [
              0.4444444444444444,
              "#bd3786"
             ],
             [
              0.5555555555555556,
              "#d8576b"
             ],
             [
              0.6666666666666666,
              "#ed7953"
             ],
             [
              0.7777777777777778,
              "#fb9f3a"
             ],
             [
              0.8888888888888888,
              "#fdca26"
             ],
             [
              1,
              "#f0f921"
             ]
            ],
            "type": "histogram2d"
           }
          ],
          "histogram2dcontour": [
           {
            "colorbar": {
             "outlinewidth": 0,
             "ticks": ""
            },
            "colorscale": [
             [
              0,
              "#0d0887"
             ],
             [
              0.1111111111111111,
              "#46039f"
             ],
             [
              0.2222222222222222,
              "#7201a8"
             ],
             [
              0.3333333333333333,
              "#9c179e"
             ],
             [
              0.4444444444444444,
              "#bd3786"
             ],
             [
              0.5555555555555556,
              "#d8576b"
             ],
             [
              0.6666666666666666,
              "#ed7953"
             ],
             [
              0.7777777777777778,
              "#fb9f3a"
             ],
             [
              0.8888888888888888,
              "#fdca26"
             ],
             [
              1,
              "#f0f921"
             ]
            ],
            "type": "histogram2dcontour"
           }
          ],
          "mesh3d": [
           {
            "colorbar": {
             "outlinewidth": 0,
             "ticks": ""
            },
            "type": "mesh3d"
           }
          ],
          "parcoords": [
           {
            "line": {
             "colorbar": {
              "outlinewidth": 0,
              "ticks": ""
             }
            },
            "type": "parcoords"
           }
          ],
          "pie": [
           {
            "automargin": true,
            "type": "pie"
           }
          ],
          "scatter": [
           {
            "marker": {
             "colorbar": {
              "outlinewidth": 0,
              "ticks": ""
             }
            },
            "type": "scatter"
           }
          ],
          "scatter3d": [
           {
            "line": {
             "colorbar": {
              "outlinewidth": 0,
              "ticks": ""
             }
            },
            "marker": {
             "colorbar": {
              "outlinewidth": 0,
              "ticks": ""
             }
            },
            "type": "scatter3d"
           }
          ],
          "scattercarpet": [
           {
            "marker": {
             "colorbar": {
              "outlinewidth": 0,
              "ticks": ""
             }
            },
            "type": "scattercarpet"
           }
          ],
          "scattergeo": [
           {
            "marker": {
             "colorbar": {
              "outlinewidth": 0,
              "ticks": ""
             }
            },
            "type": "scattergeo"
           }
          ],
          "scattergl": [
           {
            "marker": {
             "colorbar": {
              "outlinewidth": 0,
              "ticks": ""
             }
            },
            "type": "scattergl"
           }
          ],
          "scattermapbox": [
           {
            "marker": {
             "colorbar": {
              "outlinewidth": 0,
              "ticks": ""
             }
            },
            "type": "scattermapbox"
           }
          ],
          "scatterpolar": [
           {
            "marker": {
             "colorbar": {
              "outlinewidth": 0,
              "ticks": ""
             }
            },
            "type": "scatterpolar"
           }
          ],
          "scatterpolargl": [
           {
            "marker": {
             "colorbar": {
              "outlinewidth": 0,
              "ticks": ""
             }
            },
            "type": "scatterpolargl"
           }
          ],
          "scatterternary": [
           {
            "marker": {
             "colorbar": {
              "outlinewidth": 0,
              "ticks": ""
             }
            },
            "type": "scatterternary"
           }
          ],
          "surface": [
           {
            "colorbar": {
             "outlinewidth": 0,
             "ticks": ""
            },
            "colorscale": [
             [
              0,
              "#0d0887"
             ],
             [
              0.1111111111111111,
              "#46039f"
             ],
             [
              0.2222222222222222,
              "#7201a8"
             ],
             [
              0.3333333333333333,
              "#9c179e"
             ],
             [
              0.4444444444444444,
              "#bd3786"
             ],
             [
              0.5555555555555556,
              "#d8576b"
             ],
             [
              0.6666666666666666,
              "#ed7953"
             ],
             [
              0.7777777777777778,
              "#fb9f3a"
             ],
             [
              0.8888888888888888,
              "#fdca26"
             ],
             [
              1,
              "#f0f921"
             ]
            ],
            "type": "surface"
           }
          ],
          "table": [
           {
            "cells": {
             "fill": {
              "color": "#EBF0F8"
             },
             "line": {
              "color": "white"
             }
            },
            "header": {
             "fill": {
              "color": "#C8D4E3"
             },
             "line": {
              "color": "white"
             }
            },
            "type": "table"
           }
          ]
         },
         "layout": {
          "annotationdefaults": {
           "arrowcolor": "#2a3f5f",
           "arrowhead": 0,
           "arrowwidth": 1
          },
          "autotypenumbers": "strict",
          "coloraxis": {
           "colorbar": {
            "outlinewidth": 0,
            "ticks": ""
           }
          },
          "colorscale": {
           "diverging": [
            [
             0,
             "#8e0152"
            ],
            [
             0.1,
             "#c51b7d"
            ],
            [
             0.2,
             "#de77ae"
            ],
            [
             0.3,
             "#f1b6da"
            ],
            [
             0.4,
             "#fde0ef"
            ],
            [
             0.5,
             "#f7f7f7"
            ],
            [
             0.6,
             "#e6f5d0"
            ],
            [
             0.7,
             "#b8e186"
            ],
            [
             0.8,
             "#7fbc41"
            ],
            [
             0.9,
             "#4d9221"
            ],
            [
             1,
             "#276419"
            ]
           ],
           "sequential": [
            [
             0,
             "#0d0887"
            ],
            [
             0.1111111111111111,
             "#46039f"
            ],
            [
             0.2222222222222222,
             "#7201a8"
            ],
            [
             0.3333333333333333,
             "#9c179e"
            ],
            [
             0.4444444444444444,
             "#bd3786"
            ],
            [
             0.5555555555555556,
             "#d8576b"
            ],
            [
             0.6666666666666666,
             "#ed7953"
            ],
            [
             0.7777777777777778,
             "#fb9f3a"
            ],
            [
             0.8888888888888888,
             "#fdca26"
            ],
            [
             1,
             "#f0f921"
            ]
           ],
           "sequentialminus": [
            [
             0,
             "#0d0887"
            ],
            [
             0.1111111111111111,
             "#46039f"
            ],
            [
             0.2222222222222222,
             "#7201a8"
            ],
            [
             0.3333333333333333,
             "#9c179e"
            ],
            [
             0.4444444444444444,
             "#bd3786"
            ],
            [
             0.5555555555555556,
             "#d8576b"
            ],
            [
             0.6666666666666666,
             "#ed7953"
            ],
            [
             0.7777777777777778,
             "#fb9f3a"
            ],
            [
             0.8888888888888888,
             "#fdca26"
            ],
            [
             1,
             "#f0f921"
            ]
           ]
          },
          "colorway": [
           "#636efa",
           "#EF553B",
           "#00cc96",
           "#ab63fa",
           "#FFA15A",
           "#19d3f3",
           "#FF6692",
           "#B6E880",
           "#FF97FF",
           "#FECB52"
          ],
          "font": {
           "color": "#2a3f5f"
          },
          "geo": {
           "bgcolor": "white",
           "lakecolor": "white",
           "landcolor": "#E5ECF6",
           "showlakes": true,
           "showland": true,
           "subunitcolor": "white"
          },
          "hoverlabel": {
           "align": "left"
          },
          "hovermode": "closest",
          "mapbox": {
           "style": "light"
          },
          "paper_bgcolor": "white",
          "plot_bgcolor": "#E5ECF6",
          "polar": {
           "angularaxis": {
            "gridcolor": "white",
            "linecolor": "white",
            "ticks": ""
           },
           "bgcolor": "#E5ECF6",
           "radialaxis": {
            "gridcolor": "white",
            "linecolor": "white",
            "ticks": ""
           }
          },
          "scene": {
           "xaxis": {
            "backgroundcolor": "#E5ECF6",
            "gridcolor": "white",
            "gridwidth": 2,
            "linecolor": "white",
            "showbackground": true,
            "ticks": "",
            "zerolinecolor": "white"
           },
           "yaxis": {
            "backgroundcolor": "#E5ECF6",
            "gridcolor": "white",
            "gridwidth": 2,
            "linecolor": "white",
            "showbackground": true,
            "ticks": "",
            "zerolinecolor": "white"
           },
           "zaxis": {
            "backgroundcolor": "#E5ECF6",
            "gridcolor": "white",
            "gridwidth": 2,
            "linecolor": "white",
            "showbackground": true,
            "ticks": "",
            "zerolinecolor": "white"
           }
          },
          "shapedefaults": {
           "line": {
            "color": "#2a3f5f"
           }
          },
          "ternary": {
           "aaxis": {
            "gridcolor": "white",
            "linecolor": "white",
            "ticks": ""
           },
           "baxis": {
            "gridcolor": "white",
            "linecolor": "white",
            "ticks": ""
           },
           "bgcolor": "#E5ECF6",
           "caxis": {
            "gridcolor": "white",
            "linecolor": "white",
            "ticks": ""
           }
          },
          "title": {
           "x": 0.05
          },
          "xaxis": {
           "automargin": true,
           "gridcolor": "white",
           "linecolor": "white",
           "ticks": "",
           "title": {
            "standoff": 15
           },
           "zerolinecolor": "white",
           "zerolinewidth": 2
          },
          "yaxis": {
           "automargin": true,
           "gridcolor": "white",
           "linecolor": "white",
           "ticks": "",
           "title": {
            "standoff": 15
           },
           "zerolinecolor": "white",
           "zerolinewidth": 2
          }
         }
        },
        "title": {
         "text": "Triangle Count Estimation for Tries-Base and Improved Version Based on M"
        },
        "xaxis": {
         "anchor": "y",
         "domain": [
          0,
          1
         ],
         "title": {
          "text": "M"
         }
        },
        "yaxis": {
         "anchor": "x",
         "domain": [
          0,
          1
         ],
         "title": {
          "text": "estimations"
         }
        }
       }
      },
      "text/html": [
       "<div>                            <div id=\"497d3707-4cf3-4c09-9e47-8e73bf4f2a52\" class=\"plotly-graph-div\" style=\"height:525px; width:100%;\"></div>            <script type=\"text/javascript\">                require([\"plotly\"], function(Plotly) {                    window.PLOTLYENV=window.PLOTLYENV || {};                                    if (document.getElementById(\"497d3707-4cf3-4c09-9e47-8e73bf4f2a52\")) {                    Plotly.newPlot(                        \"497d3707-4cf3-4c09-9e47-8e73bf4f2a52\",                        [{\"hovertemplate\": \"type=triest-base<br>M=%{x}<br>estimations=%{y}<extra></extra>\", \"legendgroup\": \"triest-base\", \"marker\": {\"color\": \"#636efa\", \"symbol\": \"circle\"}, \"mode\": \"markers\", \"name\": \"triest-base\", \"orientation\": \"v\", \"showlegend\": true, \"type\": \"scatter\", \"x\": [14484, 14000, 10000, 5000, 1000, 500, 100, 50, 10, 6], \"xaxis\": \"x\", \"y\": [48260.0, 48021.07119654726, 47998.329156771484, 49230.862572012, 36496.50865643243, 48710.771072513024, 0.0, 0.0, 0.0, 0.0], \"yaxis\": \"y\"}, {\"hovertemplate\": \"type=triest_impr<br>M=%{x}<br>estimations=%{y}<extra></extra>\", \"legendgroup\": \"triest_impr\", \"marker\": {\"color\": \"#EF553B\", \"symbol\": \"circle\"}, \"mode\": \"markers\", \"name\": \"triest_impr\", \"orientation\": \"v\", \"showlegend\": true, \"type\": \"scatter\", \"x\": [14484, 14000, 10000, 5000, 1000, 500, 100, 50, 10, 6], \"xaxis\": \"x\", \"y\": [48260.0, 53433.98984750957, 147061.41971596156, 1163168.0764958945, 156425997.68834385, 1176554869.6707222, 57787964804.974556, 3115266155736.678, 0.0, 0.0], \"yaxis\": \"y\"}],                        {\"legend\": {\"title\": {\"text\": \"type\"}, \"tracegroupgap\": 0}, \"shapes\": [{\"type\": \"line\", \"x0\": 0, \"x1\": 1, \"xref\": \"x domain\", \"y0\": 48260, \"y1\": 48260, \"yref\": \"y\"}], \"template\": {\"data\": {\"bar\": [{\"error_x\": {\"color\": \"#2a3f5f\"}, \"error_y\": {\"color\": \"#2a3f5f\"}, \"marker\": {\"line\": {\"color\": \"#E5ECF6\", \"width\": 0.5}}, \"type\": \"bar\"}], \"barpolar\": [{\"marker\": {\"line\": {\"color\": \"#E5ECF6\", \"width\": 0.5}}, \"type\": \"barpolar\"}], \"carpet\": [{\"aaxis\": {\"endlinecolor\": \"#2a3f5f\", \"gridcolor\": \"white\", \"linecolor\": \"white\", \"minorgridcolor\": \"white\", \"startlinecolor\": \"#2a3f5f\"}, \"baxis\": {\"endlinecolor\": \"#2a3f5f\", \"gridcolor\": \"white\", \"linecolor\": \"white\", \"minorgridcolor\": \"white\", \"startlinecolor\": \"#2a3f5f\"}, \"type\": \"carpet\"}], \"choropleth\": [{\"colorbar\": {\"outlinewidth\": 0, \"ticks\": \"\"}, \"type\": \"choropleth\"}], \"contour\": [{\"colorbar\": {\"outlinewidth\": 0, \"ticks\": \"\"}, \"colorscale\": [[0.0, \"#0d0887\"], [0.1111111111111111, \"#46039f\"], [0.2222222222222222, \"#7201a8\"], [0.3333333333333333, \"#9c179e\"], [0.4444444444444444, \"#bd3786\"], [0.5555555555555556, \"#d8576b\"], [0.6666666666666666, \"#ed7953\"], [0.7777777777777778, \"#fb9f3a\"], [0.8888888888888888, \"#fdca26\"], [1.0, \"#f0f921\"]], \"type\": \"contour\"}], \"contourcarpet\": [{\"colorbar\": {\"outlinewidth\": 0, \"ticks\": \"\"}, \"type\": \"contourcarpet\"}], \"heatmap\": [{\"colorbar\": {\"outlinewidth\": 0, \"ticks\": \"\"}, \"colorscale\": [[0.0, \"#0d0887\"], [0.1111111111111111, \"#46039f\"], [0.2222222222222222, \"#7201a8\"], [0.3333333333333333, \"#9c179e\"], [0.4444444444444444, \"#bd3786\"], [0.5555555555555556, \"#d8576b\"], [0.6666666666666666, \"#ed7953\"], [0.7777777777777778, \"#fb9f3a\"], [0.8888888888888888, \"#fdca26\"], [1.0, \"#f0f921\"]], \"type\": \"heatmap\"}], \"heatmapgl\": [{\"colorbar\": {\"outlinewidth\": 0, \"ticks\": \"\"}, \"colorscale\": [[0.0, \"#0d0887\"], [0.1111111111111111, \"#46039f\"], [0.2222222222222222, \"#7201a8\"], [0.3333333333333333, \"#9c179e\"], [0.4444444444444444, \"#bd3786\"], [0.5555555555555556, \"#d8576b\"], [0.6666666666666666, \"#ed7953\"], [0.7777777777777778, \"#fb9f3a\"], [0.8888888888888888, \"#fdca26\"], [1.0, \"#f0f921\"]], \"type\": \"heatmapgl\"}], \"histogram\": [{\"marker\": {\"colorbar\": {\"outlinewidth\": 0, \"ticks\": \"\"}}, \"type\": \"histogram\"}], \"histogram2d\": [{\"colorbar\": {\"outlinewidth\": 0, \"ticks\": \"\"}, \"colorscale\": [[0.0, \"#0d0887\"], [0.1111111111111111, \"#46039f\"], [0.2222222222222222, \"#7201a8\"], [0.3333333333333333, \"#9c179e\"], [0.4444444444444444, \"#bd3786\"], [0.5555555555555556, \"#d8576b\"], [0.6666666666666666, \"#ed7953\"], [0.7777777777777778, \"#fb9f3a\"], [0.8888888888888888, \"#fdca26\"], [1.0, \"#f0f921\"]], \"type\": \"histogram2d\"}], \"histogram2dcontour\": [{\"colorbar\": {\"outlinewidth\": 0, \"ticks\": \"\"}, \"colorscale\": [[0.0, \"#0d0887\"], [0.1111111111111111, \"#46039f\"], [0.2222222222222222, \"#7201a8\"], [0.3333333333333333, \"#9c179e\"], [0.4444444444444444, \"#bd3786\"], [0.5555555555555556, \"#d8576b\"], [0.6666666666666666, \"#ed7953\"], [0.7777777777777778, \"#fb9f3a\"], [0.8888888888888888, \"#fdca26\"], [1.0, \"#f0f921\"]], \"type\": \"histogram2dcontour\"}], \"mesh3d\": [{\"colorbar\": {\"outlinewidth\": 0, \"ticks\": \"\"}, \"type\": \"mesh3d\"}], \"parcoords\": [{\"line\": {\"colorbar\": {\"outlinewidth\": 0, \"ticks\": \"\"}}, \"type\": \"parcoords\"}], \"pie\": [{\"automargin\": true, \"type\": \"pie\"}], \"scatter\": [{\"marker\": {\"colorbar\": {\"outlinewidth\": 0, \"ticks\": \"\"}}, \"type\": \"scatter\"}], \"scatter3d\": [{\"line\": {\"colorbar\": {\"outlinewidth\": 0, \"ticks\": \"\"}}, \"marker\": {\"colorbar\": {\"outlinewidth\": 0, \"ticks\": \"\"}}, \"type\": \"scatter3d\"}], \"scattercarpet\": [{\"marker\": {\"colorbar\": {\"outlinewidth\": 0, \"ticks\": \"\"}}, \"type\": \"scattercarpet\"}], \"scattergeo\": [{\"marker\": {\"colorbar\": {\"outlinewidth\": 0, \"ticks\": \"\"}}, \"type\": \"scattergeo\"}], \"scattergl\": [{\"marker\": {\"colorbar\": {\"outlinewidth\": 0, \"ticks\": \"\"}}, \"type\": \"scattergl\"}], \"scattermapbox\": [{\"marker\": {\"colorbar\": {\"outlinewidth\": 0, \"ticks\": \"\"}}, \"type\": \"scattermapbox\"}], \"scatterpolar\": [{\"marker\": {\"colorbar\": {\"outlinewidth\": 0, \"ticks\": \"\"}}, \"type\": \"scatterpolar\"}], \"scatterpolargl\": [{\"marker\": {\"colorbar\": {\"outlinewidth\": 0, \"ticks\": \"\"}}, \"type\": \"scatterpolargl\"}], \"scatterternary\": [{\"marker\": {\"colorbar\": {\"outlinewidth\": 0, \"ticks\": \"\"}}, \"type\": \"scatterternary\"}], \"surface\": [{\"colorbar\": {\"outlinewidth\": 0, \"ticks\": \"\"}, \"colorscale\": [[0.0, \"#0d0887\"], [0.1111111111111111, \"#46039f\"], [0.2222222222222222, \"#7201a8\"], [0.3333333333333333, \"#9c179e\"], [0.4444444444444444, \"#bd3786\"], [0.5555555555555556, \"#d8576b\"], [0.6666666666666666, \"#ed7953\"], [0.7777777777777778, \"#fb9f3a\"], [0.8888888888888888, \"#fdca26\"], [1.0, \"#f0f921\"]], \"type\": \"surface\"}], \"table\": [{\"cells\": {\"fill\": {\"color\": \"#EBF0F8\"}, \"line\": {\"color\": \"white\"}}, \"header\": {\"fill\": {\"color\": \"#C8D4E3\"}, \"line\": {\"color\": \"white\"}}, \"type\": \"table\"}]}, \"layout\": {\"annotationdefaults\": {\"arrowcolor\": \"#2a3f5f\", \"arrowhead\": 0, \"arrowwidth\": 1}, \"autotypenumbers\": \"strict\", \"coloraxis\": {\"colorbar\": {\"outlinewidth\": 0, \"ticks\": \"\"}}, \"colorscale\": {\"diverging\": [[0, \"#8e0152\"], [0.1, \"#c51b7d\"], [0.2, \"#de77ae\"], [0.3, \"#f1b6da\"], [0.4, \"#fde0ef\"], [0.5, \"#f7f7f7\"], [0.6, \"#e6f5d0\"], [0.7, \"#b8e186\"], [0.8, \"#7fbc41\"], [0.9, \"#4d9221\"], [1, \"#276419\"]], \"sequential\": [[0.0, \"#0d0887\"], [0.1111111111111111, \"#46039f\"], [0.2222222222222222, \"#7201a8\"], [0.3333333333333333, \"#9c179e\"], [0.4444444444444444, \"#bd3786\"], [0.5555555555555556, \"#d8576b\"], [0.6666666666666666, \"#ed7953\"], [0.7777777777777778, \"#fb9f3a\"], [0.8888888888888888, \"#fdca26\"], [1.0, \"#f0f921\"]], \"sequentialminus\": [[0.0, \"#0d0887\"], [0.1111111111111111, \"#46039f\"], [0.2222222222222222, \"#7201a8\"], [0.3333333333333333, \"#9c179e\"], [0.4444444444444444, \"#bd3786\"], [0.5555555555555556, \"#d8576b\"], [0.6666666666666666, \"#ed7953\"], [0.7777777777777778, \"#fb9f3a\"], [0.8888888888888888, \"#fdca26\"], [1.0, \"#f0f921\"]]}, \"colorway\": [\"#636efa\", \"#EF553B\", \"#00cc96\", \"#ab63fa\", \"#FFA15A\", \"#19d3f3\", \"#FF6692\", \"#B6E880\", \"#FF97FF\", \"#FECB52\"], \"font\": {\"color\": \"#2a3f5f\"}, \"geo\": {\"bgcolor\": \"white\", \"lakecolor\": \"white\", \"landcolor\": \"#E5ECF6\", \"showlakes\": true, \"showland\": true, \"subunitcolor\": \"white\"}, \"hoverlabel\": {\"align\": \"left\"}, \"hovermode\": \"closest\", \"mapbox\": {\"style\": \"light\"}, \"paper_bgcolor\": \"white\", \"plot_bgcolor\": \"#E5ECF6\", \"polar\": {\"angularaxis\": {\"gridcolor\": \"white\", \"linecolor\": \"white\", \"ticks\": \"\"}, \"bgcolor\": \"#E5ECF6\", \"radialaxis\": {\"gridcolor\": \"white\", \"linecolor\": \"white\", \"ticks\": \"\"}}, \"scene\": {\"xaxis\": {\"backgroundcolor\": \"#E5ECF6\", \"gridcolor\": \"white\", \"gridwidth\": 2, \"linecolor\": \"white\", \"showbackground\": true, \"ticks\": \"\", \"zerolinecolor\": \"white\"}, \"yaxis\": {\"backgroundcolor\": \"#E5ECF6\", \"gridcolor\": \"white\", \"gridwidth\": 2, \"linecolor\": \"white\", \"showbackground\": true, \"ticks\": \"\", \"zerolinecolor\": \"white\"}, \"zaxis\": {\"backgroundcolor\": \"#E5ECF6\", \"gridcolor\": \"white\", \"gridwidth\": 2, \"linecolor\": \"white\", \"showbackground\": true, \"ticks\": \"\", \"zerolinecolor\": \"white\"}}, \"shapedefaults\": {\"line\": {\"color\": \"#2a3f5f\"}}, \"ternary\": {\"aaxis\": {\"gridcolor\": \"white\", \"linecolor\": \"white\", \"ticks\": \"\"}, \"baxis\": {\"gridcolor\": \"white\", \"linecolor\": \"white\", \"ticks\": \"\"}, \"bgcolor\": \"#E5ECF6\", \"caxis\": {\"gridcolor\": \"white\", \"linecolor\": \"white\", \"ticks\": \"\"}}, \"title\": {\"x\": 0.05}, \"xaxis\": {\"automargin\": true, \"gridcolor\": \"white\", \"linecolor\": \"white\", \"ticks\": \"\", \"title\": {\"standoff\": 15}, \"zerolinecolor\": \"white\", \"zerolinewidth\": 2}, \"yaxis\": {\"automargin\": true, \"gridcolor\": \"white\", \"linecolor\": \"white\", \"ticks\": \"\", \"title\": {\"standoff\": 15}, \"zerolinecolor\": \"white\", \"zerolinewidth\": 2}}}, \"title\": {\"text\": \"Triangle Count Estimation for Tries-Base and Improved Version Based on M\"}, \"xaxis\": {\"anchor\": \"y\", \"domain\": [0.0, 1.0], \"title\": {\"text\": \"M\"}}, \"yaxis\": {\"anchor\": \"x\", \"domain\": [0.0, 1.0], \"title\": {\"text\": \"estimations\"}}},                        {\"responsive\": true}                    ).then(function(){\n",
       "                            \n",
       "var gd = document.getElementById('497d3707-4cf3-4c09-9e47-8e73bf4f2a52');\n",
       "var x = new MutationObserver(function (mutations, observer) {{\n",
       "        var display = window.getComputedStyle(gd).display;\n",
       "        if (!display || display === 'none') {{\n",
       "            console.log([gd, 'removed!']);\n",
       "            Plotly.purge(gd);\n",
       "            observer.disconnect();\n",
       "        }}\n",
       "}});\n",
       "\n",
       "// Listen for the removal of the full notebook cells\n",
       "var notebookContainer = gd.closest('#notebook-container');\n",
       "if (notebookContainer) {{\n",
       "    x.observe(notebookContainer, {childList: true});\n",
       "}}\n",
       "\n",
       "// Listen for the clearing of the current output cell\n",
       "var outputEl = gd.closest('.output');\n",
       "if (outputEl) {{\n",
       "    x.observe(outputEl, {childList: true});\n",
       "}}\n",
       "\n",
       "                        })                };                });            </script>        </div>"
      ]
     },
     "metadata": {},
     "output_type": "display_data"
    }
   ],
   "source": [
    "import plotly.express as px\n",
    "\n",
    "fig = px.scatter(df_results, x=\"M\", y=\"estimations\", color=\"type\",\n",
    "                title=\"Triangle Count Estimation for Triest-Base and Improved Version Based on M\")\n",
    "fig.add_hline(y = 48260)\n",
    "fig.show()"
   ]
  },
  {
   "cell_type": "code",
   "execution_count": 44,
   "id": "formed-importance",
   "metadata": {},
   "outputs": [
    {
     "data": {
      "application/vnd.plotly.v1+json": {
       "config": {
        "plotlyServerURL": "https://plot.ly"
       },
       "data": [
        {
         "hovertemplate": "type=triest-base<br>M=%{x}<br>times=%{y}<extra></extra>",
         "legendgroup": "triest-base",
         "line": {
          "color": "#636efa",
          "dash": "solid"
         },
         "mode": "lines",
         "name": "triest-base",
         "orientation": "v",
         "showlegend": true,
         "type": "scatter",
         "x": [
          14484,
          14000,
          10000,
          5000,
          1000,
          500,
          100,
          50,
          10,
          6
         ],
         "xaxis": "x",
         "y": [
          17.50373,
          18.85435,
          22.56088,
          11.07069,
          0.99035,
          0.3025,
          0.02597,
          0.01396,
          0.00697,
          0.00698
         ],
         "yaxis": "y"
        },
        {
         "hovertemplate": "type=triest_impr<br>M=%{x}<br>times=%{y}<extra></extra>",
         "legendgroup": "triest_impr",
         "line": {
          "color": "#EF553B",
          "dash": "solid"
         },
         "mode": "lines",
         "name": "triest_impr",
         "orientation": "v",
         "showlegend": true,
         "type": "scatter",
         "x": [
          14484,
          14000,
          10000,
          5000,
          1000,
          500,
          100,
          50,
          10,
          6
         ],
         "xaxis": "x",
         "y": [
          16.79083,
          17.06633,
          15.35887,
          10.13478,
          2.28937,
          1.18654,
          0.25792,
          0.13365,
          0.04987,
          0.03694
         ],
         "yaxis": "y"
        }
       ],
       "layout": {
        "legend": {
         "title": {
          "text": "type"
         },
         "tracegroupgap": 0
        },
        "template": {
         "data": {
          "bar": [
           {
            "error_x": {
             "color": "#2a3f5f"
            },
            "error_y": {
             "color": "#2a3f5f"
            },
            "marker": {
             "line": {
              "color": "#E5ECF6",
              "width": 0.5
             }
            },
            "type": "bar"
           }
          ],
          "barpolar": [
           {
            "marker": {
             "line": {
              "color": "#E5ECF6",
              "width": 0.5
             }
            },
            "type": "barpolar"
           }
          ],
          "carpet": [
           {
            "aaxis": {
             "endlinecolor": "#2a3f5f",
             "gridcolor": "white",
             "linecolor": "white",
             "minorgridcolor": "white",
             "startlinecolor": "#2a3f5f"
            },
            "baxis": {
             "endlinecolor": "#2a3f5f",
             "gridcolor": "white",
             "linecolor": "white",
             "minorgridcolor": "white",
             "startlinecolor": "#2a3f5f"
            },
            "type": "carpet"
           }
          ],
          "choropleth": [
           {
            "colorbar": {
             "outlinewidth": 0,
             "ticks": ""
            },
            "type": "choropleth"
           }
          ],
          "contour": [
           {
            "colorbar": {
             "outlinewidth": 0,
             "ticks": ""
            },
            "colorscale": [
             [
              0,
              "#0d0887"
             ],
             [
              0.1111111111111111,
              "#46039f"
             ],
             [
              0.2222222222222222,
              "#7201a8"
             ],
             [
              0.3333333333333333,
              "#9c179e"
             ],
             [
              0.4444444444444444,
              "#bd3786"
             ],
             [
              0.5555555555555556,
              "#d8576b"
             ],
             [
              0.6666666666666666,
              "#ed7953"
             ],
             [
              0.7777777777777778,
              "#fb9f3a"
             ],
             [
              0.8888888888888888,
              "#fdca26"
             ],
             [
              1,
              "#f0f921"
             ]
            ],
            "type": "contour"
           }
          ],
          "contourcarpet": [
           {
            "colorbar": {
             "outlinewidth": 0,
             "ticks": ""
            },
            "type": "contourcarpet"
           }
          ],
          "heatmap": [
           {
            "colorbar": {
             "outlinewidth": 0,
             "ticks": ""
            },
            "colorscale": [
             [
              0,
              "#0d0887"
             ],
             [
              0.1111111111111111,
              "#46039f"
             ],
             [
              0.2222222222222222,
              "#7201a8"
             ],
             [
              0.3333333333333333,
              "#9c179e"
             ],
             [
              0.4444444444444444,
              "#bd3786"
             ],
             [
              0.5555555555555556,
              "#d8576b"
             ],
             [
              0.6666666666666666,
              "#ed7953"
             ],
             [
              0.7777777777777778,
              "#fb9f3a"
             ],
             [
              0.8888888888888888,
              "#fdca26"
             ],
             [
              1,
              "#f0f921"
             ]
            ],
            "type": "heatmap"
           }
          ],
          "heatmapgl": [
           {
            "colorbar": {
             "outlinewidth": 0,
             "ticks": ""
            },
            "colorscale": [
             [
              0,
              "#0d0887"
             ],
             [
              0.1111111111111111,
              "#46039f"
             ],
             [
              0.2222222222222222,
              "#7201a8"
             ],
             [
              0.3333333333333333,
              "#9c179e"
             ],
             [
              0.4444444444444444,
              "#bd3786"
             ],
             [
              0.5555555555555556,
              "#d8576b"
             ],
             [
              0.6666666666666666,
              "#ed7953"
             ],
             [
              0.7777777777777778,
              "#fb9f3a"
             ],
             [
              0.8888888888888888,
              "#fdca26"
             ],
             [
              1,
              "#f0f921"
             ]
            ],
            "type": "heatmapgl"
           }
          ],
          "histogram": [
           {
            "marker": {
             "colorbar": {
              "outlinewidth": 0,
              "ticks": ""
             }
            },
            "type": "histogram"
           }
          ],
          "histogram2d": [
           {
            "colorbar": {
             "outlinewidth": 0,
             "ticks": ""
            },
            "colorscale": [
             [
              0,
              "#0d0887"
             ],
             [
              0.1111111111111111,
              "#46039f"
             ],
             [
              0.2222222222222222,
              "#7201a8"
             ],
             [
              0.3333333333333333,
              "#9c179e"
             ],
             [
              0.4444444444444444,
              "#bd3786"
             ],
             [
              0.5555555555555556,
              "#d8576b"
             ],
             [
              0.6666666666666666,
              "#ed7953"
             ],
             [
              0.7777777777777778,
              "#fb9f3a"
             ],
             [
              0.8888888888888888,
              "#fdca26"
             ],
             [
              1,
              "#f0f921"
             ]
            ],
            "type": "histogram2d"
           }
          ],
          "histogram2dcontour": [
           {
            "colorbar": {
             "outlinewidth": 0,
             "ticks": ""
            },
            "colorscale": [
             [
              0,
              "#0d0887"
             ],
             [
              0.1111111111111111,
              "#46039f"
             ],
             [
              0.2222222222222222,
              "#7201a8"
             ],
             [
              0.3333333333333333,
              "#9c179e"
             ],
             [
              0.4444444444444444,
              "#bd3786"
             ],
             [
              0.5555555555555556,
              "#d8576b"
             ],
             [
              0.6666666666666666,
              "#ed7953"
             ],
             [
              0.7777777777777778,
              "#fb9f3a"
             ],
             [
              0.8888888888888888,
              "#fdca26"
             ],
             [
              1,
              "#f0f921"
             ]
            ],
            "type": "histogram2dcontour"
           }
          ],
          "mesh3d": [
           {
            "colorbar": {
             "outlinewidth": 0,
             "ticks": ""
            },
            "type": "mesh3d"
           }
          ],
          "parcoords": [
           {
            "line": {
             "colorbar": {
              "outlinewidth": 0,
              "ticks": ""
             }
            },
            "type": "parcoords"
           }
          ],
          "pie": [
           {
            "automargin": true,
            "type": "pie"
           }
          ],
          "scatter": [
           {
            "marker": {
             "colorbar": {
              "outlinewidth": 0,
              "ticks": ""
             }
            },
            "type": "scatter"
           }
          ],
          "scatter3d": [
           {
            "line": {
             "colorbar": {
              "outlinewidth": 0,
              "ticks": ""
             }
            },
            "marker": {
             "colorbar": {
              "outlinewidth": 0,
              "ticks": ""
             }
            },
            "type": "scatter3d"
           }
          ],
          "scattercarpet": [
           {
            "marker": {
             "colorbar": {
              "outlinewidth": 0,
              "ticks": ""
             }
            },
            "type": "scattercarpet"
           }
          ],
          "scattergeo": [
           {
            "marker": {
             "colorbar": {
              "outlinewidth": 0,
              "ticks": ""
             }
            },
            "type": "scattergeo"
           }
          ],
          "scattergl": [
           {
            "marker": {
             "colorbar": {
              "outlinewidth": 0,
              "ticks": ""
             }
            },
            "type": "scattergl"
           }
          ],
          "scattermapbox": [
           {
            "marker": {
             "colorbar": {
              "outlinewidth": 0,
              "ticks": ""
             }
            },
            "type": "scattermapbox"
           }
          ],
          "scatterpolar": [
           {
            "marker": {
             "colorbar": {
              "outlinewidth": 0,
              "ticks": ""
             }
            },
            "type": "scatterpolar"
           }
          ],
          "scatterpolargl": [
           {
            "marker": {
             "colorbar": {
              "outlinewidth": 0,
              "ticks": ""
             }
            },
            "type": "scatterpolargl"
           }
          ],
          "scatterternary": [
           {
            "marker": {
             "colorbar": {
              "outlinewidth": 0,
              "ticks": ""
             }
            },
            "type": "scatterternary"
           }
          ],
          "surface": [
           {
            "colorbar": {
             "outlinewidth": 0,
             "ticks": ""
            },
            "colorscale": [
             [
              0,
              "#0d0887"
             ],
             [
              0.1111111111111111,
              "#46039f"
             ],
             [
              0.2222222222222222,
              "#7201a8"
             ],
             [
              0.3333333333333333,
              "#9c179e"
             ],
             [
              0.4444444444444444,
              "#bd3786"
             ],
             [
              0.5555555555555556,
              "#d8576b"
             ],
             [
              0.6666666666666666,
              "#ed7953"
             ],
             [
              0.7777777777777778,
              "#fb9f3a"
             ],
             [
              0.8888888888888888,
              "#fdca26"
             ],
             [
              1,
              "#f0f921"
             ]
            ],
            "type": "surface"
           }
          ],
          "table": [
           {
            "cells": {
             "fill": {
              "color": "#EBF0F8"
             },
             "line": {
              "color": "white"
             }
            },
            "header": {
             "fill": {
              "color": "#C8D4E3"
             },
             "line": {
              "color": "white"
             }
            },
            "type": "table"
           }
          ]
         },
         "layout": {
          "annotationdefaults": {
           "arrowcolor": "#2a3f5f",
           "arrowhead": 0,
           "arrowwidth": 1
          },
          "autotypenumbers": "strict",
          "coloraxis": {
           "colorbar": {
            "outlinewidth": 0,
            "ticks": ""
           }
          },
          "colorscale": {
           "diverging": [
            [
             0,
             "#8e0152"
            ],
            [
             0.1,
             "#c51b7d"
            ],
            [
             0.2,
             "#de77ae"
            ],
            [
             0.3,
             "#f1b6da"
            ],
            [
             0.4,
             "#fde0ef"
            ],
            [
             0.5,
             "#f7f7f7"
            ],
            [
             0.6,
             "#e6f5d0"
            ],
            [
             0.7,
             "#b8e186"
            ],
            [
             0.8,
             "#7fbc41"
            ],
            [
             0.9,
             "#4d9221"
            ],
            [
             1,
             "#276419"
            ]
           ],
           "sequential": [
            [
             0,
             "#0d0887"
            ],
            [
             0.1111111111111111,
             "#46039f"
            ],
            [
             0.2222222222222222,
             "#7201a8"
            ],
            [
             0.3333333333333333,
             "#9c179e"
            ],
            [
             0.4444444444444444,
             "#bd3786"
            ],
            [
             0.5555555555555556,
             "#d8576b"
            ],
            [
             0.6666666666666666,
             "#ed7953"
            ],
            [
             0.7777777777777778,
             "#fb9f3a"
            ],
            [
             0.8888888888888888,
             "#fdca26"
            ],
            [
             1,
             "#f0f921"
            ]
           ],
           "sequentialminus": [
            [
             0,
             "#0d0887"
            ],
            [
             0.1111111111111111,
             "#46039f"
            ],
            [
             0.2222222222222222,
             "#7201a8"
            ],
            [
             0.3333333333333333,
             "#9c179e"
            ],
            [
             0.4444444444444444,
             "#bd3786"
            ],
            [
             0.5555555555555556,
             "#d8576b"
            ],
            [
             0.6666666666666666,
             "#ed7953"
            ],
            [
             0.7777777777777778,
             "#fb9f3a"
            ],
            [
             0.8888888888888888,
             "#fdca26"
            ],
            [
             1,
             "#f0f921"
            ]
           ]
          },
          "colorway": [
           "#636efa",
           "#EF553B",
           "#00cc96",
           "#ab63fa",
           "#FFA15A",
           "#19d3f3",
           "#FF6692",
           "#B6E880",
           "#FF97FF",
           "#FECB52"
          ],
          "font": {
           "color": "#2a3f5f"
          },
          "geo": {
           "bgcolor": "white",
           "lakecolor": "white",
           "landcolor": "#E5ECF6",
           "showlakes": true,
           "showland": true,
           "subunitcolor": "white"
          },
          "hoverlabel": {
           "align": "left"
          },
          "hovermode": "closest",
          "mapbox": {
           "style": "light"
          },
          "paper_bgcolor": "white",
          "plot_bgcolor": "#E5ECF6",
          "polar": {
           "angularaxis": {
            "gridcolor": "white",
            "linecolor": "white",
            "ticks": ""
           },
           "bgcolor": "#E5ECF6",
           "radialaxis": {
            "gridcolor": "white",
            "linecolor": "white",
            "ticks": ""
           }
          },
          "scene": {
           "xaxis": {
            "backgroundcolor": "#E5ECF6",
            "gridcolor": "white",
            "gridwidth": 2,
            "linecolor": "white",
            "showbackground": true,
            "ticks": "",
            "zerolinecolor": "white"
           },
           "yaxis": {
            "backgroundcolor": "#E5ECF6",
            "gridcolor": "white",
            "gridwidth": 2,
            "linecolor": "white",
            "showbackground": true,
            "ticks": "",
            "zerolinecolor": "white"
           },
           "zaxis": {
            "backgroundcolor": "#E5ECF6",
            "gridcolor": "white",
            "gridwidth": 2,
            "linecolor": "white",
            "showbackground": true,
            "ticks": "",
            "zerolinecolor": "white"
           }
          },
          "shapedefaults": {
           "line": {
            "color": "#2a3f5f"
           }
          },
          "ternary": {
           "aaxis": {
            "gridcolor": "white",
            "linecolor": "white",
            "ticks": ""
           },
           "baxis": {
            "gridcolor": "white",
            "linecolor": "white",
            "ticks": ""
           },
           "bgcolor": "#E5ECF6",
           "caxis": {
            "gridcolor": "white",
            "linecolor": "white",
            "ticks": ""
           }
          },
          "title": {
           "x": 0.05
          },
          "xaxis": {
           "automargin": true,
           "gridcolor": "white",
           "linecolor": "white",
           "ticks": "",
           "title": {
            "standoff": 15
           },
           "zerolinecolor": "white",
           "zerolinewidth": 2
          },
          "yaxis": {
           "automargin": true,
           "gridcolor": "white",
           "linecolor": "white",
           "ticks": "",
           "title": {
            "standoff": 15
           },
           "zerolinecolor": "white",
           "zerolinewidth": 2
          }
         }
        },
        "title": {
         "text": "Runtime for Tries-Base and Improved Version Based on M"
        },
        "xaxis": {
         "anchor": "y",
         "domain": [
          0,
          1
         ],
         "title": {
          "text": "M"
         }
        },
        "yaxis": {
         "anchor": "x",
         "domain": [
          0,
          1
         ],
         "title": {
          "text": "times"
         }
        }
       }
      },
      "text/html": [
       "<div>                            <div id=\"8621d45a-fb91-4ba2-9005-0456117e2a59\" class=\"plotly-graph-div\" style=\"height:525px; width:100%;\"></div>            <script type=\"text/javascript\">                require([\"plotly\"], function(Plotly) {                    window.PLOTLYENV=window.PLOTLYENV || {};                                    if (document.getElementById(\"8621d45a-fb91-4ba2-9005-0456117e2a59\")) {                    Plotly.newPlot(                        \"8621d45a-fb91-4ba2-9005-0456117e2a59\",                        [{\"hovertemplate\": \"type=triest-base<br>M=%{x}<br>times=%{y}<extra></extra>\", \"legendgroup\": \"triest-base\", \"line\": {\"color\": \"#636efa\", \"dash\": \"solid\"}, \"mode\": \"lines\", \"name\": \"triest-base\", \"orientation\": \"v\", \"showlegend\": true, \"type\": \"scatter\", \"x\": [14484, 14000, 10000, 5000, 1000, 500, 100, 50, 10, 6], \"xaxis\": \"x\", \"y\": [17.50373, 18.85435, 22.56088, 11.07069, 0.99035, 0.3025, 0.02597, 0.01396, 0.00697, 0.00698], \"yaxis\": \"y\"}, {\"hovertemplate\": \"type=triest_impr<br>M=%{x}<br>times=%{y}<extra></extra>\", \"legendgroup\": \"triest_impr\", \"line\": {\"color\": \"#EF553B\", \"dash\": \"solid\"}, \"mode\": \"lines\", \"name\": \"triest_impr\", \"orientation\": \"v\", \"showlegend\": true, \"type\": \"scatter\", \"x\": [14484, 14000, 10000, 5000, 1000, 500, 100, 50, 10, 6], \"xaxis\": \"x\", \"y\": [16.79083, 17.06633, 15.35887, 10.13478, 2.28937, 1.18654, 0.25792, 0.13365, 0.04987, 0.03694], \"yaxis\": \"y\"}],                        {\"legend\": {\"title\": {\"text\": \"type\"}, \"tracegroupgap\": 0}, \"template\": {\"data\": {\"bar\": [{\"error_x\": {\"color\": \"#2a3f5f\"}, \"error_y\": {\"color\": \"#2a3f5f\"}, \"marker\": {\"line\": {\"color\": \"#E5ECF6\", \"width\": 0.5}}, \"type\": \"bar\"}], \"barpolar\": [{\"marker\": {\"line\": {\"color\": \"#E5ECF6\", \"width\": 0.5}}, \"type\": \"barpolar\"}], \"carpet\": [{\"aaxis\": {\"endlinecolor\": \"#2a3f5f\", \"gridcolor\": \"white\", \"linecolor\": \"white\", \"minorgridcolor\": \"white\", \"startlinecolor\": \"#2a3f5f\"}, \"baxis\": {\"endlinecolor\": \"#2a3f5f\", \"gridcolor\": \"white\", \"linecolor\": \"white\", \"minorgridcolor\": \"white\", \"startlinecolor\": \"#2a3f5f\"}, \"type\": \"carpet\"}], \"choropleth\": [{\"colorbar\": {\"outlinewidth\": 0, \"ticks\": \"\"}, \"type\": \"choropleth\"}], \"contour\": [{\"colorbar\": {\"outlinewidth\": 0, \"ticks\": \"\"}, \"colorscale\": [[0.0, \"#0d0887\"], [0.1111111111111111, \"#46039f\"], [0.2222222222222222, \"#7201a8\"], [0.3333333333333333, \"#9c179e\"], [0.4444444444444444, \"#bd3786\"], [0.5555555555555556, \"#d8576b\"], [0.6666666666666666, \"#ed7953\"], [0.7777777777777778, \"#fb9f3a\"], [0.8888888888888888, \"#fdca26\"], [1.0, \"#f0f921\"]], \"type\": \"contour\"}], \"contourcarpet\": [{\"colorbar\": {\"outlinewidth\": 0, \"ticks\": \"\"}, \"type\": \"contourcarpet\"}], \"heatmap\": [{\"colorbar\": {\"outlinewidth\": 0, \"ticks\": \"\"}, \"colorscale\": [[0.0, \"#0d0887\"], [0.1111111111111111, \"#46039f\"], [0.2222222222222222, \"#7201a8\"], [0.3333333333333333, \"#9c179e\"], [0.4444444444444444, \"#bd3786\"], [0.5555555555555556, \"#d8576b\"], [0.6666666666666666, \"#ed7953\"], [0.7777777777777778, \"#fb9f3a\"], [0.8888888888888888, \"#fdca26\"], [1.0, \"#f0f921\"]], \"type\": \"heatmap\"}], \"heatmapgl\": [{\"colorbar\": {\"outlinewidth\": 0, \"ticks\": \"\"}, \"colorscale\": [[0.0, \"#0d0887\"], [0.1111111111111111, \"#46039f\"], [0.2222222222222222, \"#7201a8\"], [0.3333333333333333, \"#9c179e\"], [0.4444444444444444, \"#bd3786\"], [0.5555555555555556, \"#d8576b\"], [0.6666666666666666, \"#ed7953\"], [0.7777777777777778, \"#fb9f3a\"], [0.8888888888888888, \"#fdca26\"], [1.0, \"#f0f921\"]], \"type\": \"heatmapgl\"}], \"histogram\": [{\"marker\": {\"colorbar\": {\"outlinewidth\": 0, \"ticks\": \"\"}}, \"type\": \"histogram\"}], \"histogram2d\": [{\"colorbar\": {\"outlinewidth\": 0, \"ticks\": \"\"}, \"colorscale\": [[0.0, \"#0d0887\"], [0.1111111111111111, \"#46039f\"], [0.2222222222222222, \"#7201a8\"], [0.3333333333333333, \"#9c179e\"], [0.4444444444444444, \"#bd3786\"], [0.5555555555555556, \"#d8576b\"], [0.6666666666666666, \"#ed7953\"], [0.7777777777777778, \"#fb9f3a\"], [0.8888888888888888, \"#fdca26\"], [1.0, \"#f0f921\"]], \"type\": \"histogram2d\"}], \"histogram2dcontour\": [{\"colorbar\": {\"outlinewidth\": 0, \"ticks\": \"\"}, \"colorscale\": [[0.0, \"#0d0887\"], [0.1111111111111111, \"#46039f\"], [0.2222222222222222, \"#7201a8\"], [0.3333333333333333, \"#9c179e\"], [0.4444444444444444, \"#bd3786\"], [0.5555555555555556, \"#d8576b\"], [0.6666666666666666, \"#ed7953\"], [0.7777777777777778, \"#fb9f3a\"], [0.8888888888888888, \"#fdca26\"], [1.0, \"#f0f921\"]], \"type\": \"histogram2dcontour\"}], \"mesh3d\": [{\"colorbar\": {\"outlinewidth\": 0, \"ticks\": \"\"}, \"type\": \"mesh3d\"}], \"parcoords\": [{\"line\": {\"colorbar\": {\"outlinewidth\": 0, \"ticks\": \"\"}}, \"type\": \"parcoords\"}], \"pie\": [{\"automargin\": true, \"type\": \"pie\"}], \"scatter\": [{\"marker\": {\"colorbar\": {\"outlinewidth\": 0, \"ticks\": \"\"}}, \"type\": \"scatter\"}], \"scatter3d\": [{\"line\": {\"colorbar\": {\"outlinewidth\": 0, \"ticks\": \"\"}}, \"marker\": {\"colorbar\": {\"outlinewidth\": 0, \"ticks\": \"\"}}, \"type\": \"scatter3d\"}], \"scattercarpet\": [{\"marker\": {\"colorbar\": {\"outlinewidth\": 0, \"ticks\": \"\"}}, \"type\": \"scattercarpet\"}], \"scattergeo\": [{\"marker\": {\"colorbar\": {\"outlinewidth\": 0, \"ticks\": \"\"}}, \"type\": \"scattergeo\"}], \"scattergl\": [{\"marker\": {\"colorbar\": {\"outlinewidth\": 0, \"ticks\": \"\"}}, \"type\": \"scattergl\"}], \"scattermapbox\": [{\"marker\": {\"colorbar\": {\"outlinewidth\": 0, \"ticks\": \"\"}}, \"type\": \"scattermapbox\"}], \"scatterpolar\": [{\"marker\": {\"colorbar\": {\"outlinewidth\": 0, \"ticks\": \"\"}}, \"type\": \"scatterpolar\"}], \"scatterpolargl\": [{\"marker\": {\"colorbar\": {\"outlinewidth\": 0, \"ticks\": \"\"}}, \"type\": \"scatterpolargl\"}], \"scatterternary\": [{\"marker\": {\"colorbar\": {\"outlinewidth\": 0, \"ticks\": \"\"}}, \"type\": \"scatterternary\"}], \"surface\": [{\"colorbar\": {\"outlinewidth\": 0, \"ticks\": \"\"}, \"colorscale\": [[0.0, \"#0d0887\"], [0.1111111111111111, \"#46039f\"], [0.2222222222222222, \"#7201a8\"], [0.3333333333333333, \"#9c179e\"], [0.4444444444444444, \"#bd3786\"], [0.5555555555555556, \"#d8576b\"], [0.6666666666666666, \"#ed7953\"], [0.7777777777777778, \"#fb9f3a\"], [0.8888888888888888, \"#fdca26\"], [1.0, \"#f0f921\"]], \"type\": \"surface\"}], \"table\": [{\"cells\": {\"fill\": {\"color\": \"#EBF0F8\"}, \"line\": {\"color\": \"white\"}}, \"header\": {\"fill\": {\"color\": \"#C8D4E3\"}, \"line\": {\"color\": \"white\"}}, \"type\": \"table\"}]}, \"layout\": {\"annotationdefaults\": {\"arrowcolor\": \"#2a3f5f\", \"arrowhead\": 0, \"arrowwidth\": 1}, \"autotypenumbers\": \"strict\", \"coloraxis\": {\"colorbar\": {\"outlinewidth\": 0, \"ticks\": \"\"}}, \"colorscale\": {\"diverging\": [[0, \"#8e0152\"], [0.1, \"#c51b7d\"], [0.2, \"#de77ae\"], [0.3, \"#f1b6da\"], [0.4, \"#fde0ef\"], [0.5, \"#f7f7f7\"], [0.6, \"#e6f5d0\"], [0.7, \"#b8e186\"], [0.8, \"#7fbc41\"], [0.9, \"#4d9221\"], [1, \"#276419\"]], \"sequential\": [[0.0, \"#0d0887\"], [0.1111111111111111, \"#46039f\"], [0.2222222222222222, \"#7201a8\"], [0.3333333333333333, \"#9c179e\"], [0.4444444444444444, \"#bd3786\"], [0.5555555555555556, \"#d8576b\"], [0.6666666666666666, \"#ed7953\"], [0.7777777777777778, \"#fb9f3a\"], [0.8888888888888888, \"#fdca26\"], [1.0, \"#f0f921\"]], \"sequentialminus\": [[0.0, \"#0d0887\"], [0.1111111111111111, \"#46039f\"], [0.2222222222222222, \"#7201a8\"], [0.3333333333333333, \"#9c179e\"], [0.4444444444444444, \"#bd3786\"], [0.5555555555555556, \"#d8576b\"], [0.6666666666666666, \"#ed7953\"], [0.7777777777777778, \"#fb9f3a\"], [0.8888888888888888, \"#fdca26\"], [1.0, \"#f0f921\"]]}, \"colorway\": [\"#636efa\", \"#EF553B\", \"#00cc96\", \"#ab63fa\", \"#FFA15A\", \"#19d3f3\", \"#FF6692\", \"#B6E880\", \"#FF97FF\", \"#FECB52\"], \"font\": {\"color\": \"#2a3f5f\"}, \"geo\": {\"bgcolor\": \"white\", \"lakecolor\": \"white\", \"landcolor\": \"#E5ECF6\", \"showlakes\": true, \"showland\": true, \"subunitcolor\": \"white\"}, \"hoverlabel\": {\"align\": \"left\"}, \"hovermode\": \"closest\", \"mapbox\": {\"style\": \"light\"}, \"paper_bgcolor\": \"white\", \"plot_bgcolor\": \"#E5ECF6\", \"polar\": {\"angularaxis\": {\"gridcolor\": \"white\", \"linecolor\": \"white\", \"ticks\": \"\"}, \"bgcolor\": \"#E5ECF6\", \"radialaxis\": {\"gridcolor\": \"white\", \"linecolor\": \"white\", \"ticks\": \"\"}}, \"scene\": {\"xaxis\": {\"backgroundcolor\": \"#E5ECF6\", \"gridcolor\": \"white\", \"gridwidth\": 2, \"linecolor\": \"white\", \"showbackground\": true, \"ticks\": \"\", \"zerolinecolor\": \"white\"}, \"yaxis\": {\"backgroundcolor\": \"#E5ECF6\", \"gridcolor\": \"white\", \"gridwidth\": 2, \"linecolor\": \"white\", \"showbackground\": true, \"ticks\": \"\", \"zerolinecolor\": \"white\"}, \"zaxis\": {\"backgroundcolor\": \"#E5ECF6\", \"gridcolor\": \"white\", \"gridwidth\": 2, \"linecolor\": \"white\", \"showbackground\": true, \"ticks\": \"\", \"zerolinecolor\": \"white\"}}, \"shapedefaults\": {\"line\": {\"color\": \"#2a3f5f\"}}, \"ternary\": {\"aaxis\": {\"gridcolor\": \"white\", \"linecolor\": \"white\", \"ticks\": \"\"}, \"baxis\": {\"gridcolor\": \"white\", \"linecolor\": \"white\", \"ticks\": \"\"}, \"bgcolor\": \"#E5ECF6\", \"caxis\": {\"gridcolor\": \"white\", \"linecolor\": \"white\", \"ticks\": \"\"}}, \"title\": {\"x\": 0.05}, \"xaxis\": {\"automargin\": true, \"gridcolor\": \"white\", \"linecolor\": \"white\", \"ticks\": \"\", \"title\": {\"standoff\": 15}, \"zerolinecolor\": \"white\", \"zerolinewidth\": 2}, \"yaxis\": {\"automargin\": true, \"gridcolor\": \"white\", \"linecolor\": \"white\", \"ticks\": \"\", \"title\": {\"standoff\": 15}, \"zerolinecolor\": \"white\", \"zerolinewidth\": 2}}}, \"title\": {\"text\": \"Runtime for Tries-Base and Improved Version Based on M\"}, \"xaxis\": {\"anchor\": \"y\", \"domain\": [0.0, 1.0], \"title\": {\"text\": \"M\"}}, \"yaxis\": {\"anchor\": \"x\", \"domain\": [0.0, 1.0], \"title\": {\"text\": \"times\"}}},                        {\"responsive\": true}                    ).then(function(){\n",
       "                            \n",
       "var gd = document.getElementById('8621d45a-fb91-4ba2-9005-0456117e2a59');\n",
       "var x = new MutationObserver(function (mutations, observer) {{\n",
       "        var display = window.getComputedStyle(gd).display;\n",
       "        if (!display || display === 'none') {{\n",
       "            console.log([gd, 'removed!']);\n",
       "            Plotly.purge(gd);\n",
       "            observer.disconnect();\n",
       "        }}\n",
       "}});\n",
       "\n",
       "// Listen for the removal of the full notebook cells\n",
       "var notebookContainer = gd.closest('#notebook-container');\n",
       "if (notebookContainer) {{\n",
       "    x.observe(notebookContainer, {childList: true});\n",
       "}}\n",
       "\n",
       "// Listen for the clearing of the current output cell\n",
       "var outputEl = gd.closest('.output');\n",
       "if (outputEl) {{\n",
       "    x.observe(outputEl, {childList: true});\n",
       "}}\n",
       "\n",
       "                        })                };                });            </script>        </div>"
      ]
     },
     "metadata": {},
     "output_type": "display_data"
    }
   ],
   "source": [
    "fig = px.line(df_results, x=\"M\", y=\"times\", color=\"type\",\n",
    "             title=\"Runtime for Triest-Base and Improved Version Based on M\")\n",
    "fig.show()"
   ]
  },
  {
   "cell_type": "markdown",
   "id": "worldwide-layer",
   "metadata": {},
   "source": [
    "## Optional task for extra bonus\n",
    "\n",
    "1. **What were the challenges you have faced when implementing the algorithm?**\n",
    "\n",
    "\n",
    "2. **Can the algorithm be easily parallelized? If yes, how? If not, why? Explain.**\n",
    "\n",
    "It is possible to parallelize the algorithm. This can be done by partitioning the set into subsets. Another option is to parallelize the counters using Spark since associative and commutative properties are applied to addition and substraction. The associative property states that you can re-group numbers and you will get the same answer and the commutative property states that you can move numbers around and still arrive at the same answer.\n",
    "\n",
    "3. **Does the algorithm work for unbounded graph streams? Explain.**\n",
    "\n",
    "The algorithm works with time $t$, where $t \\geq 0$. More specifically, \"when queried at the end of time $t$, trièst-base returns $ξ^{(t)} τ^{(t)}$ as the estimation for the global triangle count\". So, when we have an unbounded graph stream, the algorithm can retun an estimation for the global triangle count i.e. we estimate the total global triangle counts so far in the stream.\n",
    "\n",
    "4. **Does the algorithm support edge deletions? If not, what modification would it need? Explain.**\n",
    "\n",
    "No, but the fully dynamic algorithm proposed in the same paper called Trièst-FD is able to: \"It is based on random pairing, a sampling scheme that extends reservoir sampling and can handle deletions. The idea behind the RP scheme is that edge deletions seen on the stream will be compensated by future edge insertions\"."
   ]
  },
  {
   "cell_type": "code",
   "execution_count": null,
   "id": "stupid-surrey",
   "metadata": {},
   "outputs": [],
   "source": []
  }
 ],
 "metadata": {
  "kernelspec": {
   "display_name": "Python 3",
   "language": "python",
   "name": "python3"
  },
  "language_info": {
   "codemirror_mode": {
    "name": "ipython",
    "version": 3
   },
   "file_extension": ".py",
   "mimetype": "text/x-python",
   "name": "python",
   "nbconvert_exporter": "python",
   "pygments_lexer": "ipython3",
   "version": "3.8.5"
  }
 },
 "nbformat": 4,
 "nbformat_minor": 5
}
