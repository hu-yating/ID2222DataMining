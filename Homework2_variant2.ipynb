{
 "cells": [
  {
   "cell_type": "markdown",
   "id": "handled-spirituality",
   "metadata": {},
   "source": [
    "# Discovery of Frequent Itemsets and Association Rules"
   ]
  },
  {
   "cell_type": "markdown",
   "id": "differential-school",
   "metadata": {},
   "source": [
    "The problem of discovering association rules between itemsets in a sales transaction database (a set of baskets) includes the following two sub-problems:\n",
    "\n",
    "1. Finding frequent itemsets with support at least s;\n",
    "2. Generating association rules with confidence at least c from the itemsets found in the first step.\n",
    "Remind that an association rule is an implication X → Y, where X and Y are itemsets such that X∩Y=∅. Support of the rule X → Y is the number of transactions that contain X⋃Y. Confidence of the rule X → Y the fraction of transactions containing X⋃Y in all transactions that contain X."
   ]
  },
  {
   "cell_type": "markdown",
   "id": "efficient-carbon",
   "metadata": {},
   "source": [
    "#### Exercise 1\n",
    "You are to solve the first sub-problem: to implement the A-Priori algorithm for finding frequent itemsets with support at least s in a dataset of sales transactions. Remind that support of an itemset is the number of transactions containing the itemset. To test and evaluate your implementation, write a program that uses your A-Priori algorithm implementation to discover frequent itemsets with support at least s in a given dataset of sales transactions which includes generated transactions (baskets) of hashed items (see Canvas)."
   ]
  },
  {
   "cell_type": "code",
   "execution_count": 1,
   "id": "seven-toyota",
   "metadata": {},
   "outputs": [],
   "source": [
    "baskets = [i.strip().split() for i in open(\"T10I4D100K.dat\").readlines()]"
   ]
  },
  {
   "cell_type": "code",
   "execution_count": 2,
   "id": "liked-tension",
   "metadata": {},
   "outputs": [],
   "source": [
    "transactions = {} # Dictionary with transaction ID as key, and basket as value\n",
    "count = 0\n",
    "for basket in baskets:\n",
    "    count += 1\n",
    "    transactions[count] = basket"
   ]
  },
  {
   "cell_type": "code",
   "execution_count": 3,
   "id": "figured-casting",
   "metadata": {},
   "outputs": [],
   "source": [
    "items = set() # Set of items from all baskets\n",
    "for i in transactions.values():\n",
    "    for j in i:\n",
    "        items.add(j) "
   ]
  },
  {
   "cell_type": "raw",
   "id": "parallel-chile",
   "metadata": {},
   "source": [
    "items = set() # Set of unique items from all baskets\n",
    "for i in transactions.values():\n",
    "    for j in i:\n",
    "        items.add(tuple([j])) "
   ]
  },
  {
   "cell_type": "code",
   "execution_count": 4,
   "id": "excited-courage",
   "metadata": {},
   "outputs": [],
   "source": [
    "# Count the frequency of each item\n",
    "def freq(k,items, transactions):\n",
    "    items_counts = dict() # Dictionary of item and its frequency\n",
    "    for i in items:\n",
    "        if k == 1:\n",
    "            temp_i = {i}\n",
    "        else:\n",
    "            temp_i = set(i)\n",
    "            \n",
    "        for j in transactions.items(): # and basket\n",
    "            if temp_i.issubset(set(j[1])): # if item is in basket\n",
    "                if i in items_counts:\n",
    "                    items_counts[i] += 1 # If already spotted/already in item-freq dict, add 1 to count\n",
    "                else:\n",
    "                    items_counts[i] = 1 # If not spotted yet, set count to 1\n",
    "    return items_counts"
   ]
  },
  {
   "cell_type": "raw",
   "id": "arbitrary-auckland",
   "metadata": {},
   "source": [
    "# Count the frequency of each item\n",
    "def freq(k,items, transactions):\n",
    "    items_counts = dict() # Dictionary of item and its frequency\n",
    "    for i in items:\n",
    "        temp_i = set(i)\n",
    "        for j in transactions.items(): # and basket\n",
    "            if temp_i.issubset(set(j[1])): # if item is in basket\n",
    "                if i in items_counts:\n",
    "                    items_counts[i] += 1 # If already in item-freq dict, add 1 to count\n",
    "                else:\n",
    "                    items_counts[i] = 1 # If not spotted yet, set count to 1\n",
    "    return items_counts"
   ]
  },
  {
   "cell_type": "code",
   "execution_count": 5,
   "id": "dcb17b6e",
   "metadata": {},
   "outputs": [],
   "source": [
    "# Support\n",
    "s_min = 5000\n",
    "L1 = [{j[0]:j[1] for j in freq(1,items, transactions).items() if j[1]>=s_min}]"
   ]
  },
  {
   "cell_type": "code",
   "execution_count": 7,
   "id": "a05306c8",
   "metadata": {},
   "outputs": [
    {
     "name": "stdout",
     "output_type": "stream",
     "text": [
      "Calculating candidates of size 2...\n"
     ]
    }
   ],
   "source": [
    "from itertools import combinations\n",
    "\n",
    "#candidates of len-k which are generated by combining itemsets from L_k-1 and L_1\n",
    "def C_k(k, prev_freq):\n",
    "    cand = []\n",
    "    print(f\"Calculating candidates of size {k}...\")\n",
    "    for i in prev_freq[0].keys():\n",
    "        if k-1 == 1:\n",
    "            temp = {i}\n",
    "            combs = combinations(list(temp.union(set(L1[0].keys()))), k) \n",
    "            cand = list(combs)\n",
    "\n",
    "        else:\n",
    "            temp = set(i)\n",
    "            for j in L1[0].keys():\n",
    "                if len(temp.union({j}))==k:\n",
    "                    cand.append(tuple(temp.union({j})))\n",
    "    return cand\n",
    "cand2 = C_k(2,L1)\n"
   ]
  },
  {
   "cell_type": "code",
   "execution_count": 8,
   "id": "5848f68c",
   "metadata": {},
   "outputs": [
    {
     "name": "stdout",
     "output_type": "stream",
     "text": [
      "Calculating frequent items of size 2\n"
     ]
    }
   ],
   "source": [
    "def L_k(k, candidates, threshold):\n",
    "    print(f\"Calculating frequent items of size {k}\")\n",
    "    Lk = [{j[0]:j[1] for j in freq(k,candidates, transactions).items() if j[1]>=threshold}]\n",
    "    return Lk\n",
    "L2 = L_k(2, cand2, 100)"
   ]
  },
  {
   "cell_type": "code",
   "execution_count": 9,
   "id": "d5f87671",
   "metadata": {
    "scrolled": false
   },
   "outputs": [
    {
     "name": "stdout",
     "output_type": "stream",
     "text": [
      "Calculating candidates of size 3...\n"
     ]
    }
   ],
   "source": [
    "cand3 = C_k(3,L2)"
   ]
  },
  {
   "cell_type": "code",
   "execution_count": 10,
   "id": "43f74d6a",
   "metadata": {},
   "outputs": [
    {
     "name": "stdout",
     "output_type": "stream",
     "text": [
      "Calculating frequent items of size 3\n"
     ]
    }
   ],
   "source": [
    "L3 = L_k(3, cand3, 100)"
   ]
  },
  {
   "cell_type": "code",
   "execution_count": 11,
   "id": "2bf8c600",
   "metadata": {},
   "outputs": [
    {
     "name": "stdout",
     "output_type": "stream",
     "text": [
      "Calculating candidates of size 2...\n",
      "Calculating frequent items of size 2\n",
      "Calculating candidates of size 3...\n",
      "Calculating frequent items of size 3\n",
      "Calculating candidates of size 4...\n",
      "Calculating frequent items of size 4\n",
      "Calculating candidates of size 5...\n",
      "Calculating frequent items of size 5\n"
     ]
    }
   ],
   "source": [
    "# Look for frequent items until there is none\n",
    "\n",
    "result = [] # acts as the sets we need to look up \n",
    "lookup = [] # acts as lookup dictionary later on incl frozensets so order doesn't matter\n",
    "size = 1\n",
    "frequent_items = [] # excluding the frequency \n",
    "s_min = 10\n",
    "L1 = [{j[0]:j[1] for j in freq(1,items, transactions).items() if j[1]>=5000}]\n",
    "result.append(L1[0])\n",
    "lookup.append({frozenset([k]): v for k, v in L1[0].items()})\n",
    "#frequent_items.extend(list(L1[0].keys()))\n",
    "for x in list(L1[0].keys()):\n",
    "    frequent_items.append(tuple({x}))\n",
    "prev_freq = L1\n",
    "while True: \n",
    "    size+=1\n",
    "    candidates = C_k(size,prev_freq)\n",
    "    frequents = L_k(size,candidates,s_min)\n",
    "    prev_freq = frequents\n",
    "    if len(frequents[0])!=0:\n",
    "        frequent_items.extend(list(frequents[0].keys()))\n",
    "        result.append(frequents[0])\n",
    "        lookup.append({frozenset(k): v for k, v in prev_freq[0].items()})\n",
    "    else:\n",
    "        break\n"
   ]
  },
  {
   "cell_type": "markdown",
   "id": "rough-packet",
   "metadata": {},
   "source": [
    "Optional task for extra bonus: Solve the second sub-problem, i.e., develop and implement an algorithm for generating association rules between frequent itemsets discovered by using the A-Priori algorithm in a dataset of sales transactions. The rules must have support at least s and confidence at least c, where s and c are given as input parameters."
   ]
  },
  {
   "cell_type": "code",
   "execution_count": 12,
   "id": "metric-reserve",
   "metadata": {},
   "outputs": [],
   "source": [
    "# For every subset A of frequent itemset I, rule is A -> I\\A\n",
    "# Since conf(ABC → D) ≥ conf(AB →CD) ≥ conf(A → BCD), first filter on association rules with large lhs\n",
    "\n",
    "# Suppose the largest frequent itemset found is of size k=4\n",
    "# Then, we start with all rules with 3 items on lhs and 1 item on rhs i.e. (3)-->(1) [size=4] \n",
    "# From (3)-->(1), we go to (2)-->(1) [size 3] we go to (1)-->(1) [size 2]\n",
    "\n",
    "# Then from (3)-->(1), we go to (2)-->(2) [size=4] and (1)-->(3) [size=4]\n",
    "# From (2)-->(2) we go to (1)-->(2) [size 3] "
   ]
  },
  {
   "cell_type": "code",
   "execution_count": 13,
   "id": "transparent-mystery",
   "metadata": {
    "scrolled": false
   },
   "outputs": [
    {
     "data": {
      "text/plain": [
       "[{'684': 5408,\n",
       "  '217': 5375,\n",
       "  '368': 7828,\n",
       "  '529': 7057,\n",
       "  '829': 6810,\n",
       "  '419': 5057,\n",
       "  '722': 5845,\n",
       "  '766': 6265,\n",
       "  '494': 5102,\n",
       "  '354': 5835},\n",
       " {('419', '368'): 355,\n",
       "  ('419', '684'): 155,\n",
       "  ('419', '829'): 259,\n",
       "  ('419', '529'): 252,\n",
       "  ('419', '354'): 263,\n",
       "  ('419', '217'): 344,\n",
       "  ('419', '766'): 238,\n",
       "  ('419', '722'): 366,\n",
       "  ('419', '494'): 176,\n",
       "  ('368', '684'): 387,\n",
       "  ('368', '829'): 1194,\n",
       "  ('368', '529'): 640,\n",
       "  ('368', '354'): 319,\n",
       "  ('368', '217'): 303,\n",
       "  ('368', '766'): 504,\n",
       "  ('368', '722'): 392,\n",
       "  ('368', '494'): 860,\n",
       "  ('684', '829'): 349,\n",
       "  ('684', '529'): 334,\n",
       "  ('684', '354'): 219,\n",
       "  ('684', '217'): 198,\n",
       "  ('684', '766'): 613,\n",
       "  ('684', '722'): 443,\n",
       "  ('684', '494'): 208,\n",
       "  ('829', '529'): 584,\n",
       "  ('829', '354'): 259,\n",
       "  ('829', '217'): 275,\n",
       "  ('829', '766'): 321,\n",
       "  ('829', '722'): 294,\n",
       "  ('829', '494'): 267,\n",
       "  ('529', '354'): 301,\n",
       "  ('529', '217'): 403,\n",
       "  ('529', '766'): 317,\n",
       "  ('529', '722'): 283,\n",
       "  ('529', '494'): 225,\n",
       "  ('354', '217'): 280,\n",
       "  ('354', '766'): 329,\n",
       "  ('354', '722'): 566,\n",
       "  ('354', '494'): 189,\n",
       "  ('217', '766'): 276,\n",
       "  ('217', '722'): 498,\n",
       "  ('217', '494'): 183,\n",
       "  ('766', '722'): 328,\n",
       "  ('766', '494'): 227,\n",
       "  ('722', '494'): 226},\n",
       " {('419', '368', '684'): 18,\n",
       "  ('419', '368', '217'): 51,\n",
       "  ('419', '368', '529'): 44,\n",
       "  ('419', '829', '368'): 44,\n",
       "  ('419', '368', '722'): 81,\n",
       "  ('419', '368', '766'): 57,\n",
       "  ('419', '368', '494'): 99,\n",
       "  ('419', '368', '354'): 39,\n",
       "  ('419', '684', '217'): 22,\n",
       "  ('419', '684', '529'): 18,\n",
       "  ('419', '829', '684'): 14,\n",
       "  ('419', '684', '722'): 38,\n",
       "  ('419', '684', '766'): 22,\n",
       "  ('419', '829', '217'): 22,\n",
       "  ('419', '368', '829'): 44,\n",
       "  ('419', '829', '529'): 40,\n",
       "  ('419', '829', '722'): 26,\n",
       "  ('419', '829', '766'): 22,\n",
       "  ('419', '829', '354'): 20,\n",
       "  ('419', '529', '217'): 34,\n",
       "  ('419', '529', '722'): 38,\n",
       "  ('419', '529', '766'): 14,\n",
       "  ('419', '494', '529'): 18,\n",
       "  ('419', '529', '354'): 32,\n",
       "  ('419', '354', '217'): 57,\n",
       "  ('419', '722', '354'): 66,\n",
       "  ('419', '354', '766'): 36,\n",
       "  ('419', '494', '354'): 21,\n",
       "  ('419', '722', '217'): 78,\n",
       "  ('419', '217', '766'): 54,\n",
       "  ('419', '494', '217'): 18,\n",
       "  ('419', '722', '766'): 45,\n",
       "  ('419', '494', '766'): 21,\n",
       "  ('419', '494', '722'): 48,\n",
       "  ('684', '368', '217'): 33,\n",
       "  ('684', '368', '529'): 66,\n",
       "  ('684', '829', '368'): 116,\n",
       "  ('684', '368', '722'): 72,\n",
       "  ('684', '368', '766'): 117,\n",
       "  ('684', '368', '494'): 105,\n",
       "  ('684', '368', '354'): 36,\n",
       "  ('829', '368', '684'): 116,\n",
       "  ('829', '368', '217'): 141,\n",
       "  ('829', '368', '529'): 150,\n",
       "  ('829', '368', '419'): 44,\n",
       "  ('829', '368', '722'): 138,\n",
       "  ('829', '368', '766'): 204,\n",
       "  ('829', '368', '494'): 270,\n",
       "  ('829', '368', '354'): 141,\n",
       "  ('529', '368', '684'): 33,\n",
       "  ('529', '368', '217'): 72,\n",
       "  ('529', '829', '368'): 75,\n",
       "  ('529', '368', '419'): 22,\n",
       "  ('529', '368', '722'): 48,\n",
       "  ('529', '368', '766'): 96,\n",
       "  ('529', '368', '494'): 123,\n",
       "  ('529', '368', '354'): 63,\n",
       "  ('368', '354', '217'): 15,\n",
       "  ('368', '722', '354'): 105,\n",
       "  ('368', '354', '766'): 75,\n",
       "  ('368', '494', '354'): 102,\n",
       "  ('368', '722', '217'): 63,\n",
       "  ('368', '217', '766'): 42,\n",
       "  ('368', '494', '217'): 108,\n",
       "  ('368', '722', '766'): 57,\n",
       "  ('368', '494', '766'): 96,\n",
       "  ('368', '494', '722'): 108,\n",
       "  ('684', '829', '217'): 24,\n",
       "  ('684', '368', '829'): 116,\n",
       "  ('684', '829', '529'): 44,\n",
       "  ('684', '829', '722'): 38,\n",
       "  ('684', '829', '766'): 54,\n",
       "  ('684', '829', '494'): 28,\n",
       "  ('684', '829', '354'): 16,\n",
       "  ('684', '529', '217'): 36,\n",
       "  ('684', '529', '722'): 38,\n",
       "  ('684', '529', '766'): 80,\n",
       "  ('684', '494', '529'): 16,\n",
       "  ('684', '529', '354'): 20,\n",
       "  ('684', '354', '217'): 27,\n",
       "  ('684', '722', '354'): 63,\n",
       "  ('684', '354', '766'): 57,\n",
       "  ('684', '494', '354'): 21,\n",
       "  ('684', '419', '217'): 11,\n",
       "  ('684', '722', '217'): 45,\n",
       "  ('684', '217', '766'): 57,\n",
       "  ('684', '494', '217'): 18,\n",
       "  ('684', '419', '766'): 11,\n",
       "  ('684', '722', '766'): 87,\n",
       "  ('684', '494', '766'): 45,\n",
       "  ('684', '419', '722'): 19,\n",
       "  ('684', '494', '722'): 63,\n",
       "  ('829', '684', '529'): 22,\n",
       "  ('829', '529', '217'): 30,\n",
       "  ('829', '419', '529'): 20,\n",
       "  ('829', '529', '722'): 22,\n",
       "  ('829', '529', '766'): 42,\n",
       "  ('829', '494', '529'): 34,\n",
       "  ('829', '529', '354'): 36,\n",
       "  ('829', '354', '217'): 39,\n",
       "  ('829', '419', '354'): 10,\n",
       "  ('829', '722', '354'): 60,\n",
       "  ('829', '354', '766'): 33,\n",
       "  ('829', '494', '354'): 15,\n",
       "  ('829', '684', '217'): 12,\n",
       "  ('829', '419', '217'): 11,\n",
       "  ('829', '722', '217'): 66,\n",
       "  ('829', '217', '766'): 18,\n",
       "  ('829', '494', '217'): 15,\n",
       "  ('829', '684', '766'): 27,\n",
       "  ('829', '419', '766'): 11,\n",
       "  ('829', '722', '766'): 45,\n",
       "  ('829', '494', '766'): 21,\n",
       "  ('829', '684', '722'): 19,\n",
       "  ('829', '419', '722'): 13,\n",
       "  ('829', '494', '722'): 33,\n",
       "  ('829', '494', '684'): 14,\n",
       "  ('529', '684', '354'): 10,\n",
       "  ('529', '354', '217'): 48,\n",
       "  ('529', '829', '354'): 18,\n",
       "  ('529', '419', '354'): 16,\n",
       "  ('529', '722', '354'): 60,\n",
       "  ('529', '354', '766'): 42,\n",
       "  ('529', '494', '354'): 18,\n",
       "  ('529', '684', '217'): 18,\n",
       "  ('529', '829', '217'): 15,\n",
       "  ('529', '419', '217'): 17,\n",
       "  ('529', '722', '217'): 99,\n",
       "  ('529', '217', '766'): 33,\n",
       "  ('529', '494', '217'): 15,\n",
       "  ('529', '684', '766'): 40,\n",
       "  ('529', '829', '766'): 21,\n",
       "  ('529', '722', '766'): 51,\n",
       "  ('529', '494', '766'): 12,\n",
       "  ('529', '684', '722'): 19,\n",
       "  ('529', '829', '722'): 11,\n",
       "  ('529', '419', '722'): 19,\n",
       "  ('529', '494', '722'): 12,\n",
       "  ('529', '829', '494'): 17,\n",
       "  ('722', '354', '217'): 38,\n",
       "  ('354', '217', '766'): 54,\n",
       "  ('494', '354', '217'): 15,\n",
       "  ('722', '354', '766'): 90,\n",
       "  ('494', '354', '766'): 21,\n",
       "  ('722', '354', '494'): 10,\n",
       "  ('722', '494', '354'): 10,\n",
       "  ('722', '217', '766'): 66,\n",
       "  ('494', '217', '766'): 18,\n",
       "  ('494', '722', '217'): 42,\n",
       "  ('354', '722', '217'): 19,\n",
       "  ('494', '722', '766'): 36,\n",
       "  ('494', '722', '354'): 10},\n",
       " {('419', '368', '494', '217'): 12,\n",
       "  ('419', '368', '494', '722'): 16,\n",
       "  ('684', '829', '368', '217'): 12,\n",
       "  ('684', '829', '368', '529'): 16,\n",
       "  ('684', '368', '529', '766'): 12,\n",
       "  ('684', '368', '829', '217'): 12,\n",
       "  ('684', '368', '829', '529'): 16,\n",
       "  ('684', '368', '829', '722'): 14,\n",
       "  ('684', '368', '829', '766'): 14,\n",
       "  ('684', '368', '829', '494'): 14,\n",
       "  ('684', '829', '368', '722'): 14,\n",
       "  ('684', '368', '722', '766'): 12,\n",
       "  ('684', '368', '494', '722'): 24,\n",
       "  ('684', '829', '368', '766'): 14,\n",
       "  ('684', '829', '368', '494'): 14,\n",
       "  ('829', '368', '684', '217'): 18,\n",
       "  ('829', '368', '684', '529'): 24,\n",
       "  ('829', '368', '684', '722'): 21,\n",
       "  ('829', '368', '684', '766'): 21,\n",
       "  ('829', '368', '494', '684'): 21,\n",
       "  ('829', '368', '217', '766'): 12,\n",
       "  ('829', '368', '529', '766'): 15,\n",
       "  ('829', '368', '722', '766'): 24,\n",
       "  ('829', '368', '494', '722'): 16,\n",
       "  ('529', '368', '684', '766'): 12,\n",
       "  ('529', '368', '829', '766'): 10,\n",
       "  ('368', '722', '354', '766'): 12,\n",
       "  ('368', '494', '722', '354'): 12,\n",
       "  ('368', '494', '722', '217'): 20,\n",
       "  ('684', '529', '722', '766'): 12,\n",
       "  ('684', '494', '722', '766'): 12,\n",
       "  ('529', '722', '217', '766'): 12,\n",
       "  ('529', '684', '722', '766'): 12}]"
      ]
     },
     "execution_count": 13,
     "metadata": {},
     "output_type": "execute_result"
    }
   ],
   "source": [
    "result"
   ]
  },
  {
   "cell_type": "code",
   "execution_count": 14,
   "id": "prerequisite-commodity",
   "metadata": {},
   "outputs": [],
   "source": [
    "def association_rules(itemsets):\n",
    "    rules = []\n",
    "    for itemset in itemsets: # First generate rules for the largest itemsets\n",
    "        rule = {}\n",
    "        for i in range(len(itemset)):\n",
    "            rhs = itemset[i] # For 4-itemset, we check (3) --> (1)\n",
    "            lhs = set(itemset) - {rhs}\n",
    "            rule[tuple(lhs)] = rhs\n",
    "        rules.append(rule)\n",
    "    return rules"
   ]
  },
  {
   "cell_type": "code",
   "execution_count": 15,
   "id": "pharmaceutical-observer",
   "metadata": {},
   "outputs": [],
   "source": [
    "def calculate_confidence(min_c,rules):\n",
    "    confidences = {}\n",
    "    for i in range(len(rules)):\n",
    "        rule = rules[i]\n",
    "        for lhs,rhs in zip(list(rule.keys()),list(rule.values())):\n",
    "            support = total_dict[frozenset(lhs)]\n",
    "            union_lhs_rhs = frozenset(tuple(set(lhs+tuple([rhs]))))\n",
    "            if union_lhs_rhs in total_dict:\n",
    "                support_union = total_dict[union_lhs_rhs]\n",
    "                confidence = support_union/support\n",
    "                confidences[(lhs,rhs)] = round(confidence,3)\n",
    "            #elif tuple(set(lhs+tuple([rhs]))) in total_dict:\n",
    "            #    confidence = support/total_dict[tuple(set(lhs+tuple([rhs])))]\n",
    "            #    confidences[str(lhs)+\"->\"+str(rhs)] = round(confidence,3)\n",
    "            else: \n",
    "                print(\"Not in dictionary\")\n",
    "    association_rules_at_least_c = {j[0]:j[1] for j in confidences.items() if j[1]>=min_c}\n",
    "    return association_rules_at_least_c\n",
    "    #return confidences"
   ]
  },
  {
   "cell_type": "code",
   "execution_count": 16,
   "id": "described-occasion",
   "metadata": {},
   "outputs": [],
   "source": [
    "# Suppose the largest frequent itemset found is of size k=4\n",
    "# Then, we start with all rules with 3 items on lhs and 1 item on rhs i.e. (3)-->(1) [size=4] \n",
    "# From (3)-->(1), we go to (2)-->(1) [size 3] we go to (1)-->(1) [size 2]\n",
    "\n",
    "all_filtered_rules = []\n",
    "min_c = 0.3\n",
    "\n",
    "total_dict = {k: v for d in lookup for k, v in d.items()} # Create one dictionary as look-up\n",
    "# Start with the largest lhs\n",
    "largest_lhs = list(result[-1].keys())\n",
    "# Generate association rules for the largest lhs\n",
    "sub_rules = association_rules(largest_lhs) # For 4-itemset, we check (3)-->(1)\n",
    "# Calculate confidence and filter out\n",
    "filtered_rules = calculate_confidence(min_c,sub_rules)\n",
    "all_filtered_rules.append(filtered_rules)\n",
    "\n",
    "# Generate new rules based on the non-filtered-out rules\n",
    "sub = [rule[0] for rule in filtered_rules.keys()]\n",
    "while len(sub)>0 and len(sub[0])>1:\n",
    "    rules_sub = association_rules(sub) # For 4-itemset, we checked (3)-->(1), now (2)-->(1), and (1)-->(1)\n",
    "    filtered_rules = calculate_confidence(min_c,rules_sub)\n",
    "    all_filtered_rules.append(filtered_rules)\n",
    "    sub = [rule[0] for rule in filtered_rules.keys()]\n",
    "\n",
    "association_rules_filtered = {k: v for d in all_filtered_rules for k, v in d.items()}"
   ]
  },
  {
   "cell_type": "code",
   "execution_count": 17,
   "id": "signal-trinity",
   "metadata": {},
   "outputs": [
    {
     "data": {
      "text/plain": [
       "[{(('419', '494', '217'), '368'): 0.667,\n",
       "  (('419', '494', '722'), '368'): 0.333,\n",
       "  (('684', '368', '217'), '829'): 0.545,\n",
       "  (('684', '829', '217'), '368'): 1.5,\n",
       "  (('829', '368', '529'), '684'): 0.32,\n",
       "  (('684', '368', '529'), '829'): 0.727,\n",
       "  (('684', '829', '529'), '368'): 1.091,\n",
       "  (('684', '529', '766'), '368'): 0.3,\n",
       "  (('684', '368', '529'), '766'): 0.364,\n",
       "  (('684', '829', '722'), '368'): 1.105,\n",
       "  (('684', '829', '766'), '368'): 0.778,\n",
       "  (('684', '829', '494'), '368'): 1.5,\n",
       "  (('684', '494', '722'), '368'): 0.381,\n",
       "  (('684', '368', '722'), '494'): 0.333,\n",
       "  (('829', '684', '217'), '368'): 1.5,\n",
       "  (('829', '684', '529'), '368'): 1.091,\n",
       "  (('829', '684', '722'), '368'): 1.105,\n",
       "  (('829', '684', '766'), '368'): 0.778,\n",
       "  (('829', '494', '684'), '368'): 1.5,\n",
       "  (('829', '217', '766'), '368'): 0.667,\n",
       "  (('829', '529', '766'), '368'): 0.476,\n",
       "  (('368', '722', '766'), '829'): 0.421,\n",
       "  (('829', '722', '766'), '368'): 0.533,\n",
       "  (('829', '494', '722'), '368'): 0.485,\n",
       "  (('529', '684', '766'), '368'): 0.3,\n",
       "  (('529', '368', '684'), '766'): 0.364,\n",
       "  (('529', '829', '766'), '368'): 0.476,\n",
       "  (('494', '722', '354'), '368'): 1.2,\n",
       "  (('494', '722', '217'), '368'): 0.476,\n",
       "  (('368', '722', '217'), '494'): 0.317,\n",
       "  (('684', '529', '766'), '722'): 0.3,\n",
       "  (('684', '529', '722'), '766'): 0.632,\n",
       "  (('494', '722', '766'), '684'): 0.333,\n",
       "  (('529', '217', '766'), '722'): 0.364,\n",
       "  (('529', '684', '766'), '722'): 0.3,\n",
       "  (('529', '684', '722'), '766'): 0.632},\n",
       " {(('684', '494'), '722'): 0.303},\n",
       " {}]"
      ]
     },
     "execution_count": 17,
     "metadata": {},
     "output_type": "execute_result"
    }
   ],
   "source": [
    "all_filtered_rules"
   ]
  },
  {
   "cell_type": "code",
   "execution_count": 18,
   "id": "embedded-concept",
   "metadata": {
    "scrolled": false
   },
   "outputs": [
    {
     "data": {
      "text/plain": [
       "{(('419', '494', '217'), '368'): 0.667,\n",
       " (('419', '494', '722'), '368'): 0.333,\n",
       " (('684', '368', '217'), '829'): 0.545,\n",
       " (('684', '829', '217'), '368'): 1.5,\n",
       " (('829', '368', '529'), '684'): 0.32,\n",
       " (('684', '368', '529'), '829'): 0.727,\n",
       " (('684', '829', '529'), '368'): 1.091,\n",
       " (('684', '529', '766'), '368'): 0.3,\n",
       " (('684', '368', '529'), '766'): 0.364,\n",
       " (('684', '829', '722'), '368'): 1.105,\n",
       " (('684', '829', '766'), '368'): 0.778,\n",
       " (('684', '829', '494'), '368'): 1.5,\n",
       " (('684', '494', '722'), '368'): 0.381,\n",
       " (('684', '368', '722'), '494'): 0.333,\n",
       " (('829', '684', '217'), '368'): 1.5,\n",
       " (('829', '684', '529'), '368'): 1.091,\n",
       " (('829', '684', '722'), '368'): 1.105,\n",
       " (('829', '684', '766'), '368'): 0.778,\n",
       " (('829', '494', '684'), '368'): 1.5,\n",
       " (('829', '217', '766'), '368'): 0.667,\n",
       " (('829', '529', '766'), '368'): 0.476,\n",
       " (('368', '722', '766'), '829'): 0.421,\n",
       " (('829', '722', '766'), '368'): 0.533,\n",
       " (('829', '494', '722'), '368'): 0.485,\n",
       " (('529', '684', '766'), '368'): 0.3,\n",
       " (('529', '368', '684'), '766'): 0.364,\n",
       " (('529', '829', '766'), '368'): 0.476,\n",
       " (('494', '722', '354'), '368'): 1.2,\n",
       " (('494', '722', '217'), '368'): 0.476,\n",
       " (('368', '722', '217'), '494'): 0.317,\n",
       " (('684', '529', '766'), '722'): 0.3,\n",
       " (('684', '529', '722'), '766'): 0.632,\n",
       " (('494', '722', '766'), '684'): 0.333,\n",
       " (('529', '217', '766'), '722'): 0.364,\n",
       " (('529', '684', '766'), '722'): 0.3,\n",
       " (('529', '684', '722'), '766'): 0.632,\n",
       " (('684', '494'), '722'): 0.303}"
      ]
     },
     "execution_count": 18,
     "metadata": {},
     "output_type": "execute_result"
    }
   ],
   "source": [
    "association_rules_filtered"
   ]
  },
  {
   "cell_type": "code",
   "execution_count": 19,
   "id": "loving-vegetarian",
   "metadata": {},
   "outputs": [
    {
     "data": {
      "text/plain": [
       "19"
      ]
     },
     "execution_count": 19,
     "metadata": {},
     "output_type": "execute_result"
    }
   ],
   "source": [
    "total_dict[frozenset(('684', '829', '722'))]"
   ]
  },
  {
   "cell_type": "code",
   "execution_count": 20,
   "id": "bottom-hawaiian",
   "metadata": {},
   "outputs": [
    {
     "data": {
      "text/plain": [
       "21"
      ]
     },
     "execution_count": 20,
     "metadata": {},
     "output_type": "execute_result"
    }
   ],
   "source": [
    "total_dict[frozenset(('684', '829', '722', '368'))]"
   ]
  },
  {
   "cell_type": "code",
   "execution_count": 21,
   "id": "descending-spring",
   "metadata": {},
   "outputs": [
    {
     "name": "stdout",
     "output_type": "stream",
     "text": [
      "{(('684', '829', '217'), '368'): 1.5, (('684', '829', '529'), '368'): 1.091, (('684', '829', '722'), '368'): 1.105, (('684', '829', '494'), '368'): 1.5, (('829', '684', '217'), '368'): 1.5, (('829', '684', '529'), '368'): 1.091, (('829', '684', '722'), '368'): 1.105, (('829', '494', '684'), '368'): 1.5, (('494', '722', '354'), '368'): 1.2}\n"
     ]
    }
   ],
   "source": [
    "# Then from (3)-->(1), we go to (2)-->(2) [size=4] and (1)-->(3) [size=4]\n",
    "# From (2)-->(2) we go to (1)-->(2) [size 3] \n",
    "\n",
    "all_filtered_rules = []\n",
    "min_c = 0.8\n",
    "\n",
    "total_dict = {k: v for d in lookup for k, v in d.items()} # Create one dictionary as look-up\n",
    "# Start with the largest lhs\n",
    "largest_lhs = list(result[-1].keys())\n",
    "# Generate association rules for the largest lhs\n",
    "sub_rules = association_rules(largest_lhs) # For 4-itemset, we check (3)-->(1)\n",
    "# Calculate confidence and filter out\n",
    "filtered_rules = calculate_confidence(min_c,sub_rules)\n",
    "print(filtered_rules)\n",
    "all_filtered_rules.append(filtered_rules)"
   ]
  },
  {
   "cell_type": "code",
   "execution_count": 22,
   "id": "rolled-compiler",
   "metadata": {},
   "outputs": [
    {
     "data": {
      "text/plain": [
       "{('829', '217'): ('684', '368'),\n",
       " ('684', '217'): ('829', '368'),\n",
       " ('684', '829'): ('368', '494'),\n",
       " ('829', '529'): ('684', '368'),\n",
       " ('684', '529'): ('829', '368'),\n",
       " ('829', '722'): ('684', '368'),\n",
       " ('684', '722'): ('829', '368'),\n",
       " ('829', '494'): ('684', '368'),\n",
       " ('684', '494'): ('829', '368'),\n",
       " ('829', '684'): ('368', '494'),\n",
       " ('722', '354'): ('368', '494'),\n",
       " ('494', '354'): ('368', '722'),\n",
       " ('494', '722'): ('368', '354')}"
      ]
     },
     "execution_count": 22,
     "metadata": {},
     "output_type": "execute_result"
    }
   ],
   "source": [
    "rules_2_to_2 = {}\n",
    "for rule in filtered_rules.keys():\n",
    "    lhs = rule[0]\n",
    "    rhs = rule[1]\n",
    "    for i in range(len(lhs)):\n",
    "        new_lhs = set(lhs) - {lhs[i]}\n",
    "        new_rhs = set([rhs]).union({lhs[i]})\n",
    "        rules_2_to_2[tuple(new_lhs)] = tuple(new_rhs)\n",
    "rules_2_to_2"
   ]
  },
  {
   "cell_type": "code",
   "execution_count": 23,
   "id": "diverse-latitude",
   "metadata": {},
   "outputs": [
    {
     "data": {
      "text/plain": [
       "{(('829', '217'), ('684', '368')): 0.065,\n",
       " (('684', '217'), ('829', '368')): 0.091,\n",
       " (('684', '829'), ('368', '494')): 0.06,\n",
       " (('684', '529'), ('829', '368')): 0.072,\n",
       " (('829', '722'), ('684', '368')): 0.071,\n",
       " (('829', '494'), ('684', '368')): 0.079,\n",
       " (('684', '494'), ('829', '368')): 0.101,\n",
       " (('829', '684'), ('368', '494')): 0.06,\n",
       " (('494', '354'), ('368', '722')): 0.063,\n",
       " (('494', '722'), ('368', '354')): 0.053}"
      ]
     },
     "execution_count": 23,
     "metadata": {},
     "output_type": "execute_result"
    }
   ],
   "source": [
    "min_c = 0.05\n",
    "confidences_2_to_2 = {}\n",
    "for lhs in rules_2_to_2:\n",
    "    support = total_dict[frozenset(lhs)]\n",
    "    rhs = rules_2_to_2[lhs]\n",
    "    union_lhs_rhs = frozenset(tuple(lhs+rhs))\n",
    "    if union_lhs_rhs in total_dict:\n",
    "        support_union = total_dict[union_lhs_rhs]\n",
    "        confidence = support_union/support\n",
    "        confidences_2_to_2[(lhs,rhs)] = round(confidence,3)\n",
    "    else: \n",
    "        print(\"Not in dictionary\")\n",
    "association_rules_at_least_c = {j[0]:j[1] for j in confidences_2_to_2.items() if j[1]>=min_c}\n",
    "association_rules_at_least_c"
   ]
  },
  {
   "cell_type": "code",
   "execution_count": 24,
   "id": "planned-iraqi",
   "metadata": {},
   "outputs": [
    {
     "data": {
      "text/plain": [
       "{('217',): ('829', '368', '684'),\n",
       " ('829',): ('684', '368', '494'),\n",
       " ('684',): ('829', '368', '494'),\n",
       " ('529',): ('829', '368', '684'),\n",
       " ('722',): ('368', '494', '354'),\n",
       " ('494',): ('368', '722', '354'),\n",
       " ('354',): ('368', '494', '722')}"
      ]
     },
     "execution_count": 24,
     "metadata": {},
     "output_type": "execute_result"
    }
   ],
   "source": [
    "# Then from (3)-->(1), we go to (2)-->(2) [size=4] and (1)-->(3) [size=4]\n",
    "rules_1_to_3 = {}\n",
    "for rule in association_rules_at_least_c.keys():\n",
    "    lhs = rule[0]\n",
    "    rhs = rule[1]\n",
    "    for i in range(len(lhs)):\n",
    "        new_lhs = set(lhs) - {lhs[i]}\n",
    "        new_rhs = set(rhs).union({lhs[i]})\n",
    "        rules_1_to_3[tuple(new_lhs)] = tuple(new_rhs)\n",
    "rules_1_to_3"
   ]
  },
  {
   "cell_type": "code",
   "execution_count": 25,
   "id": "confirmed-china",
   "metadata": {},
   "outputs": [
    {
     "data": {
      "text/plain": [
       "{(('217',), ('829', '368', '684')): 0.003,\n",
       " (('829',), ('684', '368', '494')): 0.003,\n",
       " (('684',), ('829', '368', '494')): 0.004,\n",
       " (('529',), ('829', '368', '684')): 0.003,\n",
       " (('722',), ('368', '494', '354')): 0.002,\n",
       " (('494',), ('368', '722', '354')): 0.002,\n",
       " (('354',), ('368', '494', '722')): 0.002}"
      ]
     },
     "execution_count": 25,
     "metadata": {},
     "output_type": "execute_result"
    }
   ],
   "source": [
    "min_c = 0\n",
    "confidences_1_to_3 = {}\n",
    "for lhs in rules_1_to_3:\n",
    "    support = total_dict[frozenset(lhs)]\n",
    "    rhs = rules_1_to_3[lhs]\n",
    "    union_lhs_rhs = frozenset(tuple(lhs+rhs))\n",
    "    if union_lhs_rhs in total_dict:\n",
    "        support_union = total_dict[union_lhs_rhs]\n",
    "        confidence = support_union/support\n",
    "        confidences_1_to_3[(lhs,rhs)] = round(confidence,3)\n",
    "    else: \n",
    "        print(\"Not in dictionary\")\n",
    "association_rules_at_least_c = {j[0]:j[1] for j in confidences_1_to_3.items() if j[1]>=min_c}\n",
    "association_rules_at_least_c"
   ]
  },
  {
   "cell_type": "code",
   "execution_count": 26,
   "id": "mathematical-mexico",
   "metadata": {},
   "outputs": [
    {
     "data": {
      "text/plain": [
       "{(('829', '217'), ('684', '368')): 0.065,\n",
       " (('684', '217'), ('829', '368')): 0.091,\n",
       " (('684', '829'), ('368', '494')): 0.06,\n",
       " (('684', '529'), ('829', '368')): 0.072,\n",
       " (('829', '722'), ('684', '368')): 0.071,\n",
       " (('829', '494'), ('684', '368')): 0.079,\n",
       " (('684', '494'), ('829', '368')): 0.101,\n",
       " (('829', '684'), ('368', '494')): 0.06,\n",
       " (('494', '354'), ('368', '722')): 0.063,\n",
       " (('494', '722'), ('368', '354')): 0.053}"
      ]
     },
     "execution_count": 26,
     "metadata": {},
     "output_type": "execute_result"
    }
   ],
   "source": [
    "min_c = 0.05\n",
    "confidences_2_to_2 = {}\n",
    "for lhs in rules_2_to_2:\n",
    "    support = total_dict[frozenset(lhs)]\n",
    "    rhs = rules_2_to_2[lhs]\n",
    "    union_lhs_rhs = frozenset(tuple(lhs+rhs))\n",
    "    if union_lhs_rhs in total_dict:\n",
    "        support_union = total_dict[union_lhs_rhs]\n",
    "        confidence = support_union/support\n",
    "        confidences_2_to_2[(lhs,rhs)] = round(confidence,3)\n",
    "    else: \n",
    "        print(\"Not in dictionary\")\n",
    "association_rules_at_least_c = {j[0]:j[1] for j in confidences_2_to_2.items() if j[1]>=min_c}\n",
    "association_rules_at_least_c"
   ]
  },
  {
   "cell_type": "code",
   "execution_count": 27,
   "id": "surgical-bicycle",
   "metadata": {},
   "outputs": [
    {
     "data": {
      "text/plain": [
       "{('217',): ('829', '368'),\n",
       " ('829',): ('368', '494'),\n",
       " ('684',): ('368', '494'),\n",
       " ('529',): ('829', '368'),\n",
       " ('722',): ('368', '354'),\n",
       " ('494',): ('368', '354'),\n",
       " ('354',): ('368', '722')}"
      ]
     },
     "execution_count": 27,
     "metadata": {},
     "output_type": "execute_result"
    }
   ],
   "source": [
    "# From (2)-->(2) we go to (1)-->(2) [size 3] \n",
    "rules_1_to_2 = {}\n",
    "for rule in association_rules_at_least_c.keys():\n",
    "    lhs = rule[0]\n",
    "    rhs = rule[1]\n",
    "    for i in range(len(lhs)):\n",
    "        new_lhs = set(lhs) - {lhs[i]}\n",
    "        new_rhs = set(rhs)\n",
    "        rules_1_to_2[tuple(new_lhs)] = tuple(new_rhs)\n",
    "rules_1_to_2"
   ]
  },
  {
   "cell_type": "code",
   "execution_count": 28,
   "id": "oriented-wrapping",
   "metadata": {},
   "outputs": [
    {
     "data": {
      "text/plain": [
       "{(('217',), ('829', '368')): 0.026,\n",
       " (('829',), ('368', '494')): 0.04,\n",
       " (('684',), ('368', '494')): 0.019,\n",
       " (('529',), ('829', '368')): 0.011,\n",
       " (('722',), ('368', '354')): 0.018,\n",
       " (('494',), ('368', '354')): 0.02,\n",
       " (('354',), ('368', '722')): 0.018}"
      ]
     },
     "execution_count": 28,
     "metadata": {},
     "output_type": "execute_result"
    }
   ],
   "source": [
    "min_c = 0\n",
    "confidences_1_to_2 = {}\n",
    "for lhs in rules_1_to_2:\n",
    "    support = total_dict[frozenset(lhs)]\n",
    "    rhs = rules_1_to_2[lhs]\n",
    "    union_lhs_rhs = frozenset(tuple(lhs+rhs))\n",
    "    if union_lhs_rhs in total_dict:\n",
    "        support_union = total_dict[union_lhs_rhs]\n",
    "        confidence = support_union/support\n",
    "        confidences_1_to_2[(lhs,rhs)] = round(confidence,3)\n",
    "    else: \n",
    "        print(\"Not in dictionary\")\n",
    "association_rules_at_least_c = {j[0]:j[1] for j in confidences_1_to_2.items() if j[1]>=min_c}\n",
    "association_rules_at_least_c"
   ]
  },
  {
   "cell_type": "code",
   "execution_count": null,
   "id": "peaceful-mechanism",
   "metadata": {},
   "outputs": [],
   "source": []
  }
 ],
 "metadata": {
  "kernelspec": {
   "display_name": "Python 3",
   "language": "python",
   "name": "python3"
  },
  "language_info": {
   "codemirror_mode": {
    "name": "ipython",
    "version": 3
   },
   "file_extension": ".py",
   "mimetype": "text/x-python",
   "name": "python",
   "nbconvert_exporter": "python",
   "pygments_lexer": "ipython3",
   "version": "3.8.5"
  }
 },
 "nbformat": 4,
 "nbformat_minor": 5
}
