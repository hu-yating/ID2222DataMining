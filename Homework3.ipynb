{
 "cells": [
  {
   "cell_type": "code",
   "execution_count": 19,
   "id": "attached-linux",
   "metadata": {},
   "outputs": [],
   "source": [
    "import pandas as pd\n",
    "data = pd.read_csv('web-NotreDame.txt', sep=\"\\t\", header=3)"
   ]
  },
  {
   "cell_type": "code",
   "execution_count": 20,
   "id": "intensive-evidence",
   "metadata": {},
   "outputs": [
    {
     "data": {
      "text/html": [
       "<div>\n",
       "<style scoped>\n",
       "    .dataframe tbody tr th:only-of-type {\n",
       "        vertical-align: middle;\n",
       "    }\n",
       "\n",
       "    .dataframe tbody tr th {\n",
       "        vertical-align: top;\n",
       "    }\n",
       "\n",
       "    .dataframe thead th {\n",
       "        text-align: right;\n",
       "    }\n",
       "</style>\n",
       "<table border=\"1\" class=\"dataframe\">\n",
       "  <thead>\n",
       "    <tr style=\"text-align: right;\">\n",
       "      <th></th>\n",
       "      <th># FromNodeId</th>\n",
       "      <th>ToNodeId</th>\n",
       "    </tr>\n",
       "  </thead>\n",
       "  <tbody>\n",
       "    <tr>\n",
       "      <th>0</th>\n",
       "      <td>0</td>\n",
       "      <td>0</td>\n",
       "    </tr>\n",
       "    <tr>\n",
       "      <th>1</th>\n",
       "      <td>0</td>\n",
       "      <td>1</td>\n",
       "    </tr>\n",
       "    <tr>\n",
       "      <th>2</th>\n",
       "      <td>0</td>\n",
       "      <td>2</td>\n",
       "    </tr>\n",
       "    <tr>\n",
       "      <th>3</th>\n",
       "      <td>0</td>\n",
       "      <td>3</td>\n",
       "    </tr>\n",
       "    <tr>\n",
       "      <th>4</th>\n",
       "      <td>0</td>\n",
       "      <td>4</td>\n",
       "    </tr>\n",
       "    <tr>\n",
       "      <th>...</th>\n",
       "      <td>...</td>\n",
       "      <td>...</td>\n",
       "    </tr>\n",
       "    <tr>\n",
       "      <th>1497129</th>\n",
       "      <td>325727</td>\n",
       "      <td>1018</td>\n",
       "    </tr>\n",
       "    <tr>\n",
       "      <th>1497130</th>\n",
       "      <td>325727</td>\n",
       "      <td>325726</td>\n",
       "    </tr>\n",
       "    <tr>\n",
       "      <th>1497131</th>\n",
       "      <td>325727</td>\n",
       "      <td>325728</td>\n",
       "    </tr>\n",
       "    <tr>\n",
       "      <th>1497132</th>\n",
       "      <td>325728</td>\n",
       "      <td>1018</td>\n",
       "    </tr>\n",
       "    <tr>\n",
       "      <th>1497133</th>\n",
       "      <td>325728</td>\n",
       "      <td>325727</td>\n",
       "    </tr>\n",
       "  </tbody>\n",
       "</table>\n",
       "<p>1497134 rows × 2 columns</p>\n",
       "</div>"
      ],
      "text/plain": [
       "         # FromNodeId  ToNodeId\n",
       "0                   0         0\n",
       "1                   0         1\n",
       "2                   0         2\n",
       "3                   0         3\n",
       "4                   0         4\n",
       "...               ...       ...\n",
       "1497129        325727      1018\n",
       "1497130        325727    325726\n",
       "1497131        325727    325728\n",
       "1497132        325728      1018\n",
       "1497133        325728    325727\n",
       "\n",
       "[1497134 rows x 2 columns]"
      ]
     },
     "execution_count": 20,
     "metadata": {},
     "output_type": "execute_result"
    }
   ],
   "source": [
    "data"
   ]
  },
  {
   "cell_type": "code",
   "execution_count": 30,
   "id": "unknown-minneapolis",
   "metadata": {},
   "outputs": [],
   "source": [
    "tuples = [frozenset(x) for x in data.to_numpy()] # list of frozenset including duplicates i.e. (0,1) and (1,0)"
   ]
  },
  {
   "cell_type": "code",
   "execution_count": 36,
   "id": "gross-gabriel",
   "metadata": {},
   "outputs": [
    {
     "data": {
      "text/plain": [
       "1497134"
      ]
     },
     "execution_count": 36,
     "metadata": {},
     "output_type": "execute_result"
    }
   ],
   "source": [
    "len(tuples)"
   ]
  },
  {
   "cell_type": "code",
   "execution_count": 38,
   "id": "otherwise-contract",
   "metadata": {
    "scrolled": false
   },
   "outputs": [
    {
     "data": {
      "text/plain": [
       "1117563"
      ]
     },
     "execution_count": 38,
     "metadata": {},
     "output_type": "execute_result"
    }
   ],
   "source": [
    "edges = list(set(tuples)) # list of frozensets without duplicates i.e. only (0,1) or (1,0) for undirected graph\n",
    "len(edges)"
   ]
  },
  {
   "cell_type": "code",
   "execution_count": null,
   "id": "everyday-sport",
   "metadata": {},
   "outputs": [],
   "source": []
  }
 ],
 "metadata": {
  "kernelspec": {
   "display_name": "Python [conda env:myenv] *",
   "language": "python",
   "name": "conda-env-myenv-py"
  },
  "language_info": {
   "codemirror_mode": {
    "name": "ipython",
    "version": 3
   },
   "file_extension": ".py",
   "mimetype": "text/x-python",
   "name": "python",
   "nbconvert_exporter": "python",
   "pygments_lexer": "ipython3",
   "version": "3.8.5"
  }
 },
 "nbformat": 4,
 "nbformat_minor": 5
}
