{
 "cells": [
  {
   "cell_type": "markdown",
   "id": "interstate-kansas",
   "metadata": {},
   "source": [
    "# Finding Similar Items: Textually Similar Documents"
   ]
  },
  {
   "cell_type": "code",
   "execution_count": 1,
   "id": "antique-active",
   "metadata": {},
   "outputs": [],
   "source": [
    "from numpy import unique\n",
    "from pandas import read_csv\n",
    "url = 'https://storage.googleapis.com/dataset-uploader/bbc/bbc-text.csv'\n",
    "df = read_csv(url)"
   ]
  },
  {
   "cell_type": "markdown",
   "id": "stone-flexibility",
   "metadata": {},
   "source": [
    "A class **Shingling** that constructs k–shingles of a given length k (e.g., 10) from a given document, computes a hash value for each unique shingle, and represents the document in the form of an ordered set of its hashed k-shingles."
   ]
  },
  {
   "cell_type": "code",
   "execution_count": 2,
   "id": "adaptive-highway",
   "metadata": {},
   "outputs": [],
   "source": [
    "import random, math\n",
    "class Shingling:\n",
    "   \n",
    "    def __init__(self, input_text, input_k):\n",
    "        self.text = input_text\n",
    "        self.k = input_k\n",
    "           \n",
    "    def shingles(self):\n",
    "        for line in self.text:\n",
    "            return {line[i:i + self.k] for i in range(len(line) - self.k + 1)} \n",
    "    \n",
    "    def ordered_hash(self, input_sh):\n",
    "        random.seed(111)\n",
    "        a = random.randint(0,100)\n",
    "        b = random.randint(0,100)        \n",
    "        # Convert string into int\n",
    "        return set(sorted(set((a*(int.from_bytes(x.encode(), 'little')) + \n",
    "                           b)%1039205197 for x in input_sh)))"
   ]
  },
  {
   "cell_type": "code",
   "execution_count": 3,
   "id": "guilty-honor",
   "metadata": {},
   "outputs": [],
   "source": [
    "import io\n",
    "sample_text = io.StringIO(\"This is a sample text. It is a ordinary string but simulated to act as the contents of a file\")\n",
    "# Construct 10-shingles\n",
    "sh = Shingling(sample_text,10) \n",
    "shingles = sh.shingles() \n",
    "# Ordered set of hashed 10-shingles\n",
    "ordered_set = sh.ordered_hash(shingles) "
   ]
  },
  {
   "cell_type": "markdown",
   "id": "above-queue",
   "metadata": {},
   "source": [
    "A class **CompareSets** that computes the Jaccard similarity of two sets of integers – two sets of hashed shingles."
   ]
  },
  {
   "cell_type": "code",
   "execution_count": null,
   "id": "broad-cholesterol",
   "metadata": {},
   "outputs": [],
   "source": []
  },
  {
   "cell_type": "markdown",
   "id": "focused-conditions",
   "metadata": {},
   "source": [
    "A class **MinHashing** that builds a minHash signature (in the form of a vector or a set) of a given length n from a given set of integers (a set of hashed shingles)."
   ]
  },
  {
   "cell_type": "code",
   "execution_count": 4,
   "id": "previous-jungle",
   "metadata": {},
   "outputs": [],
   "source": [
    "class MinHashing:\n",
    "\n",
    "    def __init__(self, input_set, input_n):\n",
    "        self.s = input_set\n",
    "        self.n = input_n\n",
    "\n",
    "    def hashing(self):\n",
    "        min_hash = [None] * self.n # Vector of length n\n",
    "        random.seed(111)\n",
    "        for n in range(self.n):\n",
    "            a = random.randint(0, 2**32-1) # Max shingle id\n",
    "            b = random.randint(0, 2**32-1)\n",
    "            vector = [None] * len(self.s) # Vector of length set hashed shingles\n",
    "            for i, value in enumerate(self.s):\n",
    "                hashcode = ((a * value + b) % 4294967311) # Make sure that prime > max shingle id\n",
    "                vector[i] = hashcode \n",
    "            min_hash[n] = min(vector)\n",
    "        return min_hash\n",
    "    "
   ]
  },
  {
   "cell_type": "code",
   "execution_count": 11,
   "id": "remarkable-water",
   "metadata": {},
   "outputs": [],
   "source": [
    "mh = MinHashing(ordered_set,20)\n",
    "minhash = mh.hashing()"
   ]
  },
  {
   "cell_type": "markdown",
   "id": "mature-johnston",
   "metadata": {},
   "source": [
    "A class **CompareSignatures** that estimates similarity of two integer vectors – minhash signatures – as a fraction of components, in which they agree."
   ]
  },
  {
   "cell_type": "code",
   "execution_count": 6,
   "id": "aware-balance",
   "metadata": {},
   "outputs": [],
   "source": [
    "class CompareSignatures:\n",
    "    def __init__(self, vector1, vector2):\n",
    "        self.v1 = vector1\n",
    "        self.v2 = vector2\n",
    "\n",
    "    def estimate(self):\n",
    "        count = 0\n",
    "        for i, elem in enumerate(self.v1):\n",
    "            if self.v1[i] == self.v2[i]: # Assumed that length of both vectors are the same\n",
    "                count += 1\n",
    "\n",
    "        return count/len(self.v1)"
   ]
  },
  {
   "cell_type": "code",
   "execution_count": 7,
   "id": "individual-plate",
   "metadata": {},
   "outputs": [],
   "source": [
    "mh1 = MinHashing(ordered_set,20).hashing()\n",
    "mh2 = MinHashing(ordered_set,20).hashing()"
   ]
  },
  {
   "cell_type": "code",
   "execution_count": 8,
   "id": "reliable-holly",
   "metadata": {},
   "outputs": [
    {
     "data": {
      "text/plain": [
       "1.0"
      ]
     },
     "execution_count": 8,
     "metadata": {},
     "output_type": "execute_result"
    }
   ],
   "source": [
    "CompareSignatures(mh1,mh2).estimate()"
   ]
  },
  {
   "cell_type": "markdown",
   "id": "supposed-burlington",
   "metadata": {},
   "source": [
    "(Optional task for extra 2 bonus) A class **LSH** that implements the LSH technique: given a collection of minhash signatures (integer vectors) and a similarity threshold t, the LSH class (using banding and hashing) finds candidate pairs of signatures agreeing on at least fraction t of their components."
   ]
  },
  {
   "cell_type": "code",
   "execution_count": null,
   "id": "indie-venue",
   "metadata": {},
   "outputs": [],
   "source": []
  }
 ],
 "metadata": {
  "kernelspec": {
   "display_name": "Python [conda env:myenv] *",
   "language": "python",
   "name": "conda-env-myenv-py"
  },
  "language_info": {
   "codemirror_mode": {
    "name": "ipython",
    "version": 3
   },
   "file_extension": ".py",
   "mimetype": "text/x-python",
   "name": "python",
   "nbconvert_exporter": "python",
   "pygments_lexer": "ipython3",
   "version": "3.8.5"
  }
 },
 "nbformat": 4,
 "nbformat_minor": 5
}
