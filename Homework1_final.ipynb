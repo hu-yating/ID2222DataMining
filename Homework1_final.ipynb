{
 "cells": [
  {
   "cell_type": "code",
   "execution_count": 1,
   "id": "dramatic-array",
   "metadata": {},
   "outputs": [],
   "source": [
    "from numpy import unique\n",
    "from pandas import read_csv\n",
    "url = 'https://storage.googleapis.com/dataset-uploader/bbc/bbc-text.csv'\n",
    "df = read_csv(url)"
   ]
  },
  {
   "cell_type": "markdown",
   "id": "identified-township",
   "metadata": {},
   "source": [
    "A class **Shingling** that constructs k–shingles of a given length k (e.g., 10) from a given document, computes a hash value for each unique shingle, and represents the document in the form of an ordered set of its hashed k-shingles."
   ]
  },
  {
   "cell_type": "code",
   "execution_count": 7,
   "id": "academic-handy",
   "metadata": {},
   "outputs": [],
   "source": [
    "import random, math\n",
    "class Shingling:\n",
    "   \n",
    "    def __init__(self, input_text, input_k):\n",
    "        self.text = input_text\n",
    "        self.k = input_k\n",
    "           \n",
    "\n",
    "    def shingles(self):\n",
    "        for line in self.text:\n",
    "            return {line[i:i + self.k] for i in range(len(line) - self.k + 1)} \n",
    "    \n",
    "    \n",
    "    def ordered_hash(self, input_sh):\n",
    "        a = random.randint(0,100)\n",
    "        b = random.randint(0,100)        #convert string into int\n",
    "        return set(sorted(set((a*(int.from_bytes(x.encode(), 'little')) + \n",
    "                           b)%1039205197 for x in input_sh)))"
   ]
  },
  {
   "cell_type": "code",
   "execution_count": 8,
   "id": "massive-society",
   "metadata": {},
   "outputs": [],
   "source": [
    "import io\n",
    "sample_text = io.StringIO(\"This is a sample text. It is a ordinary string but simulated to act as the contents of a file\")\n",
    "# Construct 10-shingles\n",
    "sh = Shingling(sample_text,10) \n",
    "shingles = sh.shingles() \n",
    "# Ordered set of hashed 10-shingles\n",
    "ordered_set = sh.ordered_hash(shingles) "
   ]
  },
  {
   "cell_type": "markdown",
   "id": "electronic-damage",
   "metadata": {},
   "source": [
    "A class **MinHashing** that builds a minHash signature (in the form of a vector or a set) of a given length n from a given set of integers (a set of hashed shingles)."
   ]
  },
  {
   "cell_type": "code",
   "execution_count": 11,
   "id": "direct-audience",
   "metadata": {},
   "outputs": [],
   "source": [
    "class MinHashing:\n",
    "\n",
    "    def __init__(self, input_set, input_n):\n",
    "        self.s = input_set\n",
    "        self.n = input_n\n",
    "\n",
    "    def hashing(self):\n",
    "        min_hash = [None] * self.n # Vector of length n\n",
    "        for n in range(self.n):\n",
    "            a = random.randint(0, 2**16-1)\n",
    "            b = random.randint(0, 2**16-1)\n",
    "            vector = [None] * len(self.s) # Vector of length set hashed shingles\n",
    "            for i, value in enumerate(self.s):\n",
    "                hashed = ((a * value + b) % 1039205197) % (2**16-1) # Hash shingle value\n",
    "                vector[i] = hashed \n",
    "            min_hash[n] = min(vector)\n",
    "        return min_hash"
   ]
  },
  {
   "cell_type": "code",
   "execution_count": 13,
   "id": "radio-studio",
   "metadata": {},
   "outputs": [
    {
     "data": {
      "text/plain": [
       "[1040, 634, 1524, 54, 389]"
      ]
     },
     "execution_count": 13,
     "metadata": {},
     "output_type": "execute_result"
    }
   ],
   "source": [
    "mh = MinHashing(ordered_set,5)\n",
    "mh.hashing()"
   ]
  },
  {
   "cell_type": "code",
   "execution_count": null,
   "id": "fatty-ontario",
   "metadata": {},
   "outputs": [],
   "source": []
  }
 ],
 "metadata": {
  "kernelspec": {
   "display_name": "Python [conda env:myenv] *",
   "language": "python",
   "name": "conda-env-myenv-py"
  },
  "language_info": {
   "codemirror_mode": {
    "name": "ipython",
    "version": 3
   },
   "file_extension": ".py",
   "mimetype": "text/x-python",
   "name": "python",
   "nbconvert_exporter": "python",
   "pygments_lexer": "ipython3",
   "version": "3.8.5"
  }
 },
 "nbformat": 4,
 "nbformat_minor": 5
}
