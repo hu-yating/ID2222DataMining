{
 "cells": [
  {
   "cell_type": "markdown",
   "id": "electric-tiger",
   "metadata": {},
   "source": [
    "# Finding Similar Items: Textually Similar Documents"
   ]
  },
  {
   "cell_type": "code",
   "execution_count": 40,
   "id": "interpreted-joyce",
   "metadata": {},
   "outputs": [],
   "source": [
    "from numpy import unique\n",
    "from pandas import read_csv\n",
    "url = 'https://storage.googleapis.com/dataset-uploader/bbc/bbc-text.csv'\n",
    "df = read_csv(url)"
   ]
  },
  {
   "cell_type": "code",
   "execution_count": 41,
   "id": "sporting-architect",
   "metadata": {},
   "outputs": [
    {
     "data": {
      "text/html": [
       "<div>\n",
       "<style scoped>\n",
       "    .dataframe tbody tr th:only-of-type {\n",
       "        vertical-align: middle;\n",
       "    }\n",
       "\n",
       "    .dataframe tbody tr th {\n",
       "        vertical-align: top;\n",
       "    }\n",
       "\n",
       "    .dataframe thead th {\n",
       "        text-align: right;\n",
       "    }\n",
       "</style>\n",
       "<table border=\"1\" class=\"dataframe\">\n",
       "  <thead>\n",
       "    <tr style=\"text-align: right;\">\n",
       "      <th></th>\n",
       "      <th>category</th>\n",
       "      <th>text</th>\n",
       "    </tr>\n",
       "  </thead>\n",
       "  <tbody>\n",
       "    <tr>\n",
       "      <th>0</th>\n",
       "      <td>tech</td>\n",
       "      <td>tv future in the hands of viewers with home th...</td>\n",
       "    </tr>\n",
       "    <tr>\n",
       "      <th>1</th>\n",
       "      <td>business</td>\n",
       "      <td>worldcom boss  left books alone  former worldc...</td>\n",
       "    </tr>\n",
       "    <tr>\n",
       "      <th>2</th>\n",
       "      <td>sport</td>\n",
       "      <td>tigers wary of farrell  gamble  leicester say ...</td>\n",
       "    </tr>\n",
       "    <tr>\n",
       "      <th>3</th>\n",
       "      <td>sport</td>\n",
       "      <td>yeading face newcastle in fa cup premiership s...</td>\n",
       "    </tr>\n",
       "    <tr>\n",
       "      <th>4</th>\n",
       "      <td>entertainment</td>\n",
       "      <td>ocean s twelve raids box office ocean s twelve...</td>\n",
       "    </tr>\n",
       "  </tbody>\n",
       "</table>\n",
       "</div>"
      ],
      "text/plain": [
       "        category                                               text\n",
       "0           tech  tv future in the hands of viewers with home th...\n",
       "1       business  worldcom boss  left books alone  former worldc...\n",
       "2          sport  tigers wary of farrell  gamble  leicester say ...\n",
       "3          sport  yeading face newcastle in fa cup premiership s...\n",
       "4  entertainment  ocean s twelve raids box office ocean s twelve..."
      ]
     },
     "execution_count": 41,
     "metadata": {},
     "output_type": "execute_result"
    }
   ],
   "source": [
    "df.head()"
   ]
  },
  {
   "cell_type": "code",
   "execution_count": 42,
   "id": "seven-encyclopedia",
   "metadata": {},
   "outputs": [
    {
     "data": {
      "text/plain": [
       "0    tv future in the hands of viewers with home th...\n",
       "1    worldcom boss  left books alone  former worldc...\n",
       "2    tigers wary of farrell  gamble  leicester say ...\n",
       "3    yeading face newcastle in fa cup premiership s...\n",
       "4    ocean s twelve raids box office ocean s twelve...\n",
       "5    howard hits back at mongrel jibe michael howar...\n",
       "6    blair prepares to name poll date tony blair is...\n",
       "7    henman hopes ended in dubai third seed tim hen...\n",
       "8    wilkinson fit to face edinburgh england captai...\n",
       "9    last star wars  not for children  the sixth an...\n",
       "Name: text, dtype: object"
      ]
     },
     "execution_count": 42,
     "metadata": {},
     "output_type": "execute_result"
    }
   ],
   "source": [
    "df_len_10 = df['text'].iloc[:10] # First 10 corpus\n",
    "df_len_10"
   ]
  },
  {
   "cell_type": "markdown",
   "id": "involved-chester",
   "metadata": {},
   "source": [
    "A class **Shingling** that constructs k–shingles of a given length k (e.g., 10) from a given document, computes a hash value for each unique shingle, and represents the document in the form of an ordered set of its hashed k-shingles."
   ]
  },
  {
   "cell_type": "code",
   "execution_count": 43,
   "id": "spectacular-onion",
   "metadata": {},
   "outputs": [],
   "source": [
    "import random, math\n",
    "class Shingling:\n",
    "   \n",
    "    def __init__(self, input_text, input_k):\n",
    "        self.text = input_text\n",
    "        self.k = input_k\n",
    "           \n",
    "    def shingles(self):\n",
    "        for line in self.text:\n",
    "            return {line[i:i + self.k] for i in range(len(line) - self.k + 1)} \n",
    "    \n",
    "    def ordered_hash(self, input_sh):\n",
    "        random.seed(111)\n",
    "        a = random.randint(0,100)\n",
    "        b = random.randint(0,100)        \n",
    "        # Convert string into int\n",
    "        return set(sorted(set((a*(int.from_bytes(x.encode(), 'little')) + \n",
    "                           b)%1039205197 for x in input_sh)))"
   ]
  },
  {
   "cell_type": "code",
   "execution_count": 44,
   "id": "biblical-cigarette",
   "metadata": {},
   "outputs": [],
   "source": [
    "import io\n",
    "sample_text = io.StringIO(df_len_10[0])\n",
    "# Construct 10-shingles\n",
    "sh = Shingling(sample_text,10) \n",
    "shingles = sh.shingles() \n",
    "# Ordered set of hashed 100-shingles\n",
    "ordered_set = sh.ordered_hash(shingles) "
   ]
  },
  {
   "cell_type": "code",
   "execution_count": 45,
   "id": "awful-idaho",
   "metadata": {},
   "outputs": [],
   "source": [
    "sets = []\n",
    "for i in range(2):\n",
    "    sample_text = io.StringIO(df_len_10[i])\n",
    "    # Construct 10-shingles\n",
    "    sh = Shingling(sample_text,10) \n",
    "    shingles = sh.shingles() \n",
    "    # Ordered set of hashed 100-shingles\n",
    "    ordered_set = sh.ordered_hash(shingles)\n",
    "    sets.append(ordered_set)"
   ]
  },
  {
   "cell_type": "markdown",
   "id": "wooden-decade",
   "metadata": {},
   "source": [
    "A class **CompareSets** that computes the Jaccard similarity of two sets of integers – two sets of hashed shingles."
   ]
  },
  {
   "cell_type": "code",
   "execution_count": null,
   "id": "efficient-train",
   "metadata": {},
   "outputs": [],
   "source": []
  },
  {
   "cell_type": "markdown",
   "id": "facial-ordinance",
   "metadata": {},
   "source": [
    "A class **MinHashing** that builds a minHash signature (in the form of a vector or a set) of a given length n from a given set of integers (a set of hashed shingles)."
   ]
  },
  {
   "cell_type": "code",
   "execution_count": 46,
   "id": "visible-athletics",
   "metadata": {},
   "outputs": [],
   "source": [
    "class MinHashing:\n",
    "\n",
    "    def __init__(self, input_set, input_n):\n",
    "        self.s = input_set\n",
    "        self.n = input_n\n",
    "\n",
    "    def hashing(self):\n",
    "        min_hash = [None] * self.n # Vector of length n\n",
    "        random.seed(111)\n",
    "        for n in range(self.n):\n",
    "            a = random.randint(0, 2**32-1) # Max shingle id\n",
    "            b = random.randint(0, 2**32-1)\n",
    "            vector = [None] * len(self.s) # Vector of length set hashed shingles\n",
    "            for i, value in enumerate(self.s):\n",
    "                hashcode = ((a * value + b) % 4294967311) # Make sure that prime > max shingle id\n",
    "                vector[i] = hashcode \n",
    "            min_hash[n] = min(vector)\n",
    "        return min_hash\n",
    "    "
   ]
  },
  {
   "cell_type": "code",
   "execution_count": 47,
   "id": "binding-documentation",
   "metadata": {},
   "outputs": [],
   "source": [
    "mh = MinHashing(ordered_set,20)\n",
    "minhash = mh.hashing()"
   ]
  },
  {
   "cell_type": "markdown",
   "id": "competent-torture",
   "metadata": {},
   "source": [
    "A class **CompareSignatures** that estimates similarity of two integer vectors – minhash signatures – as a fraction of components, in which they agree."
   ]
  },
  {
   "cell_type": "code",
   "execution_count": 48,
   "id": "innocent-dynamics",
   "metadata": {},
   "outputs": [],
   "source": [
    "class CompareSignatures:\n",
    "    def __init__(self, vector1, vector2):\n",
    "        self.v1 = vector1\n",
    "        self.v2 = vector2\n",
    "\n",
    "    def estimate(self):\n",
    "        count = 0\n",
    "        for i, elem in enumerate(self.v1):\n",
    "            if self.v1[i] == self.v2[i]: # Assumed that length of both vectors are the same\n",
    "                count += 1\n",
    "\n",
    "        return count/len(self.v1)"
   ]
  },
  {
   "cell_type": "code",
   "execution_count": 49,
   "id": "colored-spoke",
   "metadata": {},
   "outputs": [],
   "source": [
    "mh1 = MinHashing(sets[0],20).hashing()\n",
    "mh2 = MinHashing(sets[1],20).hashing()"
   ]
  },
  {
   "cell_type": "code",
   "execution_count": 51,
   "id": "executive-wrestling",
   "metadata": {},
   "outputs": [
    {
     "data": {
      "text/plain": [
       "1.0"
      ]
     },
     "execution_count": 51,
     "metadata": {},
     "output_type": "execute_result"
    }
   ],
   "source": [
    "CompareSignatures(mh1,mh1).estimate()"
   ]
  },
  {
   "cell_type": "code",
   "execution_count": 52,
   "id": "satisfactory-meaning",
   "metadata": {},
   "outputs": [
    {
     "data": {
      "text/plain": [
       "0.0"
      ]
     },
     "execution_count": 52,
     "metadata": {},
     "output_type": "execute_result"
    }
   ],
   "source": [
    "CompareSignatures(mh1,mh2).estimate()"
   ]
  },
  {
   "cell_type": "markdown",
   "id": "treated-launch",
   "metadata": {},
   "source": [
    "(Optional task for extra 2 bonus) A class **LSH** that implements the LSH technique: given a collection of minhash signatures (integer vectors) and a similarity threshold t, the LSH class (using banding and hashing) finds candidate pairs of signatures agreeing on at least fraction t of their components."
   ]
  },
  {
   "cell_type": "code",
   "execution_count": null,
   "id": "sporting-colonial",
   "metadata": {},
   "outputs": [],
   "source": []
  }
 ],
 "metadata": {
  "kernelspec": {
   "display_name": "Python [conda env:myenv] *",
   "language": "python",
   "name": "conda-env-myenv-py"
  },
  "language_info": {
   "codemirror_mode": {
    "name": "ipython",
    "version": 3
   },
   "file_extension": ".py",
   "mimetype": "text/x-python",
   "name": "python",
   "nbconvert_exporter": "python",
   "pygments_lexer": "ipython3",
   "version": "3.8.5"
  }
 },
 "nbformat": 4,
 "nbformat_minor": 5
}
