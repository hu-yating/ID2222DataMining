{
 "cells": [
  {
   "cell_type": "markdown",
   "id": "handled-spirituality",
   "metadata": {},
   "source": [
    "# Discovery of Frequent Itemsets and Association Rules"
   ]
  },
  {
   "cell_type": "markdown",
   "id": "differential-school",
   "metadata": {},
   "source": [
    "The problem of discovering association rules between itemsets in a sales transaction database (a set of baskets) includes the following two sub-problems:\n",
    "\n",
    "1. Finding frequent itemsets with support at least s;\n",
    "2. Generating association rules with confidence at least c from the itemsets found in the first step.\n",
    "Remind that an association rule is an implication X → Y, where X and Y are itemsets such that X∩Y=∅. Support of the rule X → Y is the number of transactions that contain X⋃Y. Confidence of the rule X → Y the fraction of transactions containing X⋃Y in all transactions that contain X."
   ]
  },
  {
   "cell_type": "markdown",
   "id": "efficient-carbon",
   "metadata": {},
   "source": [
    "You are to solve the first sub-problem: to implement the A-Priori algorithm for finding frequent itemsets with support at least s in a dataset of sales transactions. Remind that support of an itemset is the number of transactions containing the itemset. To test and evaluate your implementation, write a program that uses your A-Priori algorithm implementation to discover frequent itemsets with support at least s in a given dataset of sales transactions."
   ]
  },
  {
   "cell_type": "markdown",
   "id": "dynamic-windsor",
   "metadata": {},
   "source": [
    "The sale transaction dataset includes generated transactions (baskets) of hashed items (see Canvas)."
   ]
  },
  {
   "cell_type": "code",
   "execution_count": 26,
   "id": "seven-toyota",
   "metadata": {},
   "outputs": [
    {
     "data": {
      "text/plain": [
       "100000"
      ]
     },
     "execution_count": 26,
     "metadata": {},
     "output_type": "execute_result"
    }
   ],
   "source": [
    "baskets = [i.strip().split() for i in open(\"T10I4D100K.dat\").readlines()]\n",
    "len(baskets)"
   ]
  },
  {
   "cell_type": "code",
   "execution_count": 6,
   "id": "liked-tension",
   "metadata": {},
   "outputs": [],
   "source": [
    "transactions = {} # Dictionary with transaction ID as key, and basket as value\n",
    "count = 0\n",
    "for basket in baskets:\n",
    "    count += 1\n",
    "    transactions[count] = basket\n"
   ]
  },
  {
   "cell_type": "code",
   "execution_count": 7,
   "id": "associate-attempt",
   "metadata": {},
   "outputs": [],
   "source": [
    "items = set() # Set of items from all baskets\n",
    "for i in transactions.values():\n",
    "    for j in i:\n",
    "        items.add(j) "
   ]
  },
  {
   "cell_type": "code",
   "execution_count": 133,
   "id": "presidential-profile",
   "metadata": {},
   "outputs": [],
   "source": [
    "# Count the frequency of each item\n",
    "def freq(k,items, transactions):\n",
    "    items_counts = dict() # Dictionary of item and its frequency\n",
    "    for i in items:\n",
    "        if k == 1:\n",
    "            temp_i = {i}\n",
    "        else:\n",
    "            temp_i = set(i)\n",
    "            \n",
    "        for j in transactions.items(): # and basket\n",
    "            if temp_i.issubset(set(j[1])): # if item is in basket\n",
    "                if i in items_counts:\n",
    "                    items_counts[i] += 1 # If already spotted/already in item-freq dict, add 1 to count\n",
    "                else:\n",
    "                    items_counts[i] = 1 # If not spotted yet, set count to 1\n",
    "    return items_counts"
   ]
  },
  {
   "cell_type": "code",
   "execution_count": 134,
   "id": "according-manhattan",
   "metadata": {},
   "outputs": [],
   "source": [
    "items_counts = freq(1,items, transactions)"
   ]
  },
  {
   "cell_type": "code",
   "execution_count": 106,
   "id": "useful-impact",
   "metadata": {},
   "outputs": [],
   "source": [
    "def support(items_counts, transactions):\n",
    "    support = dict()\n",
    "    for i in items_counts:\n",
    "        support[i] = items_counts[i]/len(transactions) # Support = #transactions in which item appears/#total transactions\n",
    "    return support   #Support for itemset I is the number of baskets containing all items in I-->i thought the same as you"
   ]
  },
  {
   "cell_type": "code",
   "execution_count": 21,
   "id": "searching-pride",
   "metadata": {},
   "outputs": [],
   "source": [
    "min_support = 0.05\n",
    "items_atleast_min_support = [{j[0]:j[1] for j in support(items_counts, transactions).items() if j[1]>=min_support}]"
   ]
  },
  {
   "cell_type": "code",
   "execution_count": 22,
   "id": "configured-punch",
   "metadata": {},
   "outputs": [
    {
     "data": {
      "text/plain": [
       "[{'829': 0.0681,\n",
       "  '684': 0.05408,\n",
       "  '354': 0.05835,\n",
       "  '722': 0.05845,\n",
       "  '217': 0.05375,\n",
       "  '529': 0.07057,\n",
       "  '419': 0.05057,\n",
       "  '766': 0.06265,\n",
       "  '368': 0.07828,\n",
       "  '494': 0.05102}]"
      ]
     },
     "execution_count": 22,
     "metadata": {},
     "output_type": "execute_result"
    }
   ],
   "source": [
    "items_atleast_min_support"
   ]
  },
  {
   "cell_type": "code",
   "execution_count": 137,
   "id": "dcb17b6e",
   "metadata": {},
   "outputs": [
    {
     "data": {
      "text/plain": [
       "['829', '684', '354', '722', '217', '529', '419', '766', '368', '494']"
      ]
     },
     "execution_count": 137,
     "metadata": {},
     "output_type": "execute_result"
    }
   ],
   "source": [
    "#different support\n",
    "s_min = 5000\n",
    "L1 = [{j[0]:j[1] for j in freq(1,items, transactions).items() if j[1]>=s_min}]\n",
    "list(L1[0].keys())"
   ]
  },
  {
   "cell_type": "code",
   "execution_count": 138,
   "id": "a05306c8",
   "metadata": {},
   "outputs": [],
   "source": [
    "from itertools import combinations\n",
    "\n",
    "#candidates of len-k which are generated by combining itemsets from L_k-1 and L_1\n",
    "def C_k(k, prev_freq):\n",
    "    combs = combinations(list(set(prev_freq[0].keys()).union(set(L1[0].keys()))), k)\n",
    "    cand = list(combs)\n",
    "    return cand\n",
    "cand2 = C_k(2,L1)"
   ]
  },
  {
   "cell_type": "code",
   "execution_count": 148,
   "id": "5848f68c",
   "metadata": {},
   "outputs": [
    {
     "data": {
      "text/plain": [
       "[{('684', '217'): 198,\n",
       "  ('684', '529'): 334,\n",
       "  ('684', '354'): 219,\n",
       "  ('684', '419'): 155,\n",
       "  ('684', '494'): 208,\n",
       "  ('684', '766'): 613,\n",
       "  ('684', '829'): 349,\n",
       "  ('684', '368'): 387,\n",
       "  ('684', '722'): 443,\n",
       "  ('217', '529'): 403,\n",
       "  ('217', '354'): 280,\n",
       "  ('217', '419'): 344,\n",
       "  ('217', '494'): 183,\n",
       "  ('217', '766'): 276,\n",
       "  ('217', '829'): 275,\n",
       "  ('217', '368'): 303,\n",
       "  ('217', '722'): 498,\n",
       "  ('529', '354'): 301,\n",
       "  ('529', '419'): 252,\n",
       "  ('529', '494'): 225,\n",
       "  ('529', '766'): 317,\n",
       "  ('529', '829'): 584,\n",
       "  ('529', '368'): 640,\n",
       "  ('529', '722'): 283,\n",
       "  ('354', '419'): 263,\n",
       "  ('354', '494'): 189,\n",
       "  ('354', '766'): 329,\n",
       "  ('354', '829'): 259,\n",
       "  ('354', '368'): 319,\n",
       "  ('354', '722'): 566,\n",
       "  ('419', '494'): 176,\n",
       "  ('419', '766'): 238,\n",
       "  ('419', '829'): 259,\n",
       "  ('419', '368'): 355,\n",
       "  ('419', '722'): 366,\n",
       "  ('494', '766'): 227,\n",
       "  ('494', '829'): 267,\n",
       "  ('494', '368'): 860,\n",
       "  ('494', '722'): 226,\n",
       "  ('766', '829'): 321,\n",
       "  ('766', '368'): 504,\n",
       "  ('766', '722'): 328,\n",
       "  ('829', '368'): 1194,\n",
       "  ('829', '722'): 294,\n",
       "  ('368', '722'): 392}]"
      ]
     },
     "execution_count": 148,
     "metadata": {},
     "output_type": "execute_result"
    }
   ],
   "source": [
    "def L_k(k, candidates, threshold):\n",
    "    \n",
    "    for i in candidates: # Check for every item\n",
    "        for j in i:\n",
    "            temp_list = []\n",
    "            temp_list.append(j)\n",
    "\n",
    "        temp_i = set(temp_list)  #for each item check if it belongs to a transaction\n",
    "\n",
    "    \n",
    "    Lk = [{j[0]:j[1] for j in freq(k,candidates, transactions).items() if j[1]>=threshold}]\n",
    "    \n",
    "    return Lk\n",
    "L2 = L_k(2, cand2, 100)\n",
    "L2"
   ]
  },
  {
   "cell_type": "markdown",
   "id": "rough-packet",
   "metadata": {},
   "source": [
    "Optional task for extra bonus: Solve the second sub-problem, i.e., develop and implement an algorithm for generating association rules between frequent itemsets discovered by using the A-Priori algorithm in a dataset of sales transactions. The rules must have support at least s and confidence at least c, where s and c are given as input parameters."
   ]
  },
  {
   "cell_type": "code",
   "execution_count": null,
   "id": "d5f87671",
   "metadata": {},
   "outputs": [],
   "source": []
  }
 ],
 "metadata": {
  "kernelspec": {
   "display_name": "Python 3",
   "language": "python",
   "name": "python3"
  },
  "language_info": {
   "codemirror_mode": {
    "name": "ipython",
    "version": 3
   },
   "file_extension": ".py",
   "mimetype": "text/x-python",
   "name": "python",
   "nbconvert_exporter": "python",
   "pygments_lexer": "ipython3",
   "version": "3.8.8"
  }
 },
 "nbformat": 4,
 "nbformat_minor": 5
}
