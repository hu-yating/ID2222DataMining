{
 "cells": [
  {
   "cell_type": "markdown",
   "id": "handled-spirituality",
   "metadata": {},
   "source": [
    "# Discovery of Frequent Itemsets and Association Rules"
   ]
  },
  {
   "cell_type": "markdown",
   "id": "differential-school",
   "metadata": {},
   "source": [
    "The problem of discovering association rules between itemsets in a sales transaction database (a set of baskets) includes the following two sub-problems:\n",
    "\n",
    "1. Finding frequent itemsets with support at least s;\n",
    "2. Generating association rules with confidence at least c from the itemsets found in the first step.\n",
    "Remind that an association rule is an implication X → Y, where X and Y are itemsets such that X∩Y=∅. Support of the rule X → Y is the number of transactions that contain X⋃Y. Confidence of the rule X → Y the fraction of transactions containing X⋃Y in all transactions that contain X."
   ]
  },
  {
   "cell_type": "markdown",
   "id": "efficient-carbon",
   "metadata": {},
   "source": [
    "You are to solve the first sub-problem: to implement the A-Priori algorithm for finding frequent itemsets with support at least s in a dataset of sales transactions. Remind that support of an itemset is the number of transactions containing the itemset. To test and evaluate your implementation, write a program that uses your A-Priori algorithm implementation to discover frequent itemsets with support at least s in a given dataset of sales transactions."
   ]
  },
  {
   "cell_type": "markdown",
   "id": "dynamic-windsor",
   "metadata": {},
   "source": [
    "The sale transaction dataset includes generated transactions (baskets) of hashed items (see Canvas)."
   ]
  },
  {
   "cell_type": "code",
   "execution_count": 1,
   "id": "seven-toyota",
   "metadata": {},
   "outputs": [],
   "source": [
    "baskets = [i.strip().split() for i in open(\"T10I4D100K.dat\").readlines()]"
   ]
  },
  {
   "cell_type": "code",
   "execution_count": 2,
   "id": "liked-tension",
   "metadata": {},
   "outputs": [],
   "source": [
    "transactions = {} # Dictionary with transaction ID as key, and basket as value\n",
    "count = 0\n",
    "for basket in baskets:\n",
    "    count += 1\n",
    "    transactions[count] = basket"
   ]
  },
  {
   "cell_type": "code",
   "execution_count": 3,
   "id": "associate-attempt",
   "metadata": {},
   "outputs": [],
   "source": [
    "items = set() # Set of items from all baskets\n",
    "for i in transactions.values():\n",
    "    for j in i:\n",
    "        items.add(j) "
   ]
  },
  {
   "cell_type": "code",
   "execution_count": 31,
   "id": "presidential-profile",
   "metadata": {},
   "outputs": [],
   "source": [
    "# Count the frequency of each item\n",
    "def freq(items, transactions):\n",
    "    items_counts = dict() # Dictionary of item and its frequency\n",
    "    for i in items: # Check for every item\n",
    "        temp_i = {i}\n",
    "        for j in transactions.items(): # and basket\n",
    "            if temp_i.issubset(set(j[1])): # if item is in basket\n",
    "                if i in items_counts:\n",
    "                    items_counts[i] += 1 # If already spotted, add 1 to count\n",
    "                else:\n",
    "                    items_counts[i] = 1 # If not spotted yet, set count to 1\n",
    "    return items_counts"
   ]
  },
  {
   "cell_type": "code",
   "execution_count": 5,
   "id": "according-manhattan",
   "metadata": {},
   "outputs": [],
   "source": [
    "items_counts = freq(items, transactions)"
   ]
  },
  {
   "cell_type": "code",
   "execution_count": 6,
   "id": "useful-impact",
   "metadata": {},
   "outputs": [],
   "source": [
    "def support(items_counts, transactions):\n",
    "    support = dict()\n",
    "    for i in items_counts:\n",
    "        support[i] = items_counts[i]/len(transactions) # Support = #transactions in which item appears/#total transactions\n",
    "    return support"
   ]
  },
  {
   "cell_type": "code",
   "execution_count": 7,
   "id": "searching-pride",
   "metadata": {},
   "outputs": [],
   "source": [
    "min_support = 0.05\n",
    "items_atleast_min_support = [{j[0]:j[1] for j in support(items_counts, transactions).items() if j[1]>=min_support}]"
   ]
  },
  {
   "cell_type": "code",
   "execution_count": 8,
   "id": "configured-punch",
   "metadata": {},
   "outputs": [
    {
     "data": {
      "text/plain": [
       "[{'529': 0.07057,\n",
       "  '684': 0.05408,\n",
       "  '419': 0.05057,\n",
       "  '722': 0.05845,\n",
       "  '829': 0.0681,\n",
       "  '766': 0.06265,\n",
       "  '354': 0.05835,\n",
       "  '494': 0.05102,\n",
       "  '217': 0.05375,\n",
       "  '368': 0.07828}]"
      ]
     },
     "execution_count": 8,
     "metadata": {},
     "output_type": "execute_result"
    }
   ],
   "source": [
    "items_atleast_min_support"
   ]
  },
  {
   "cell_type": "markdown",
   "id": "rough-packet",
   "metadata": {},
   "source": [
    "Optional task for extra bonus: Solve the second sub-problem, i.e., develop and implement an algorithm for generating association rules between frequent itemsets discovered by using the A-Priori algorithm in a dataset of sales transactions. The rules must have support at least s and confidence at least c, where s and c are given as input parameters."
   ]
  },
  {
   "cell_type": "code",
   "execution_count": null,
   "id": "heavy-party",
   "metadata": {},
   "outputs": [],
   "source": []
  }
 ],
 "metadata": {
  "kernelspec": {
   "display_name": "Python [conda env:myenv] *",
   "language": "python",
   "name": "conda-env-myenv-py"
  },
  "language_info": {
   "codemirror_mode": {
    "name": "ipython",
    "version": 3
   },
   "file_extension": ".py",
   "mimetype": "text/x-python",
   "name": "python",
   "nbconvert_exporter": "python",
   "pygments_lexer": "ipython3",
   "version": "3.8.5"
  }
 },
 "nbformat": 4,
 "nbformat_minor": 5
}
